{
  "nbformat": 4,
  "nbformat_minor": 0,
  "metadata": {
    "colab": {
      "name": "Choosing_parameters_to_optimize_models.ipynb",
      "provenance": [],
      "authorship_tag": "ABX9TyMmyQz0ODhM0Kh2DYne+B4b",
      "include_colab_link": true
    },
    "kernelspec": {
      "name": "python3",
      "display_name": "Python 3"
    },
    "language_info": {
      "name": "python"
    }
  },
  "cells": [
    {
      "cell_type": "markdown",
      "metadata": {
        "id": "view-in-github",
        "colab_type": "text"
      },
      "source": [
        "<a href=\"https://colab.research.google.com/github/MarceloPiemonteRibeiro/learning-Machine-learning/blob/main/Optimization/Choosing_parameters_to_optimize_models.ipynb\" target=\"_parent\"><img src=\"https://colab.research.google.com/assets/colab-badge.svg\" alt=\"Open In Colab\"/></a>"
      ]
    },
    {
      "cell_type": "markdown",
      "source": [
        "Source: [Allura course](https://cursos.alura.com.br/course/machine-learning-otimizacao-de-modelos-atraves-de-hiperparametros) about ML, overfit and hiper parameters"
      ],
      "metadata": {
        "id": "t1Po6q05hcza"
      }
    },
    {
      "cell_type": "markdown",
      "source": [
        "# Data and models perfomed in the notebook Cross_Validation_Optimization"
      ],
      "metadata": {
        "id": "vtzD3V_TfKBI"
      }
    },
    {
      "cell_type": "code",
      "source": [
        "!pip install graphviz==0.9\n",
        "!pip install pydot\n",
        "!pip install seaborn==0.11.2\n",
        "!apt-get install grapviz\n",
        "!pip install seaborn==0.9.1"
      ],
      "metadata": {
        "colab": {
          "base_uri": "https://localhost:8080/",
          "height": 1000
        },
        "id": "ZWUEKhj7kLUJ",
        "outputId": "a8f6fedf-5848-43f9-c02f-82493da88787"
      },
      "execution_count": 111,
      "outputs": [
        {
          "output_type": "stream",
          "name": "stdout",
          "text": [
            "Looking in indexes: https://pypi.org/simple, https://us-python.pkg.dev/colab-wheels/public/simple/\n",
            "Requirement already satisfied: graphviz==0.9 in /usr/local/lib/python3.7/dist-packages (0.9)\n",
            "Looking in indexes: https://pypi.org/simple, https://us-python.pkg.dev/colab-wheels/public/simple/\n",
            "Requirement already satisfied: pydot in /usr/local/lib/python3.7/dist-packages (1.3.0)\n",
            "Requirement already satisfied: pyparsing>=2.1.4 in /usr/local/lib/python3.7/dist-packages (from pydot) (3.0.9)\n",
            "Looking in indexes: https://pypi.org/simple, https://us-python.pkg.dev/colab-wheels/public/simple/\n",
            "Collecting seaborn==0.11.2\n",
            "  Using cached seaborn-0.11.2-py3-none-any.whl (292 kB)\n",
            "Requirement already satisfied: numpy>=1.15 in /usr/local/lib/python3.7/dist-packages (from seaborn==0.11.2) (1.21.6)\n",
            "Requirement already satisfied: scipy>=1.0 in /usr/local/lib/python3.7/dist-packages (from seaborn==0.11.2) (1.7.3)\n",
            "Requirement already satisfied: pandas>=0.23 in /usr/local/lib/python3.7/dist-packages (from seaborn==0.11.2) (1.3.5)\n",
            "Requirement already satisfied: matplotlib>=2.2 in /usr/local/lib/python3.7/dist-packages (from seaborn==0.11.2) (3.2.2)\n",
            "Requirement already satisfied: cycler>=0.10 in /usr/local/lib/python3.7/dist-packages (from matplotlib>=2.2->seaborn==0.11.2) (0.11.0)\n",
            "Requirement already satisfied: kiwisolver>=1.0.1 in /usr/local/lib/python3.7/dist-packages (from matplotlib>=2.2->seaborn==0.11.2) (1.4.4)\n",
            "Requirement already satisfied: pyparsing!=2.0.4,!=2.1.2,!=2.1.6,>=2.0.1 in /usr/local/lib/python3.7/dist-packages (from matplotlib>=2.2->seaborn==0.11.2) (3.0.9)\n",
            "Requirement already satisfied: python-dateutil>=2.1 in /usr/local/lib/python3.7/dist-packages (from matplotlib>=2.2->seaborn==0.11.2) (2.8.2)\n",
            "Requirement already satisfied: typing-extensions in /usr/local/lib/python3.7/dist-packages (from kiwisolver>=1.0.1->matplotlib>=2.2->seaborn==0.11.2) (4.1.1)\n",
            "Requirement already satisfied: pytz>=2017.3 in /usr/local/lib/python3.7/dist-packages (from pandas>=0.23->seaborn==0.11.2) (2022.1)\n",
            "Requirement already satisfied: six>=1.5 in /usr/local/lib/python3.7/dist-packages (from python-dateutil>=2.1->matplotlib>=2.2->seaborn==0.11.2) (1.15.0)\n",
            "Installing collected packages: seaborn\n",
            "  Attempting uninstall: seaborn\n",
            "    Found existing installation: seaborn 0.9.1\n",
            "    Uninstalling seaborn-0.9.1:\n",
            "      Successfully uninstalled seaborn-0.9.1\n",
            "Successfully installed seaborn-0.11.2\n"
          ]
        },
        {
          "output_type": "display_data",
          "data": {
            "application/vnd.colab-display-data+json": {
              "pip_warning": {
                "packages": [
                  "seaborn"
                ]
              }
            }
          },
          "metadata": {}
        },
        {
          "output_type": "stream",
          "name": "stdout",
          "text": [
            "Reading package lists... Done\n",
            "Building dependency tree       \n",
            "Reading state information... Done\n",
            "E: Unable to locate package grapviz\n",
            "Looking in indexes: https://pypi.org/simple, https://us-python.pkg.dev/colab-wheels/public/simple/\n",
            "Collecting seaborn==0.9.1\n",
            "  Using cached seaborn-0.9.1-py2.py3-none-any.whl (216 kB)\n",
            "Requirement already satisfied: pandas>=0.17.1 in /usr/local/lib/python3.7/dist-packages (from seaborn==0.9.1) (1.3.5)\n",
            "Requirement already satisfied: scipy>=0.17.1 in /usr/local/lib/python3.7/dist-packages (from seaborn==0.9.1) (1.7.3)\n",
            "Requirement already satisfied: matplotlib>=1.5.3 in /usr/local/lib/python3.7/dist-packages (from seaborn==0.9.1) (3.2.2)\n",
            "Requirement already satisfied: numpy>=1.10.4 in /usr/local/lib/python3.7/dist-packages (from seaborn==0.9.1) (1.21.6)\n",
            "Requirement already satisfied: kiwisolver>=1.0.1 in /usr/local/lib/python3.7/dist-packages (from matplotlib>=1.5.3->seaborn==0.9.1) (1.4.4)\n",
            "Requirement already satisfied: python-dateutil>=2.1 in /usr/local/lib/python3.7/dist-packages (from matplotlib>=1.5.3->seaborn==0.9.1) (2.8.2)\n",
            "Requirement already satisfied: cycler>=0.10 in /usr/local/lib/python3.7/dist-packages (from matplotlib>=1.5.3->seaborn==0.9.1) (0.11.0)\n",
            "Requirement already satisfied: pyparsing!=2.0.4,!=2.1.2,!=2.1.6,>=2.0.1 in /usr/local/lib/python3.7/dist-packages (from matplotlib>=1.5.3->seaborn==0.9.1) (3.0.9)\n",
            "Requirement already satisfied: typing-extensions in /usr/local/lib/python3.7/dist-packages (from kiwisolver>=1.0.1->matplotlib>=1.5.3->seaborn==0.9.1) (4.1.1)\n",
            "Requirement already satisfied: pytz>=2017.3 in /usr/local/lib/python3.7/dist-packages (from pandas>=0.17.1->seaborn==0.9.1) (2022.1)\n",
            "Requirement already satisfied: six>=1.5 in /usr/local/lib/python3.7/dist-packages (from python-dateutil>=2.1->matplotlib>=1.5.3->seaborn==0.9.1) (1.15.0)\n",
            "Installing collected packages: seaborn\n",
            "  Attempting uninstall: seaborn\n",
            "    Found existing installation: seaborn 0.11.2\n",
            "    Uninstalling seaborn-0.11.2:\n",
            "      Successfully uninstalled seaborn-0.11.2\n",
            "Successfully installed seaborn-0.9.1\n"
          ]
        },
        {
          "output_type": "display_data",
          "data": {
            "application/vnd.colab-display-data+json": {
              "pip_warning": {
                "packages": [
                  "seaborn"
                ]
              }
            }
          },
          "metadata": {}
        }
      ]
    },
    {
      "cell_type": "markdown",
      "source": [
        "import data"
      ],
      "metadata": {
        "id": "KG4GNV2rfXTK"
      }
    },
    {
      "cell_type": "code",
      "execution_count": 112,
      "metadata": {
        "colab": {
          "base_uri": "https://localhost:8080/",
          "height": 206
        },
        "id": "8IOMAqGufJCB",
        "outputId": "b1a46ef2-b313-47af-e823-bbe430c44e65"
      },
      "outputs": [
        {
          "output_type": "execute_result",
          "data": {
            "text/plain": [
              "       preco  vendido  idade_do_modelo   km_por_ano\n",
              "0   30941.02        1               18  35085.22134\n",
              "1   40557.96        1               20  12622.05362\n",
              "2   89627.50        0               12  11440.79806\n",
              "3   95276.14        0                3  43167.32682\n",
              "4  117384.68        1                4  12770.11290"
            ],
            "text/html": [
              "\n",
              "  <div id=\"df-63bcb10f-b11b-456d-857c-3f5646cf52bb\">\n",
              "    <div class=\"colab-df-container\">\n",
              "      <div>\n",
              "<style scoped>\n",
              "    .dataframe tbody tr th:only-of-type {\n",
              "        vertical-align: middle;\n",
              "    }\n",
              "\n",
              "    .dataframe tbody tr th {\n",
              "        vertical-align: top;\n",
              "    }\n",
              "\n",
              "    .dataframe thead th {\n",
              "        text-align: right;\n",
              "    }\n",
              "</style>\n",
              "<table border=\"1\" class=\"dataframe\">\n",
              "  <thead>\n",
              "    <tr style=\"text-align: right;\">\n",
              "      <th></th>\n",
              "      <th>preco</th>\n",
              "      <th>vendido</th>\n",
              "      <th>idade_do_modelo</th>\n",
              "      <th>km_por_ano</th>\n",
              "    </tr>\n",
              "  </thead>\n",
              "  <tbody>\n",
              "    <tr>\n",
              "      <th>0</th>\n",
              "      <td>30941.02</td>\n",
              "      <td>1</td>\n",
              "      <td>18</td>\n",
              "      <td>35085.22134</td>\n",
              "    </tr>\n",
              "    <tr>\n",
              "      <th>1</th>\n",
              "      <td>40557.96</td>\n",
              "      <td>1</td>\n",
              "      <td>20</td>\n",
              "      <td>12622.05362</td>\n",
              "    </tr>\n",
              "    <tr>\n",
              "      <th>2</th>\n",
              "      <td>89627.50</td>\n",
              "      <td>0</td>\n",
              "      <td>12</td>\n",
              "      <td>11440.79806</td>\n",
              "    </tr>\n",
              "    <tr>\n",
              "      <th>3</th>\n",
              "      <td>95276.14</td>\n",
              "      <td>0</td>\n",
              "      <td>3</td>\n",
              "      <td>43167.32682</td>\n",
              "    </tr>\n",
              "    <tr>\n",
              "      <th>4</th>\n",
              "      <td>117384.68</td>\n",
              "      <td>1</td>\n",
              "      <td>4</td>\n",
              "      <td>12770.11290</td>\n",
              "    </tr>\n",
              "  </tbody>\n",
              "</table>\n",
              "</div>\n",
              "      <button class=\"colab-df-convert\" onclick=\"convertToInteractive('df-63bcb10f-b11b-456d-857c-3f5646cf52bb')\"\n",
              "              title=\"Convert this dataframe to an interactive table.\"\n",
              "              style=\"display:none;\">\n",
              "        \n",
              "  <svg xmlns=\"http://www.w3.org/2000/svg\" height=\"24px\"viewBox=\"0 0 24 24\"\n",
              "       width=\"24px\">\n",
              "    <path d=\"M0 0h24v24H0V0z\" fill=\"none\"/>\n",
              "    <path d=\"M18.56 5.44l.94 2.06.94-2.06 2.06-.94-2.06-.94-.94-2.06-.94 2.06-2.06.94zm-11 1L8.5 8.5l.94-2.06 2.06-.94-2.06-.94L8.5 2.5l-.94 2.06-2.06.94zm10 10l.94 2.06.94-2.06 2.06-.94-2.06-.94-.94-2.06-.94 2.06-2.06.94z\"/><path d=\"M17.41 7.96l-1.37-1.37c-.4-.4-.92-.59-1.43-.59-.52 0-1.04.2-1.43.59L10.3 9.45l-7.72 7.72c-.78.78-.78 2.05 0 2.83L4 21.41c.39.39.9.59 1.41.59.51 0 1.02-.2 1.41-.59l7.78-7.78 2.81-2.81c.8-.78.8-2.07 0-2.86zM5.41 20L4 18.59l7.72-7.72 1.47 1.35L5.41 20z\"/>\n",
              "  </svg>\n",
              "      </button>\n",
              "      \n",
              "  <style>\n",
              "    .colab-df-container {\n",
              "      display:flex;\n",
              "      flex-wrap:wrap;\n",
              "      gap: 12px;\n",
              "    }\n",
              "\n",
              "    .colab-df-convert {\n",
              "      background-color: #E8F0FE;\n",
              "      border: none;\n",
              "      border-radius: 50%;\n",
              "      cursor: pointer;\n",
              "      display: none;\n",
              "      fill: #1967D2;\n",
              "      height: 32px;\n",
              "      padding: 0 0 0 0;\n",
              "      width: 32px;\n",
              "    }\n",
              "\n",
              "    .colab-df-convert:hover {\n",
              "      background-color: #E2EBFA;\n",
              "      box-shadow: 0px 1px 2px rgba(60, 64, 67, 0.3), 0px 1px 3px 1px rgba(60, 64, 67, 0.15);\n",
              "      fill: #174EA6;\n",
              "    }\n",
              "\n",
              "    [theme=dark] .colab-df-convert {\n",
              "      background-color: #3B4455;\n",
              "      fill: #D2E3FC;\n",
              "    }\n",
              "\n",
              "    [theme=dark] .colab-df-convert:hover {\n",
              "      background-color: #434B5C;\n",
              "      box-shadow: 0px 1px 3px 1px rgba(0, 0, 0, 0.15);\n",
              "      filter: drop-shadow(0px 1px 2px rgba(0, 0, 0, 0.3));\n",
              "      fill: #FFFFFF;\n",
              "    }\n",
              "  </style>\n",
              "\n",
              "      <script>\n",
              "        const buttonEl =\n",
              "          document.querySelector('#df-63bcb10f-b11b-456d-857c-3f5646cf52bb button.colab-df-convert');\n",
              "        buttonEl.style.display =\n",
              "          google.colab.kernel.accessAllowed ? 'block' : 'none';\n",
              "\n",
              "        async function convertToInteractive(key) {\n",
              "          const element = document.querySelector('#df-63bcb10f-b11b-456d-857c-3f5646cf52bb');\n",
              "          const dataTable =\n",
              "            await google.colab.kernel.invokeFunction('convertToInteractive',\n",
              "                                                     [key], {});\n",
              "          if (!dataTable) return;\n",
              "\n",
              "          const docLinkHtml = 'Like what you see? Visit the ' +\n",
              "            '<a target=\"_blank\" href=https://colab.research.google.com/notebooks/data_table.ipynb>data table notebook</a>'\n",
              "            + ' to learn more about interactive tables.';\n",
              "          element.innerHTML = '';\n",
              "          dataTable['output_type'] = 'display_data';\n",
              "          await google.colab.output.renderOutput(dataTable, element);\n",
              "          const docLink = document.createElement('div');\n",
              "          docLink.innerHTML = docLinkHtml;\n",
              "          element.appendChild(docLink);\n",
              "        }\n",
              "      </script>\n",
              "    </div>\n",
              "  </div>\n",
              "  "
            ]
          },
          "metadata": {},
          "execution_count": 112
        }
      ],
      "source": [
        "import pandas as pd\n",
        "\n",
        "uri = \"https://gist.githubusercontent.com/guilhermesilveira/e99a526b2e7ccc6c3b70f53db43a87d2/raw/1605fc74aa778066bf2e6695e24d53cf65f2f447/machine-learning-carros-simulacao.csv\"\n",
        "dados = pd.read_csv(uri).drop(columns=[\"Unnamed: 0\"], axis=1)\n",
        "dados.head()"
      ]
    },
    {
      "cell_type": "markdown",
      "source": [
        "Sort data ascendent - this would affect the model if nothing is done"
      ],
      "metadata": {
        "id": "kL1y5zALfYdF"
      }
    },
    {
      "cell_type": "code",
      "source": [
        "dados_azar = dados.sort_values(\"vendido\", ascending=True)\n",
        "x_azar = dados_azar[[\"preco\", \"idade_do_modelo\",\"km_por_ano\"]]\n",
        "y_azar = dados_azar[\"vendido\"]\n",
        "dados_azar.head()"
      ],
      "metadata": {
        "colab": {
          "base_uri": "https://localhost:8080/",
          "height": 206
        },
        "id": "1HM46gmDffEC",
        "outputId": "60f8851e-7d40-4054-fbb4-d6e46d7ed315"
      },
      "execution_count": 113,
      "outputs": [
        {
          "output_type": "execute_result",
          "data": {
            "text/plain": [
              "         preco  vendido  idade_do_modelo   km_por_ano\n",
              "4999  74023.29        0               12  24812.80412\n",
              "5322  84843.49        0               13  23095.63834\n",
              "5319  83100.27        0               19  36240.72746\n",
              "5316  87932.13        0               16  32249.56426\n",
              "5315  77937.01        0               15  28414.50704"
            ],
            "text/html": [
              "\n",
              "  <div id=\"df-4b09bbee-ac36-4ee0-8ed5-4d38012ddf4c\">\n",
              "    <div class=\"colab-df-container\">\n",
              "      <div>\n",
              "<style scoped>\n",
              "    .dataframe tbody tr th:only-of-type {\n",
              "        vertical-align: middle;\n",
              "    }\n",
              "\n",
              "    .dataframe tbody tr th {\n",
              "        vertical-align: top;\n",
              "    }\n",
              "\n",
              "    .dataframe thead th {\n",
              "        text-align: right;\n",
              "    }\n",
              "</style>\n",
              "<table border=\"1\" class=\"dataframe\">\n",
              "  <thead>\n",
              "    <tr style=\"text-align: right;\">\n",
              "      <th></th>\n",
              "      <th>preco</th>\n",
              "      <th>vendido</th>\n",
              "      <th>idade_do_modelo</th>\n",
              "      <th>km_por_ano</th>\n",
              "    </tr>\n",
              "  </thead>\n",
              "  <tbody>\n",
              "    <tr>\n",
              "      <th>4999</th>\n",
              "      <td>74023.29</td>\n",
              "      <td>0</td>\n",
              "      <td>12</td>\n",
              "      <td>24812.80412</td>\n",
              "    </tr>\n",
              "    <tr>\n",
              "      <th>5322</th>\n",
              "      <td>84843.49</td>\n",
              "      <td>0</td>\n",
              "      <td>13</td>\n",
              "      <td>23095.63834</td>\n",
              "    </tr>\n",
              "    <tr>\n",
              "      <th>5319</th>\n",
              "      <td>83100.27</td>\n",
              "      <td>0</td>\n",
              "      <td>19</td>\n",
              "      <td>36240.72746</td>\n",
              "    </tr>\n",
              "    <tr>\n",
              "      <th>5316</th>\n",
              "      <td>87932.13</td>\n",
              "      <td>0</td>\n",
              "      <td>16</td>\n",
              "      <td>32249.56426</td>\n",
              "    </tr>\n",
              "    <tr>\n",
              "      <th>5315</th>\n",
              "      <td>77937.01</td>\n",
              "      <td>0</td>\n",
              "      <td>15</td>\n",
              "      <td>28414.50704</td>\n",
              "    </tr>\n",
              "  </tbody>\n",
              "</table>\n",
              "</div>\n",
              "      <button class=\"colab-df-convert\" onclick=\"convertToInteractive('df-4b09bbee-ac36-4ee0-8ed5-4d38012ddf4c')\"\n",
              "              title=\"Convert this dataframe to an interactive table.\"\n",
              "              style=\"display:none;\">\n",
              "        \n",
              "  <svg xmlns=\"http://www.w3.org/2000/svg\" height=\"24px\"viewBox=\"0 0 24 24\"\n",
              "       width=\"24px\">\n",
              "    <path d=\"M0 0h24v24H0V0z\" fill=\"none\"/>\n",
              "    <path d=\"M18.56 5.44l.94 2.06.94-2.06 2.06-.94-2.06-.94-.94-2.06-.94 2.06-2.06.94zm-11 1L8.5 8.5l.94-2.06 2.06-.94-2.06-.94L8.5 2.5l-.94 2.06-2.06.94zm10 10l.94 2.06.94-2.06 2.06-.94-2.06-.94-.94-2.06-.94 2.06-2.06.94z\"/><path d=\"M17.41 7.96l-1.37-1.37c-.4-.4-.92-.59-1.43-.59-.52 0-1.04.2-1.43.59L10.3 9.45l-7.72 7.72c-.78.78-.78 2.05 0 2.83L4 21.41c.39.39.9.59 1.41.59.51 0 1.02-.2 1.41-.59l7.78-7.78 2.81-2.81c.8-.78.8-2.07 0-2.86zM5.41 20L4 18.59l7.72-7.72 1.47 1.35L5.41 20z\"/>\n",
              "  </svg>\n",
              "      </button>\n",
              "      \n",
              "  <style>\n",
              "    .colab-df-container {\n",
              "      display:flex;\n",
              "      flex-wrap:wrap;\n",
              "      gap: 12px;\n",
              "    }\n",
              "\n",
              "    .colab-df-convert {\n",
              "      background-color: #E8F0FE;\n",
              "      border: none;\n",
              "      border-radius: 50%;\n",
              "      cursor: pointer;\n",
              "      display: none;\n",
              "      fill: #1967D2;\n",
              "      height: 32px;\n",
              "      padding: 0 0 0 0;\n",
              "      width: 32px;\n",
              "    }\n",
              "\n",
              "    .colab-df-convert:hover {\n",
              "      background-color: #E2EBFA;\n",
              "      box-shadow: 0px 1px 2px rgba(60, 64, 67, 0.3), 0px 1px 3px 1px rgba(60, 64, 67, 0.15);\n",
              "      fill: #174EA6;\n",
              "    }\n",
              "\n",
              "    [theme=dark] .colab-df-convert {\n",
              "      background-color: #3B4455;\n",
              "      fill: #D2E3FC;\n",
              "    }\n",
              "\n",
              "    [theme=dark] .colab-df-convert:hover {\n",
              "      background-color: #434B5C;\n",
              "      box-shadow: 0px 1px 3px 1px rgba(0, 0, 0, 0.15);\n",
              "      filter: drop-shadow(0px 1px 2px rgba(0, 0, 0, 0.3));\n",
              "      fill: #FFFFFF;\n",
              "    }\n",
              "  </style>\n",
              "\n",
              "      <script>\n",
              "        const buttonEl =\n",
              "          document.querySelector('#df-4b09bbee-ac36-4ee0-8ed5-4d38012ddf4c button.colab-df-convert');\n",
              "        buttonEl.style.display =\n",
              "          google.colab.kernel.accessAllowed ? 'block' : 'none';\n",
              "\n",
              "        async function convertToInteractive(key) {\n",
              "          const element = document.querySelector('#df-4b09bbee-ac36-4ee0-8ed5-4d38012ddf4c');\n",
              "          const dataTable =\n",
              "            await google.colab.kernel.invokeFunction('convertToInteractive',\n",
              "                                                     [key], {});\n",
              "          if (!dataTable) return;\n",
              "\n",
              "          const docLinkHtml = 'Like what you see? Visit the ' +\n",
              "            '<a target=\"_blank\" href=https://colab.research.google.com/notebooks/data_table.ipynb>data table notebook</a>'\n",
              "            + ' to learn more about interactive tables.';\n",
              "          element.innerHTML = '';\n",
              "          dataTable['output_type'] = 'display_data';\n",
              "          await google.colab.output.renderOutput(dataTable, element);\n",
              "          const docLink = document.createElement('div');\n",
              "          docLink.innerHTML = docLinkHtml;\n",
              "          element.appendChild(docLink);\n",
              "        }\n",
              "      </script>\n",
              "    </div>\n",
              "  </div>\n",
              "  "
            ]
          },
          "metadata": {},
          "execution_count": 113
        }
      ]
    },
    {
      "cell_type": "markdown",
      "source": [
        "Use dummy classifier to perform a baseline. It uses the proportion of 0 and 1 to guess. Below also cross_validate was used"
      ],
      "metadata": {
        "id": "__B8fGzJfk9h"
      }
    },
    {
      "cell_type": "code",
      "source": [
        "from sklearn.model_selection import cross_validate\n",
        "from sklearn.dummy import DummyClassifier\n",
        "import numpy as np\n",
        "\n",
        "SEED = 301\n",
        "np.random.seed(SEED)\n",
        "\n",
        "modelo = DummyClassifier()\n",
        "results = cross_validate(modelo, x_azar, y_azar, cv = 10, return_train_score=False)\n",
        "media = results['test_score'].mean()\n",
        "desvio_padrao = results['test_score'].std()\n",
        "print(\"Accuracy with dummy stratified, 10 = [%.2f, %.2f]\" % ((media - 2 * desvio_padrao)*100, (media + 2 * desvio_padrao) * 100))"
      ],
      "metadata": {
        "colab": {
          "base_uri": "https://localhost:8080/"
        },
        "id": "SGbUiliHfoaT",
        "outputId": "e854ee40-86b4-48f1-c0d5-21264c35ce77"
      },
      "execution_count": 114,
      "outputs": [
        {
          "output_type": "stream",
          "name": "stdout",
          "text": [
            "Accuracy with dummy stratified, 10 = [58.00, 58.00]\n"
          ]
        }
      ]
    },
    {
      "cell_type": "markdown",
      "source": [
        "Use a decision tree also as a second baseline"
      ],
      "metadata": {
        "id": "JlIS-eQjghDI"
      }
    },
    {
      "cell_type": "code",
      "source": [
        "from sklearn.model_selection import cross_validate\n",
        "from sklearn.tree import DecisionTreeClassifier\n",
        "\n",
        "SEED = 301\n",
        "np.random.seed(SEED)\n",
        "\n",
        "modelo = DecisionTreeClassifier(max_depth=2)\n",
        "results = cross_validate(modelo, x_azar, y_azar, cv = 10, return_train_score=False)\n",
        "media = results['test_score'].mean()\n",
        "desvio_padrao = results['test_score'].std()\n",
        "print(\"Accuracy with cross validation, 10 = [%.2f, %.2f]\" % ((media - 2 * desvio_padrao)*100, (media + 2 * desvio_padrao) * 100))"
      ],
      "metadata": {
        "colab": {
          "base_uri": "https://localhost:8080/"
        },
        "id": "YtJT9TSMgjmX",
        "outputId": "9146928d-ec19-4d48-e49a-2fd7845e641b"
      },
      "execution_count": 115,
      "outputs": [
        {
          "output_type": "stream",
          "name": "stdout",
          "text": [
            "Accuracy with cross validation, 10 = [73.83, 77.73]\n"
          ]
        }
      ]
    },
    {
      "cell_type": "markdown",
      "source": [
        "Add a column indicating the cars' models (could be an extra column indicating the cars' cluster). This extra column is a categorical variable."
      ],
      "metadata": {
        "id": "rz9LtBLpg1n0"
      }
    },
    {
      "cell_type": "code",
      "source": [
        "np.random.seed(SEED)\n",
        "dados['modelo'] = dados.idade_do_modelo + np.random.randint(-2, 3, size=10000)\n",
        "dados.modelo = dados.modelo + abs(dados.modelo.min()) + 1\n",
        "dados.head()"
      ],
      "metadata": {
        "colab": {
          "base_uri": "https://localhost:8080/",
          "height": 206
        },
        "id": "lY6BdwBFg9pk",
        "outputId": "1b387d73-c677-4c11-eb65-5b196888108c"
      },
      "execution_count": 116,
      "outputs": [
        {
          "output_type": "execute_result",
          "data": {
            "text/plain": [
              "       preco  vendido  idade_do_modelo   km_por_ano  modelo\n",
              "0   30941.02        1               18  35085.22134      18\n",
              "1   40557.96        1               20  12622.05362      24\n",
              "2   89627.50        0               12  11440.79806      14\n",
              "3   95276.14        0                3  43167.32682       6\n",
              "4  117384.68        1                4  12770.11290       5"
            ],
            "text/html": [
              "\n",
              "  <div id=\"df-5995d6ab-38eb-4a82-baf7-9d0ec97b2d3b\">\n",
              "    <div class=\"colab-df-container\">\n",
              "      <div>\n",
              "<style scoped>\n",
              "    .dataframe tbody tr th:only-of-type {\n",
              "        vertical-align: middle;\n",
              "    }\n",
              "\n",
              "    .dataframe tbody tr th {\n",
              "        vertical-align: top;\n",
              "    }\n",
              "\n",
              "    .dataframe thead th {\n",
              "        text-align: right;\n",
              "    }\n",
              "</style>\n",
              "<table border=\"1\" class=\"dataframe\">\n",
              "  <thead>\n",
              "    <tr style=\"text-align: right;\">\n",
              "      <th></th>\n",
              "      <th>preco</th>\n",
              "      <th>vendido</th>\n",
              "      <th>idade_do_modelo</th>\n",
              "      <th>km_por_ano</th>\n",
              "      <th>modelo</th>\n",
              "    </tr>\n",
              "  </thead>\n",
              "  <tbody>\n",
              "    <tr>\n",
              "      <th>0</th>\n",
              "      <td>30941.02</td>\n",
              "      <td>1</td>\n",
              "      <td>18</td>\n",
              "      <td>35085.22134</td>\n",
              "      <td>18</td>\n",
              "    </tr>\n",
              "    <tr>\n",
              "      <th>1</th>\n",
              "      <td>40557.96</td>\n",
              "      <td>1</td>\n",
              "      <td>20</td>\n",
              "      <td>12622.05362</td>\n",
              "      <td>24</td>\n",
              "    </tr>\n",
              "    <tr>\n",
              "      <th>2</th>\n",
              "      <td>89627.50</td>\n",
              "      <td>0</td>\n",
              "      <td>12</td>\n",
              "      <td>11440.79806</td>\n",
              "      <td>14</td>\n",
              "    </tr>\n",
              "    <tr>\n",
              "      <th>3</th>\n",
              "      <td>95276.14</td>\n",
              "      <td>0</td>\n",
              "      <td>3</td>\n",
              "      <td>43167.32682</td>\n",
              "      <td>6</td>\n",
              "    </tr>\n",
              "    <tr>\n",
              "      <th>4</th>\n",
              "      <td>117384.68</td>\n",
              "      <td>1</td>\n",
              "      <td>4</td>\n",
              "      <td>12770.11290</td>\n",
              "      <td>5</td>\n",
              "    </tr>\n",
              "  </tbody>\n",
              "</table>\n",
              "</div>\n",
              "      <button class=\"colab-df-convert\" onclick=\"convertToInteractive('df-5995d6ab-38eb-4a82-baf7-9d0ec97b2d3b')\"\n",
              "              title=\"Convert this dataframe to an interactive table.\"\n",
              "              style=\"display:none;\">\n",
              "        \n",
              "  <svg xmlns=\"http://www.w3.org/2000/svg\" height=\"24px\"viewBox=\"0 0 24 24\"\n",
              "       width=\"24px\">\n",
              "    <path d=\"M0 0h24v24H0V0z\" fill=\"none\"/>\n",
              "    <path d=\"M18.56 5.44l.94 2.06.94-2.06 2.06-.94-2.06-.94-.94-2.06-.94 2.06-2.06.94zm-11 1L8.5 8.5l.94-2.06 2.06-.94-2.06-.94L8.5 2.5l-.94 2.06-2.06.94zm10 10l.94 2.06.94-2.06 2.06-.94-2.06-.94-.94-2.06-.94 2.06-2.06.94z\"/><path d=\"M17.41 7.96l-1.37-1.37c-.4-.4-.92-.59-1.43-.59-.52 0-1.04.2-1.43.59L10.3 9.45l-7.72 7.72c-.78.78-.78 2.05 0 2.83L4 21.41c.39.39.9.59 1.41.59.51 0 1.02-.2 1.41-.59l7.78-7.78 2.81-2.81c.8-.78.8-2.07 0-2.86zM5.41 20L4 18.59l7.72-7.72 1.47 1.35L5.41 20z\"/>\n",
              "  </svg>\n",
              "      </button>\n",
              "      \n",
              "  <style>\n",
              "    .colab-df-container {\n",
              "      display:flex;\n",
              "      flex-wrap:wrap;\n",
              "      gap: 12px;\n",
              "    }\n",
              "\n",
              "    .colab-df-convert {\n",
              "      background-color: #E8F0FE;\n",
              "      border: none;\n",
              "      border-radius: 50%;\n",
              "      cursor: pointer;\n",
              "      display: none;\n",
              "      fill: #1967D2;\n",
              "      height: 32px;\n",
              "      padding: 0 0 0 0;\n",
              "      width: 32px;\n",
              "    }\n",
              "\n",
              "    .colab-df-convert:hover {\n",
              "      background-color: #E2EBFA;\n",
              "      box-shadow: 0px 1px 2px rgba(60, 64, 67, 0.3), 0px 1px 3px 1px rgba(60, 64, 67, 0.15);\n",
              "      fill: #174EA6;\n",
              "    }\n",
              "\n",
              "    [theme=dark] .colab-df-convert {\n",
              "      background-color: #3B4455;\n",
              "      fill: #D2E3FC;\n",
              "    }\n",
              "\n",
              "    [theme=dark] .colab-df-convert:hover {\n",
              "      background-color: #434B5C;\n",
              "      box-shadow: 0px 1px 3px 1px rgba(0, 0, 0, 0.15);\n",
              "      filter: drop-shadow(0px 1px 2px rgba(0, 0, 0, 0.3));\n",
              "      fill: #FFFFFF;\n",
              "    }\n",
              "  </style>\n",
              "\n",
              "      <script>\n",
              "        const buttonEl =\n",
              "          document.querySelector('#df-5995d6ab-38eb-4a82-baf7-9d0ec97b2d3b button.colab-df-convert');\n",
              "        buttonEl.style.display =\n",
              "          google.colab.kernel.accessAllowed ? 'block' : 'none';\n",
              "\n",
              "        async function convertToInteractive(key) {\n",
              "          const element = document.querySelector('#df-5995d6ab-38eb-4a82-baf7-9d0ec97b2d3b');\n",
              "          const dataTable =\n",
              "            await google.colab.kernel.invokeFunction('convertToInteractive',\n",
              "                                                     [key], {});\n",
              "          if (!dataTable) return;\n",
              "\n",
              "          const docLinkHtml = 'Like what you see? Visit the ' +\n",
              "            '<a target=\"_blank\" href=https://colab.research.google.com/notebooks/data_table.ipynb>data table notebook</a>'\n",
              "            + ' to learn more about interactive tables.';\n",
              "          element.innerHTML = '';\n",
              "          dataTable['output_type'] = 'display_data';\n",
              "          await google.colab.output.renderOutput(dataTable, element);\n",
              "          const docLink = document.createElement('div');\n",
              "          docLink.innerHTML = docLinkHtml;\n",
              "          element.appendChild(docLink);\n",
              "        }\n",
              "      </script>\n",
              "    </div>\n",
              "  </div>\n",
              "  "
            ]
          },
          "metadata": {},
          "execution_count": 116
        }
      ]
    },
    {
      "cell_type": "markdown",
      "source": [
        "This extra column was not used as an X (input, feature) variable to predict but used to group the data, so to prepare the algorithm to new data"
      ],
      "metadata": {
        "id": "mUBxSBbkhMIB"
      }
    },
    {
      "cell_type": "markdown",
      "source": [
        "Function below to summarize performance"
      ],
      "metadata": {
        "id": "6U5x2NmQiHM0"
      }
    },
    {
      "cell_type": "code",
      "source": [
        "def imprime_resultados(results):\n",
        "  media = results['test_score'].mean() * 100\n",
        "  desvio = results['test_score'].std() * 100\n",
        "  print(\"Accuracy avg %.2f\" % media)\n",
        "  print(\"Interval [%.2f, %.2f]\" % (media - 2 * desvio, media + 2 * desvio))"
      ],
      "metadata": {
        "id": "F76em98ohRuK"
      },
      "execution_count": 117,
      "outputs": []
    },
    {
      "cell_type": "markdown",
      "source": [
        "Create group Kfold that groups the data by the cars' model (created above)"
      ],
      "metadata": {
        "id": "pjHT1ES6iM6Z"
      }
    },
    {
      "cell_type": "markdown",
      "source": [
        "Instead of decision tree classifier algorithm, use SVC algorithm"
      ],
      "metadata": {
        "id": "k3Ud93mtihay"
      }
    },
    {
      "cell_type": "code",
      "source": [
        "# GroupKFold in StandardScaler and SVC\n",
        "\n",
        "from sklearn.preprocessing import StandardScaler\n",
        "from sklearn.svm import SVC\n",
        "from sklearn.pipeline import Pipeline\n",
        "\n",
        "SEED = 301\n",
        "np.random.seed(SEED)\n",
        "\n",
        "scaler = StandardScaler()\n",
        "modelo = SVC()\n",
        "\n",
        "pipeline = Pipeline([('transformacao',scaler), ('estimador',modelo)])\n",
        "\n",
        "cv = GroupKFold(n_splits = 10)\n",
        "results = cross_validate(pipeline, x_azar, y_azar, cv = cv, groups = dados.modelo, return_train_score=False)\n",
        "imprime_resultados(results)"
      ],
      "metadata": {
        "colab": {
          "base_uri": "https://localhost:8080/"
        },
        "id": "UZxj9ldZjBnV",
        "outputId": "af267838-1d28-44b9-8dcf-b3d09438cb8e"
      },
      "execution_count": 118,
      "outputs": [
        {
          "output_type": "stream",
          "name": "stdout",
          "text": [
            "Accuracy avg 76.68\n",
            "Interval [74.28, 79.08]\n"
          ]
        }
      ]
    },
    {
      "cell_type": "markdown",
      "source": [
        "Use Decision tree classifier now"
      ],
      "metadata": {
        "id": "AEdd3qyJjaF9"
      }
    },
    {
      "cell_type": "code",
      "source": [
        "# GroupKFold now \n",
        "\n",
        "from sklearn.model_selection import GroupKFold\n",
        "\n",
        "SEED = 301\n",
        "np.random.seed(SEED)\n",
        "\n",
        "cv = GroupKFold(n_splits = 10)\n",
        "modelo = DecisionTreeClassifier(max_depth=2)\n",
        "results = cross_validate(modelo, x_azar, y_azar, cv = cv, groups = dados.modelo, return_train_score=False)\n",
        "imprime_resultados(results)"
      ],
      "metadata": {
        "colab": {
          "base_uri": "https://localhost:8080/"
        },
        "id": "TkHF-KdGiVud",
        "outputId": "17b621ff-ccf7-4f45-b88d-f613592781ac"
      },
      "execution_count": 119,
      "outputs": [
        {
          "output_type": "stream",
          "name": "stdout",
          "text": [
            "Accuracy avg 75.78\n",
            "Interval [73.67, 77.90]\n"
          ]
        }
      ]
    },
    {
      "cell_type": "markdown",
      "source": [
        "Visualize"
      ],
      "metadata": {
        "id": "Cd9iSzHojvZo"
      }
    },
    {
      "cell_type": "markdown",
      "source": [
        "We fitted above 10 models, to visualize which one we want to use? None of them. We trained 10 times to see how good it would behave in the real world. Now, to really use it we need to train it with our X and Y train and test, so add the line modelo.fit(x_azar, y_azar) in the chunk below"
      ],
      "metadata": {
        "id": "swoSRhrokjuE"
      }
    },
    {
      "cell_type": "code",
      "source": [
        "from sklearn.tree import export_graphviz\n",
        "import graphviz\n",
        "\n",
        "modelo.fit(x_azar, y_azar)\n",
        "\n",
        "features = x_azar.columns\n",
        "dot_data = export_graphviz(modelo, out_file=None, filled=True, rounded=True, \n",
        "                class_names=[\"não\", \"sim\"], \n",
        "                feature_names =  features)\n",
        "\n",
        "graph = graphviz.Source(dot_data)\n",
        "graph"
      ],
      "metadata": {
        "colab": {
          "base_uri": "https://localhost:8080/",
          "height": 440
        },
        "id": "nrflP1bdj4Lj",
        "outputId": "e6ac6719-cea3-490f-f7ea-a0957101112e"
      },
      "execution_count": 120,
      "outputs": [
        {
          "output_type": "execute_result",
          "data": {
            "text/plain": [
              "<graphviz.files.Source at 0x7f9b9747dcd0>"
            ],
            "image/svg+xml": "<?xml version=\"1.0\" encoding=\"UTF-8\" standalone=\"no\"?>\n<!DOCTYPE svg PUBLIC \"-//W3C//DTD SVG 1.1//EN\"\n \"http://www.w3.org/Graphics/SVG/1.1/DTD/svg11.dtd\">\n<!-- Generated by graphviz version 2.40.1 (20161225.0304)\n -->\n<!-- Title: Tree Pages: 1 -->\n<svg width=\"628pt\" height=\"314pt\"\n viewBox=\"0.00 0.00 628.00 314.00\" xmlns=\"http://www.w3.org/2000/svg\" xmlns:xlink=\"http://www.w3.org/1999/xlink\">\n<g id=\"graph0\" class=\"graph\" transform=\"scale(1 1) rotate(0) translate(4 310)\">\n<title>Tree</title>\n<polygon fill=\"#ffffff\" stroke=\"transparent\" points=\"-4,4 -4,-310 624,-310 624,4 -4,4\"/>\n<!-- 0 -->\n<g id=\"node1\" class=\"node\">\n<title>0</title>\n<path fill=\"#c8e4f8\" stroke=\"#000000\" d=\"M361.5,-306C361.5,-306 236.5,-306 236.5,-306 230.5,-306 224.5,-300 224.5,-294 224.5,-294 224.5,-235 224.5,-235 224.5,-229 230.5,-223 236.5,-223 236.5,-223 361.5,-223 361.5,-223 367.5,-223 373.5,-229 373.5,-235 373.5,-235 373.5,-294 373.5,-294 373.5,-300 367.5,-306 361.5,-306\"/>\n<text text-anchor=\"middle\" x=\"299\" y=\"-290.8\" font-family=\"Helvetica,sans-Serif\" font-size=\"14.00\" fill=\"#000000\">preco &lt;= 59982.246</text>\n<text text-anchor=\"middle\" x=\"299\" y=\"-275.8\" font-family=\"Helvetica,sans-Serif\" font-size=\"14.00\" fill=\"#000000\">gini = 0.487</text>\n<text text-anchor=\"middle\" x=\"299\" y=\"-260.8\" font-family=\"Helvetica,sans-Serif\" font-size=\"14.00\" fill=\"#000000\">samples = 10000</text>\n<text text-anchor=\"middle\" x=\"299\" y=\"-245.8\" font-family=\"Helvetica,sans-Serif\" font-size=\"14.00\" fill=\"#000000\">value = [4200, 5800]</text>\n<text text-anchor=\"middle\" x=\"299\" y=\"-230.8\" font-family=\"Helvetica,sans-Serif\" font-size=\"14.00\" fill=\"#000000\">class = sim</text>\n</g>\n<!-- 1 -->\n<g id=\"node2\" class=\"node\">\n<title>1</title>\n<path fill=\"#52a9e8\" stroke=\"#000000\" d=\"M266.5,-187C266.5,-187 143.5,-187 143.5,-187 137.5,-187 131.5,-181 131.5,-175 131.5,-175 131.5,-116 131.5,-116 131.5,-110 137.5,-104 143.5,-104 143.5,-104 266.5,-104 266.5,-104 272.5,-104 278.5,-110 278.5,-116 278.5,-116 278.5,-175 278.5,-175 278.5,-181 272.5,-187 266.5,-187\"/>\n<text text-anchor=\"middle\" x=\"205\" y=\"-171.8\" font-family=\"Helvetica,sans-Serif\" font-size=\"14.00\" fill=\"#000000\">preco &lt;= 40083.385</text>\n<text text-anchor=\"middle\" x=\"205\" y=\"-156.8\" font-family=\"Helvetica,sans-Serif\" font-size=\"14.00\" fill=\"#000000\">gini = 0.198</text>\n<text text-anchor=\"middle\" x=\"205\" y=\"-141.8\" font-family=\"Helvetica,sans-Serif\" font-size=\"14.00\" fill=\"#000000\">samples = 4347</text>\n<text text-anchor=\"middle\" x=\"205\" y=\"-126.8\" font-family=\"Helvetica,sans-Serif\" font-size=\"14.00\" fill=\"#000000\">value = [484, 3863]</text>\n<text text-anchor=\"middle\" x=\"205\" y=\"-111.8\" font-family=\"Helvetica,sans-Serif\" font-size=\"14.00\" fill=\"#000000\">class = sim</text>\n</g>\n<!-- 0&#45;&gt;1 -->\n<g id=\"edge1\" class=\"edge\">\n<title>0&#45;&gt;1</title>\n<path fill=\"none\" stroke=\"#000000\" d=\"M266.1234,-222.8796C259.0803,-213.9633 251.5707,-204.4565 244.3126,-195.268\"/>\n<polygon fill=\"#000000\" stroke=\"#000000\" points=\"246.9621,-192.9757 238.017,-187.2981 241.4691,-197.3147 246.9621,-192.9757\"/>\n<text text-anchor=\"middle\" x=\"235.1027\" y=\"-208.4276\" font-family=\"Helvetica,sans-Serif\" font-size=\"14.00\" fill=\"#000000\">True</text>\n</g>\n<!-- 4 -->\n<g id=\"node5\" class=\"node\">\n<title>4</title>\n<path fill=\"#f3c3a0\" stroke=\"#000000\" d=\"M477,-187C477,-187 309,-187 309,-187 303,-187 297,-181 297,-175 297,-175 297,-116 297,-116 297,-110 303,-104 309,-104 309,-104 477,-104 477,-104 483,-104 489,-110 489,-116 489,-116 489,-175 489,-175 489,-181 483,-187 477,-187\"/>\n<text text-anchor=\"middle\" x=\"393\" y=\"-171.8\" font-family=\"Helvetica,sans-Serif\" font-size=\"14.00\" fill=\"#000000\">km_por_ano &lt;= 24124.006</text>\n<text text-anchor=\"middle\" x=\"393\" y=\"-156.8\" font-family=\"Helvetica,sans-Serif\" font-size=\"14.00\" fill=\"#000000\">gini = 0.45</text>\n<text text-anchor=\"middle\" x=\"393\" y=\"-141.8\" font-family=\"Helvetica,sans-Serif\" font-size=\"14.00\" fill=\"#000000\">samples = 5653</text>\n<text text-anchor=\"middle\" x=\"393\" y=\"-126.8\" font-family=\"Helvetica,sans-Serif\" font-size=\"14.00\" fill=\"#000000\">value = [3716, 1937]</text>\n<text text-anchor=\"middle\" x=\"393\" y=\"-111.8\" font-family=\"Helvetica,sans-Serif\" font-size=\"14.00\" fill=\"#000000\">class = não</text>\n</g>\n<!-- 0&#45;&gt;4 -->\n<g id=\"edge4\" class=\"edge\">\n<title>0&#45;&gt;4</title>\n<path fill=\"none\" stroke=\"#000000\" d=\"M331.8766,-222.8796C338.9197,-213.9633 346.4293,-204.4565 353.6874,-195.268\"/>\n<polygon fill=\"#000000\" stroke=\"#000000\" points=\"356.5309,-197.3147 359.983,-187.2981 351.0379,-192.9757 356.5309,-197.3147\"/>\n<text text-anchor=\"middle\" x=\"362.8973\" y=\"-208.4276\" font-family=\"Helvetica,sans-Serif\" font-size=\"14.00\" fill=\"#000000\">False</text>\n</g>\n<!-- 2 -->\n<g id=\"node3\" class=\"node\">\n<title>2</title>\n<path fill=\"#399de5\" stroke=\"#000000\" d=\"M112,-68C112,-68 12,-68 12,-68 6,-68 0,-62 0,-56 0,-56 0,-12 0,-12 0,-6 6,0 12,0 12,0 112,0 112,0 118,0 124,-6 124,-12 124,-12 124,-56 124,-56 124,-62 118,-68 112,-68\"/>\n<text text-anchor=\"middle\" x=\"62\" y=\"-52.8\" font-family=\"Helvetica,sans-Serif\" font-size=\"14.00\" fill=\"#000000\">gini = 0.0</text>\n<text text-anchor=\"middle\" x=\"62\" y=\"-37.8\" font-family=\"Helvetica,sans-Serif\" font-size=\"14.00\" fill=\"#000000\">samples = 1935</text>\n<text text-anchor=\"middle\" x=\"62\" y=\"-22.8\" font-family=\"Helvetica,sans-Serif\" font-size=\"14.00\" fill=\"#000000\">value = [0, 1935]</text>\n<text text-anchor=\"middle\" x=\"62\" y=\"-7.8\" font-family=\"Helvetica,sans-Serif\" font-size=\"14.00\" fill=\"#000000\">class = sim</text>\n</g>\n<!-- 1&#45;&gt;2 -->\n<g id=\"edge2\" class=\"edge\">\n<title>1&#45;&gt;2</title>\n<path fill=\"none\" stroke=\"#000000\" d=\"M151.7521,-103.9815C139.3756,-94.3313 126.2172,-84.0714 113.8997,-74.4673\"/>\n<polygon fill=\"#000000\" stroke=\"#000000\" points=\"115.9818,-71.6525 105.9435,-68.2637 111.6775,-77.1728 115.9818,-71.6525\"/>\n</g>\n<!-- 3 -->\n<g id=\"node4\" class=\"node\">\n<title>3</title>\n<path fill=\"#6bb6ec\" stroke=\"#000000\" d=\"M270,-68C270,-68 154,-68 154,-68 148,-68 142,-62 142,-56 142,-56 142,-12 142,-12 142,-6 148,0 154,0 154,0 270,0 270,0 276,0 282,-6 282,-12 282,-12 282,-56 282,-56 282,-62 276,-68 270,-68\"/>\n<text text-anchor=\"middle\" x=\"212\" y=\"-52.8\" font-family=\"Helvetica,sans-Serif\" font-size=\"14.00\" fill=\"#000000\">gini = 0.321</text>\n<text text-anchor=\"middle\" x=\"212\" y=\"-37.8\" font-family=\"Helvetica,sans-Serif\" font-size=\"14.00\" fill=\"#000000\">samples = 2412</text>\n<text text-anchor=\"middle\" x=\"212\" y=\"-22.8\" font-family=\"Helvetica,sans-Serif\" font-size=\"14.00\" fill=\"#000000\">value = [484, 1928]</text>\n<text text-anchor=\"middle\" x=\"212\" y=\"-7.8\" font-family=\"Helvetica,sans-Serif\" font-size=\"14.00\" fill=\"#000000\">class = sim</text>\n</g>\n<!-- 1&#45;&gt;3 -->\n<g id=\"edge3\" class=\"edge\">\n<title>1&#45;&gt;3</title>\n<path fill=\"none\" stroke=\"#000000\" d=\"M207.6065,-103.9815C208.1316,-95.618 208.6854,-86.7965 209.2163,-78.3409\"/>\n<polygon fill=\"#000000\" stroke=\"#000000\" points=\"212.7154,-78.4634 209.8489,-68.2637 205.7291,-78.0247 212.7154,-78.4634\"/>\n</g>\n<!-- 5 -->\n<g id=\"node6\" class=\"node\">\n<title>5</title>\n<path fill=\"#fcefe5\" stroke=\"#000000\" d=\"M449.5,-68C449.5,-68 324.5,-68 324.5,-68 318.5,-68 312.5,-62 312.5,-56 312.5,-56 312.5,-12 312.5,-12 312.5,-6 318.5,0 324.5,0 324.5,0 449.5,0 449.5,0 455.5,0 461.5,-6 461.5,-12 461.5,-12 461.5,-56 461.5,-56 461.5,-62 455.5,-68 449.5,-68\"/>\n<text text-anchor=\"middle\" x=\"387\" y=\"-52.8\" font-family=\"Helvetica,sans-Serif\" font-size=\"14.00\" fill=\"#000000\">gini = 0.498</text>\n<text text-anchor=\"middle\" x=\"387\" y=\"-37.8\" font-family=\"Helvetica,sans-Serif\" font-size=\"14.00\" fill=\"#000000\">samples = 3513</text>\n<text text-anchor=\"middle\" x=\"387\" y=\"-22.8\" font-family=\"Helvetica,sans-Serif\" font-size=\"14.00\" fill=\"#000000\">value = [1879, 1634]</text>\n<text text-anchor=\"middle\" x=\"387\" y=\"-7.8\" font-family=\"Helvetica,sans-Serif\" font-size=\"14.00\" fill=\"#000000\">class = não</text>\n</g>\n<!-- 4&#45;&gt;5 -->\n<g id=\"edge5\" class=\"edge\">\n<title>4&#45;&gt;5</title>\n<path fill=\"none\" stroke=\"#000000\" d=\"M390.7658,-103.9815C390.3158,-95.618 389.8411,-86.7965 389.3861,-78.3409\"/>\n<polygon fill=\"#000000\" stroke=\"#000000\" points=\"392.8762,-78.0611 388.8438,-68.2637 385.8863,-78.4373 392.8762,-78.0611\"/>\n</g>\n<!-- 6 -->\n<g id=\"node7\" class=\"node\">\n<title>6</title>\n<path fill=\"#e9965a\" stroke=\"#000000\" d=\"M608,-68C608,-68 492,-68 492,-68 486,-68 480,-62 480,-56 480,-56 480,-12 480,-12 480,-6 486,0 492,0 492,0 608,0 608,0 614,0 620,-6 620,-12 620,-12 620,-56 620,-56 620,-62 614,-68 608,-68\"/>\n<text text-anchor=\"middle\" x=\"550\" y=\"-52.8\" font-family=\"Helvetica,sans-Serif\" font-size=\"14.00\" fill=\"#000000\">gini = 0.243</text>\n<text text-anchor=\"middle\" x=\"550\" y=\"-37.8\" font-family=\"Helvetica,sans-Serif\" font-size=\"14.00\" fill=\"#000000\">samples = 2140</text>\n<text text-anchor=\"middle\" x=\"550\" y=\"-22.8\" font-family=\"Helvetica,sans-Serif\" font-size=\"14.00\" fill=\"#000000\">value = [1837, 303]</text>\n<text text-anchor=\"middle\" x=\"550\" y=\"-7.8\" font-family=\"Helvetica,sans-Serif\" font-size=\"14.00\" fill=\"#000000\">class = não</text>\n</g>\n<!-- 4&#45;&gt;6 -->\n<g id=\"edge6\" class=\"edge\">\n<title>4&#45;&gt;6</title>\n<path fill=\"none\" stroke=\"#000000\" d=\"M451.461,-103.9815C465.2508,-94.1881 479.9247,-83.7668 493.6205,-74.0402\"/>\n<polygon fill=\"#000000\" stroke=\"#000000\" points=\"495.8785,-76.7295 502.005,-68.0856 491.8253,-71.0223 495.8785,-76.7295\"/>\n</g>\n</g>\n</svg>\n"
          },
          "metadata": {},
          "execution_count": 120
        }
      ]
    },
    {
      "cell_type": "markdown",
      "source": [
        "You can increase the Decision tree depth to 3 for example"
      ],
      "metadata": {
        "id": "WfeUoImelIHC"
      }
    },
    {
      "cell_type": "code",
      "source": [
        "from sklearn.model_selection import GroupKFold\n",
        "\n",
        "SEED = 301\n",
        "np.random.seed(SEED)\n",
        "\n",
        "cv = GroupKFold(n_splits = 10)\n",
        "modelo = DecisionTreeClassifier(max_depth=3)\n",
        "results = cross_validate(modelo, x_azar, y_azar, cv = cv, groups = dados.modelo, return_train_score=False)\n",
        "imprime_resultados(results)"
      ],
      "metadata": {
        "colab": {
          "base_uri": "https://localhost:8080/"
        },
        "id": "MvyrBxLolQ-G",
        "outputId": "3cecc324-17e5-4684-ce79-3632023dc8e2"
      },
      "execution_count": 121,
      "outputs": [
        {
          "output_type": "stream",
          "name": "stdout",
          "text": [
            "Accuracy avg 78.67\n",
            "Interval [76.40, 80.94]\n"
          ]
        }
      ]
    },
    {
      "cell_type": "markdown",
      "source": [
        "See that the accuracy is better when using depth=3"
      ],
      "metadata": {
        "id": "wynxSLsRlgYD"
      }
    },
    {
      "cell_type": "code",
      "source": [
        "from sklearn.tree import export_graphviz\n",
        "import graphviz\n",
        "\n",
        "modelo.fit(x_azar, y_azar)\n",
        "\n",
        "features = x_azar.columns\n",
        "dot_data = export_graphviz(modelo, out_file=None, filled=True, rounded=True, \n",
        "                class_names=[\"não\", \"sim\"], \n",
        "                feature_names =  features)\n",
        "\n",
        "graph = graphviz.Source(dot_data)\n",
        "graph"
      ],
      "metadata": {
        "colab": {
          "base_uri": "https://localhost:8080/",
          "height": 618
        },
        "id": "0NLyqXw1lZIM",
        "outputId": "2c00c4af-d1d1-46f7-85df-5b5c5468207b"
      },
      "execution_count": 122,
      "outputs": [
        {
          "output_type": "execute_result",
          "data": {
            "text/plain": [
              "<graphviz.files.Source at 0x7f9b976a8d50>"
            ],
            "image/svg+xml": "<?xml version=\"1.0\" encoding=\"UTF-8\" standalone=\"no\"?>\n<!DOCTYPE svg PUBLIC \"-//W3C//DTD SVG 1.1//EN\"\n \"http://www.w3.org/Graphics/SVG/1.1/DTD/svg11.dtd\">\n<!-- Generated by graphviz version 2.40.1 (20161225.0304)\n -->\n<!-- Title: Tree Pages: 1 -->\n<svg width=\"912pt\" height=\"433pt\"\n viewBox=\"0.00 0.00 912.00 433.00\" xmlns=\"http://www.w3.org/2000/svg\" xmlns:xlink=\"http://www.w3.org/1999/xlink\">\n<g id=\"graph0\" class=\"graph\" transform=\"scale(1 1) rotate(0) translate(4 429)\">\n<title>Tree</title>\n<polygon fill=\"#ffffff\" stroke=\"transparent\" points=\"-4,4 -4,-429 908,-429 908,4 -4,4\"/>\n<!-- 0 -->\n<g id=\"node1\" class=\"node\">\n<title>0</title>\n<path fill=\"#c8e4f8\" stroke=\"#000000\" d=\"M372.5,-425C372.5,-425 247.5,-425 247.5,-425 241.5,-425 235.5,-419 235.5,-413 235.5,-413 235.5,-354 235.5,-354 235.5,-348 241.5,-342 247.5,-342 247.5,-342 372.5,-342 372.5,-342 378.5,-342 384.5,-348 384.5,-354 384.5,-354 384.5,-413 384.5,-413 384.5,-419 378.5,-425 372.5,-425\"/>\n<text text-anchor=\"middle\" x=\"310\" y=\"-409.8\" font-family=\"Helvetica,sans-Serif\" font-size=\"14.00\" fill=\"#000000\">preco &lt;= 59982.246</text>\n<text text-anchor=\"middle\" x=\"310\" y=\"-394.8\" font-family=\"Helvetica,sans-Serif\" font-size=\"14.00\" fill=\"#000000\">gini = 0.487</text>\n<text text-anchor=\"middle\" x=\"310\" y=\"-379.8\" font-family=\"Helvetica,sans-Serif\" font-size=\"14.00\" fill=\"#000000\">samples = 10000</text>\n<text text-anchor=\"middle\" x=\"310\" y=\"-364.8\" font-family=\"Helvetica,sans-Serif\" font-size=\"14.00\" fill=\"#000000\">value = [4200, 5800]</text>\n<text text-anchor=\"middle\" x=\"310\" y=\"-349.8\" font-family=\"Helvetica,sans-Serif\" font-size=\"14.00\" fill=\"#000000\">class = sim</text>\n</g>\n<!-- 1 -->\n<g id=\"node2\" class=\"node\">\n<title>1</title>\n<path fill=\"#52a9e8\" stroke=\"#000000\" d=\"M277.5,-306C277.5,-306 154.5,-306 154.5,-306 148.5,-306 142.5,-300 142.5,-294 142.5,-294 142.5,-235 142.5,-235 142.5,-229 148.5,-223 154.5,-223 154.5,-223 277.5,-223 277.5,-223 283.5,-223 289.5,-229 289.5,-235 289.5,-235 289.5,-294 289.5,-294 289.5,-300 283.5,-306 277.5,-306\"/>\n<text text-anchor=\"middle\" x=\"216\" y=\"-290.8\" font-family=\"Helvetica,sans-Serif\" font-size=\"14.00\" fill=\"#000000\">preco &lt;= 40083.385</text>\n<text text-anchor=\"middle\" x=\"216\" y=\"-275.8\" font-family=\"Helvetica,sans-Serif\" font-size=\"14.00\" fill=\"#000000\">gini = 0.198</text>\n<text text-anchor=\"middle\" x=\"216\" y=\"-260.8\" font-family=\"Helvetica,sans-Serif\" font-size=\"14.00\" fill=\"#000000\">samples = 4347</text>\n<text text-anchor=\"middle\" x=\"216\" y=\"-245.8\" font-family=\"Helvetica,sans-Serif\" font-size=\"14.00\" fill=\"#000000\">value = [484, 3863]</text>\n<text text-anchor=\"middle\" x=\"216\" y=\"-230.8\" font-family=\"Helvetica,sans-Serif\" font-size=\"14.00\" fill=\"#000000\">class = sim</text>\n</g>\n<!-- 0&#45;&gt;1 -->\n<g id=\"edge1\" class=\"edge\">\n<title>0&#45;&gt;1</title>\n<path fill=\"none\" stroke=\"#000000\" d=\"M277.1234,-341.8796C270.0803,-332.9633 262.5707,-323.4565 255.3126,-314.268\"/>\n<polygon fill=\"#000000\" stroke=\"#000000\" points=\"257.9621,-311.9757 249.017,-306.2981 252.4691,-316.3147 257.9621,-311.9757\"/>\n<text text-anchor=\"middle\" x=\"246.1027\" y=\"-327.4276\" font-family=\"Helvetica,sans-Serif\" font-size=\"14.00\" fill=\"#000000\">True</text>\n</g>\n<!-- 6 -->\n<g id=\"node7\" class=\"node\">\n<title>6</title>\n<path fill=\"#f3c3a0\" stroke=\"#000000\" d=\"M545,-306C545,-306 377,-306 377,-306 371,-306 365,-300 365,-294 365,-294 365,-235 365,-235 365,-229 371,-223 377,-223 377,-223 545,-223 545,-223 551,-223 557,-229 557,-235 557,-235 557,-294 557,-294 557,-300 551,-306 545,-306\"/>\n<text text-anchor=\"middle\" x=\"461\" y=\"-290.8\" font-family=\"Helvetica,sans-Serif\" font-size=\"14.00\" fill=\"#000000\">km_por_ano &lt;= 24124.006</text>\n<text text-anchor=\"middle\" x=\"461\" y=\"-275.8\" font-family=\"Helvetica,sans-Serif\" font-size=\"14.00\" fill=\"#000000\">gini = 0.45</text>\n<text text-anchor=\"middle\" x=\"461\" y=\"-260.8\" font-family=\"Helvetica,sans-Serif\" font-size=\"14.00\" fill=\"#000000\">samples = 5653</text>\n<text text-anchor=\"middle\" x=\"461\" y=\"-245.8\" font-family=\"Helvetica,sans-Serif\" font-size=\"14.00\" fill=\"#000000\">value = [3716, 1937]</text>\n<text text-anchor=\"middle\" x=\"461\" y=\"-230.8\" font-family=\"Helvetica,sans-Serif\" font-size=\"14.00\" fill=\"#000000\">class = não</text>\n</g>\n<!-- 0&#45;&gt;6 -->\n<g id=\"edge6\" class=\"edge\">\n<title>0&#45;&gt;6</title>\n<path fill=\"none\" stroke=\"#000000\" d=\"M362.8125,-341.8796C374.8818,-332.368 387.8039,-322.1843 400.1788,-312.432\"/>\n<polygon fill=\"#000000\" stroke=\"#000000\" points=\"402.5296,-315.0356 408.2173,-306.0969 398.1968,-309.5377 402.5296,-315.0356\"/>\n<text text-anchor=\"middle\" x=\"405.275\" y=\"-327.2232\" font-family=\"Helvetica,sans-Serif\" font-size=\"14.00\" fill=\"#000000\">False</text>\n</g>\n<!-- 2 -->\n<g id=\"node3\" class=\"node\">\n<title>2</title>\n<path fill=\"#399de5\" stroke=\"#000000\" d=\"M112,-179.5C112,-179.5 12,-179.5 12,-179.5 6,-179.5 0,-173.5 0,-167.5 0,-167.5 0,-123.5 0,-123.5 0,-117.5 6,-111.5 12,-111.5 12,-111.5 112,-111.5 112,-111.5 118,-111.5 124,-117.5 124,-123.5 124,-123.5 124,-167.5 124,-167.5 124,-173.5 118,-179.5 112,-179.5\"/>\n<text text-anchor=\"middle\" x=\"62\" y=\"-164.3\" font-family=\"Helvetica,sans-Serif\" font-size=\"14.00\" fill=\"#000000\">gini = 0.0</text>\n<text text-anchor=\"middle\" x=\"62\" y=\"-149.3\" font-family=\"Helvetica,sans-Serif\" font-size=\"14.00\" fill=\"#000000\">samples = 1935</text>\n<text text-anchor=\"middle\" x=\"62\" y=\"-134.3\" font-family=\"Helvetica,sans-Serif\" font-size=\"14.00\" fill=\"#000000\">value = [0, 1935]</text>\n<text text-anchor=\"middle\" x=\"62\" y=\"-119.3\" font-family=\"Helvetica,sans-Serif\" font-size=\"14.00\" fill=\"#000000\">class = sim</text>\n</g>\n<!-- 1&#45;&gt;2 -->\n<g id=\"edge2\" class=\"edge\">\n<title>1&#45;&gt;2</title>\n<path fill=\"none\" stroke=\"#000000\" d=\"M162.1383,-222.8796C146.7696,-211.0038 130.0453,-198.0804 114.7441,-186.2568\"/>\n<polygon fill=\"#000000\" stroke=\"#000000\" points=\"116.4605,-183.1599 106.4076,-179.8149 112.1804,-188.699 116.4605,-183.1599\"/>\n</g>\n<!-- 3 -->\n<g id=\"node4\" class=\"node\">\n<title>3</title>\n<path fill=\"#6bb6ec\" stroke=\"#000000\" d=\"M277.5,-187C277.5,-187 154.5,-187 154.5,-187 148.5,-187 142.5,-181 142.5,-175 142.5,-175 142.5,-116 142.5,-116 142.5,-110 148.5,-104 154.5,-104 154.5,-104 277.5,-104 277.5,-104 283.5,-104 289.5,-110 289.5,-116 289.5,-116 289.5,-175 289.5,-175 289.5,-181 283.5,-187 277.5,-187\"/>\n<text text-anchor=\"middle\" x=\"216\" y=\"-171.8\" font-family=\"Helvetica,sans-Serif\" font-size=\"14.00\" fill=\"#000000\">preco &lt;= 41083.029</text>\n<text text-anchor=\"middle\" x=\"216\" y=\"-156.8\" font-family=\"Helvetica,sans-Serif\" font-size=\"14.00\" fill=\"#000000\">gini = 0.321</text>\n<text text-anchor=\"middle\" x=\"216\" y=\"-141.8\" font-family=\"Helvetica,sans-Serif\" font-size=\"14.00\" fill=\"#000000\">samples = 2412</text>\n<text text-anchor=\"middle\" x=\"216\" y=\"-126.8\" font-family=\"Helvetica,sans-Serif\" font-size=\"14.00\" fill=\"#000000\">value = [484, 1928]</text>\n<text text-anchor=\"middle\" x=\"216\" y=\"-111.8\" font-family=\"Helvetica,sans-Serif\" font-size=\"14.00\" fill=\"#000000\">class = sim</text>\n</g>\n<!-- 1&#45;&gt;3 -->\n<g id=\"edge3\" class=\"edge\">\n<title>1&#45;&gt;3</title>\n<path fill=\"none\" stroke=\"#000000\" d=\"M216,-222.8796C216,-214.6838 216,-205.9891 216,-197.5013\"/>\n<polygon fill=\"#000000\" stroke=\"#000000\" points=\"219.5001,-197.298 216,-187.2981 212.5001,-197.2981 219.5001,-197.298\"/>\n</g>\n<!-- 4 -->\n<g id=\"node5\" class=\"node\">\n<title>4</title>\n<path fill=\"#95cbf1\" stroke=\"#000000\" d=\"M116,-68C116,-68 24,-68 24,-68 18,-68 12,-62 12,-56 12,-56 12,-12 12,-12 12,-6 18,0 24,0 24,0 116,0 116,0 122,0 128,-6 128,-12 128,-12 128,-56 128,-56 128,-62 122,-68 116,-68\"/>\n<text text-anchor=\"middle\" x=\"70\" y=\"-52.8\" font-family=\"Helvetica,sans-Serif\" font-size=\"14.00\" fill=\"#000000\">gini = 0.434</text>\n<text text-anchor=\"middle\" x=\"70\" y=\"-37.8\" font-family=\"Helvetica,sans-Serif\" font-size=\"14.00\" fill=\"#000000\">samples = 110</text>\n<text text-anchor=\"middle\" x=\"70\" y=\"-22.8\" font-family=\"Helvetica,sans-Serif\" font-size=\"14.00\" fill=\"#000000\">value = [35, 75]</text>\n<text text-anchor=\"middle\" x=\"70\" y=\"-7.8\" font-family=\"Helvetica,sans-Serif\" font-size=\"14.00\" fill=\"#000000\">class = sim</text>\n</g>\n<!-- 3&#45;&gt;4 -->\n<g id=\"edge4\" class=\"edge\">\n<title>3&#45;&gt;4</title>\n<path fill=\"none\" stroke=\"#000000\" d=\"M161.635,-103.9815C148.9989,-94.3313 135.5644,-84.0714 122.9885,-74.4673\"/>\n<polygon fill=\"#000000\" stroke=\"#000000\" points=\"124.9372,-71.5515 114.8654,-68.2637 120.6886,-77.1148 124.9372,-71.5515\"/>\n</g>\n<!-- 5 -->\n<g id=\"node6\" class=\"node\">\n<title>5</title>\n<path fill=\"#69b5eb\" stroke=\"#000000\" d=\"M274,-68C274,-68 158,-68 158,-68 152,-68 146,-62 146,-56 146,-56 146,-12 146,-12 146,-6 152,0 158,0 158,0 274,0 274,0 280,0 286,-6 286,-12 286,-12 286,-56 286,-56 286,-62 280,-68 274,-68\"/>\n<text text-anchor=\"middle\" x=\"216\" y=\"-52.8\" font-family=\"Helvetica,sans-Serif\" font-size=\"14.00\" fill=\"#000000\">gini = 0.314</text>\n<text text-anchor=\"middle\" x=\"216\" y=\"-37.8\" font-family=\"Helvetica,sans-Serif\" font-size=\"14.00\" fill=\"#000000\">samples = 2302</text>\n<text text-anchor=\"middle\" x=\"216\" y=\"-22.8\" font-family=\"Helvetica,sans-Serif\" font-size=\"14.00\" fill=\"#000000\">value = [449, 1853]</text>\n<text text-anchor=\"middle\" x=\"216\" y=\"-7.8\" font-family=\"Helvetica,sans-Serif\" font-size=\"14.00\" fill=\"#000000\">class = sim</text>\n</g>\n<!-- 3&#45;&gt;5 -->\n<g id=\"edge5\" class=\"edge\">\n<title>3&#45;&gt;5</title>\n<path fill=\"none\" stroke=\"#000000\" d=\"M216,-103.9815C216,-95.618 216,-86.7965 216,-78.3409\"/>\n<polygon fill=\"#000000\" stroke=\"#000000\" points=\"219.5001,-78.2636 216,-68.2637 212.5001,-78.2637 219.5001,-78.2636\"/>\n</g>\n<!-- 7 -->\n<g id=\"node8\" class=\"node\">\n<title>7</title>\n<path fill=\"#fcefe5\" stroke=\"#000000\" d=\"M523.5,-187C523.5,-187 398.5,-187 398.5,-187 392.5,-187 386.5,-181 386.5,-175 386.5,-175 386.5,-116 386.5,-116 386.5,-110 392.5,-104 398.5,-104 398.5,-104 523.5,-104 523.5,-104 529.5,-104 535.5,-110 535.5,-116 535.5,-116 535.5,-175 535.5,-175 535.5,-181 529.5,-187 523.5,-187\"/>\n<text text-anchor=\"middle\" x=\"461\" y=\"-171.8\" font-family=\"Helvetica,sans-Serif\" font-size=\"14.00\" fill=\"#000000\">preco &lt;= 99974.41</text>\n<text text-anchor=\"middle\" x=\"461\" y=\"-156.8\" font-family=\"Helvetica,sans-Serif\" font-size=\"14.00\" fill=\"#000000\">gini = 0.498</text>\n<text text-anchor=\"middle\" x=\"461\" y=\"-141.8\" font-family=\"Helvetica,sans-Serif\" font-size=\"14.00\" fill=\"#000000\">samples = 3513</text>\n<text text-anchor=\"middle\" x=\"461\" y=\"-126.8\" font-family=\"Helvetica,sans-Serif\" font-size=\"14.00\" fill=\"#000000\">value = [1879, 1634]</text>\n<text text-anchor=\"middle\" x=\"461\" y=\"-111.8\" font-family=\"Helvetica,sans-Serif\" font-size=\"14.00\" fill=\"#000000\">class = não</text>\n</g>\n<!-- 6&#45;&gt;7 -->\n<g id=\"edge7\" class=\"edge\">\n<title>6&#45;&gt;7</title>\n<path fill=\"none\" stroke=\"#000000\" d=\"M461,-222.8796C461,-214.6838 461,-205.9891 461,-197.5013\"/>\n<polygon fill=\"#000000\" stroke=\"#000000\" points=\"464.5001,-197.298 461,-187.2981 457.5001,-197.2981 464.5001,-197.298\"/>\n</g>\n<!-- 10 -->\n<g id=\"node11\" class=\"node\">\n<title>10</title>\n<path fill=\"#e9965a\" stroke=\"#000000\" d=\"M753.5,-187C753.5,-187 622.5,-187 622.5,-187 616.5,-187 610.5,-181 610.5,-175 610.5,-175 610.5,-116 610.5,-116 610.5,-110 616.5,-104 622.5,-104 622.5,-104 753.5,-104 753.5,-104 759.5,-104 765.5,-110 765.5,-116 765.5,-116 765.5,-175 765.5,-175 765.5,-181 759.5,-187 753.5,-187\"/>\n<text text-anchor=\"middle\" x=\"688\" y=\"-171.8\" font-family=\"Helvetica,sans-Serif\" font-size=\"14.00\" fill=\"#000000\">preco &lt;= 100076.957</text>\n<text text-anchor=\"middle\" x=\"688\" y=\"-156.8\" font-family=\"Helvetica,sans-Serif\" font-size=\"14.00\" fill=\"#000000\">gini = 0.243</text>\n<text text-anchor=\"middle\" x=\"688\" y=\"-141.8\" font-family=\"Helvetica,sans-Serif\" font-size=\"14.00\" fill=\"#000000\">samples = 2140</text>\n<text text-anchor=\"middle\" x=\"688\" y=\"-126.8\" font-family=\"Helvetica,sans-Serif\" font-size=\"14.00\" fill=\"#000000\">value = [1837, 303]</text>\n<text text-anchor=\"middle\" x=\"688\" y=\"-111.8\" font-family=\"Helvetica,sans-Serif\" font-size=\"14.00\" fill=\"#000000\">class = não</text>\n</g>\n<!-- 6&#45;&gt;10 -->\n<g id=\"edge10\" class=\"edge\">\n<title>6&#45;&gt;10</title>\n<path fill=\"none\" stroke=\"#000000\" d=\"M540.3936,-222.8796C560.0179,-212.592 581.1418,-201.5182 601.1025,-191.0542\"/>\n<polygon fill=\"#000000\" stroke=\"#000000\" points=\"602.9504,-194.0373 610.1822,-186.2944 599.7003,-187.8375 602.9504,-194.0373\"/>\n</g>\n<!-- 8 -->\n<g id=\"node9\" class=\"node\">\n<title>8</title>\n<path fill=\"#f9e0ce\" stroke=\"#000000\" d=\"M441.5,-68C441.5,-68 316.5,-68 316.5,-68 310.5,-68 304.5,-62 304.5,-56 304.5,-56 304.5,-12 304.5,-12 304.5,-6 310.5,0 316.5,0 316.5,0 441.5,0 441.5,0 447.5,0 453.5,-6 453.5,-12 453.5,-12 453.5,-56 453.5,-56 453.5,-62 447.5,-68 441.5,-68\"/>\n<text text-anchor=\"middle\" x=\"379\" y=\"-52.8\" font-family=\"Helvetica,sans-Serif\" font-size=\"14.00\" fill=\"#000000\">gini = 0.49</text>\n<text text-anchor=\"middle\" x=\"379\" y=\"-37.8\" font-family=\"Helvetica,sans-Serif\" font-size=\"14.00\" fill=\"#000000\">samples = 2944</text>\n<text text-anchor=\"middle\" x=\"379\" y=\"-22.8\" font-family=\"Helvetica,sans-Serif\" font-size=\"14.00\" fill=\"#000000\">value = [1682, 1262]</text>\n<text text-anchor=\"middle\" x=\"379\" y=\"-7.8\" font-family=\"Helvetica,sans-Serif\" font-size=\"14.00\" fill=\"#000000\">class = não</text>\n</g>\n<!-- 7&#45;&gt;8 -->\n<g id=\"edge8\" class=\"edge\">\n<title>7&#45;&gt;8</title>\n<path fill=\"none\" stroke=\"#000000\" d=\"M430.4662,-103.9815C423.8424,-94.9747 416.8279,-85.4367 410.1795,-76.3965\"/>\n<polygon fill=\"#000000\" stroke=\"#000000\" points=\"412.9426,-74.2461 404.1984,-68.2637 407.3034,-78.3933 412.9426,-74.2461\"/>\n</g>\n<!-- 9 -->\n<g id=\"node10\" class=\"node\">\n<title>9</title>\n<path fill=\"#a2d1f3\" stroke=\"#000000\" d=\"M592,-68C592,-68 484,-68 484,-68 478,-68 472,-62 472,-56 472,-56 472,-12 472,-12 472,-6 478,0 484,0 484,0 592,0 592,0 598,0 604,-6 604,-12 604,-12 604,-56 604,-56 604,-62 598,-68 592,-68\"/>\n<text text-anchor=\"middle\" x=\"538\" y=\"-52.8\" font-family=\"Helvetica,sans-Serif\" font-size=\"14.00\" fill=\"#000000\">gini = 0.453</text>\n<text text-anchor=\"middle\" x=\"538\" y=\"-37.8\" font-family=\"Helvetica,sans-Serif\" font-size=\"14.00\" fill=\"#000000\">samples = 569</text>\n<text text-anchor=\"middle\" x=\"538\" y=\"-22.8\" font-family=\"Helvetica,sans-Serif\" font-size=\"14.00\" fill=\"#000000\">value = [197, 372]</text>\n<text text-anchor=\"middle\" x=\"538\" y=\"-7.8\" font-family=\"Helvetica,sans-Serif\" font-size=\"14.00\" fill=\"#000000\">class = sim</text>\n</g>\n<!-- 7&#45;&gt;9 -->\n<g id=\"edge9\" class=\"edge\">\n<title>7&#45;&gt;9</title>\n<path fill=\"none\" stroke=\"#000000\" d=\"M489.672,-103.9815C495.8285,-95.0666 502.3443,-85.6313 508.5305,-76.6734\"/>\n<polygon fill=\"#000000\" stroke=\"#000000\" points=\"511.5355,-78.4811 514.3381,-68.2637 505.7755,-74.5034 511.5355,-78.4811\"/>\n</g>\n<!-- 11 -->\n<g id=\"node12\" class=\"node\">\n<title>11</title>\n<path fill=\"#e68742\" stroke=\"#000000\" d=\"M742,-68C742,-68 634,-68 634,-68 628,-68 622,-62 622,-56 622,-56 622,-12 622,-12 622,-6 628,0 634,0 634,0 742,0 742,0 748,0 754,-6 754,-12 754,-12 754,-56 754,-56 754,-62 748,-68 742,-68\"/>\n<text text-anchor=\"middle\" x=\"688\" y=\"-52.8\" font-family=\"Helvetica,sans-Serif\" font-size=\"14.00\" fill=\"#000000\">gini = 0.082</text>\n<text text-anchor=\"middle\" x=\"688\" y=\"-37.8\" font-family=\"Helvetica,sans-Serif\" font-size=\"14.00\" fill=\"#000000\">samples = 1809</text>\n<text text-anchor=\"middle\" x=\"688\" y=\"-22.8\" font-family=\"Helvetica,sans-Serif\" font-size=\"14.00\" fill=\"#000000\">value = [1732, 77]</text>\n<text text-anchor=\"middle\" x=\"688\" y=\"-7.8\" font-family=\"Helvetica,sans-Serif\" font-size=\"14.00\" fill=\"#000000\">class = não</text>\n</g>\n<!-- 10&#45;&gt;11 -->\n<g id=\"edge11\" class=\"edge\">\n<title>10&#45;&gt;11</title>\n<path fill=\"none\" stroke=\"#000000\" d=\"M688,-103.9815C688,-95.618 688,-86.7965 688,-78.3409\"/>\n<polygon fill=\"#000000\" stroke=\"#000000\" points=\"691.5001,-78.2636 688,-68.2637 684.5001,-78.2637 691.5001,-78.2636\"/>\n</g>\n<!-- 12 -->\n<g id=\"node13\" class=\"node\">\n<title>12</title>\n<path fill=\"#95cbf1\" stroke=\"#000000\" d=\"M892,-68C892,-68 784,-68 784,-68 778,-68 772,-62 772,-56 772,-56 772,-12 772,-12 772,-6 778,0 784,0 784,0 892,0 892,0 898,0 904,-6 904,-12 904,-12 904,-56 904,-56 904,-62 898,-68 892,-68\"/>\n<text text-anchor=\"middle\" x=\"838\" y=\"-52.8\" font-family=\"Helvetica,sans-Serif\" font-size=\"14.00\" fill=\"#000000\">gini = 0.433</text>\n<text text-anchor=\"middle\" x=\"838\" y=\"-37.8\" font-family=\"Helvetica,sans-Serif\" font-size=\"14.00\" fill=\"#000000\">samples = 331</text>\n<text text-anchor=\"middle\" x=\"838\" y=\"-22.8\" font-family=\"Helvetica,sans-Serif\" font-size=\"14.00\" fill=\"#000000\">value = [105, 226]</text>\n<text text-anchor=\"middle\" x=\"838\" y=\"-7.8\" font-family=\"Helvetica,sans-Serif\" font-size=\"14.00\" fill=\"#000000\">class = sim</text>\n</g>\n<!-- 10&#45;&gt;12 -->\n<g id=\"edge12\" class=\"edge\">\n<title>10&#45;&gt;12</title>\n<path fill=\"none\" stroke=\"#000000\" d=\"M743.8545,-103.9815C756.8368,-94.3313 770.6394,-84.0714 783.5597,-74.4673\"/>\n<polygon fill=\"#000000\" stroke=\"#000000\" points=\"785.9678,-77.0384 791.9054,-68.2637 781.7917,-71.4204 785.9678,-77.0384\"/>\n</g>\n</g>\n</svg>\n"
          },
          "metadata": {},
          "execution_count": 122
        }
      ]
    },
    {
      "cell_type": "markdown",
      "source": [
        "How about using depth=10?"
      ],
      "metadata": {
        "id": "6qeeLF_WlkUW"
      }
    },
    {
      "cell_type": "code",
      "source": [
        "from sklearn.model_selection import GroupKFold\n",
        "\n",
        "SEED = 301\n",
        "np.random.seed(SEED)\n",
        "\n",
        "cv = GroupKFold(n_splits = 10)\n",
        "modelo = DecisionTreeClassifier(max_depth=10)\n",
        "results = cross_validate(modelo, x_azar, y_azar, cv = cv, groups = dados.modelo, return_train_score=False)\n",
        "imprime_resultados(results)"
      ],
      "metadata": {
        "colab": {
          "base_uri": "https://localhost:8080/"
        },
        "id": "pC1wuDWYlujz",
        "outputId": "a30ed452-504e-4fb0-ee7f-0da319dde4d4"
      },
      "execution_count": 123,
      "outputs": [
        {
          "output_type": "stream",
          "name": "stdout",
          "text": [
            "Accuracy avg 77.19\n",
            "Interval [75.26, 79.13]\n"
          ]
        }
      ]
    },
    {
      "cell_type": "markdown",
      "source": [
        "Not necessarily a higher depth reflects a better accuracy, with depth=10 worst accuracy."
      ],
      "metadata": {
        "id": "j_s1SUFalzEh"
      }
    },
    {
      "cell_type": "markdown",
      "source": [
        "# How we choose the algorithms parameters (e.g., depth from tree classifier) to optimize our estimators?"
      ],
      "metadata": {
        "id": "TmakxnG0mHoW"
      }
    },
    {
      "cell_type": "markdown",
      "source": [
        "Hyper-parameters are those parameters we choose (e.g., set depth=3 in our decision tree classifier) before trainning (running) the model."
      ],
      "metadata": {
        "id": "49jXGsdPmiZ9"
      }
    },
    {
      "cell_type": "markdown",
      "source": [
        "## Testing parameters (one dimension)"
      ],
      "metadata": {
        "id": "uG-O0oZBnGdI"
      }
    },
    {
      "cell_type": "markdown",
      "source": [
        "### Max depth Decision Tree classifier"
      ],
      "metadata": {
        "id": "WLiwmh6vtUcv"
      }
    },
    {
      "cell_type": "markdown",
      "source": [
        "Instead of choosing your max_depth you can test in your algorithm all different parameters."
      ],
      "metadata": {
        "id": "qFv9Uk1lm2ie"
      }
    },
    {
      "cell_type": "code",
      "source": [
        "from sklearn.model_selection import GroupKFold\n",
        "\n",
        "def roda_arvore_de_decisao(max_depth): # define a function to perform our decision tree model\n",
        "  SEED = 301\n",
        "  np.random.seed(SEED)\n",
        "\n",
        "  cv = GroupKFold(n_splits = 10)\n",
        "  modelo = DecisionTreeClassifier(max_depth=max_depth)\n",
        "  results = cross_validate(modelo, x_azar, y_azar, cv = cv, groups = dados.modelo, return_train_score=False)\n",
        "  print(\"max_depth = %d, mean =%.2f\" % (max_depth, results['test_score'].mean() * 100)) # if you exclude this line you will have more than the mean\n",
        "\n",
        "for i in range (1, 33): # run the algorithm using max_depth =1 to =33\n",
        "      roda_arvore_de_decisao(i)"
      ],
      "metadata": {
        "colab": {
          "base_uri": "https://localhost:8080/"
        },
        "id": "ZAjSWVCbnIux",
        "outputId": "05a10614-118c-4bf8-bc62-b6d1a1b3bbb8"
      },
      "execution_count": 124,
      "outputs": [
        {
          "output_type": "stream",
          "name": "stdout",
          "text": [
            "max_depth = 1, mean =75.78\n",
            "max_depth = 2, mean =75.78\n",
            "max_depth = 3, mean =78.67\n",
            "max_depth = 4, mean =78.63\n",
            "max_depth = 5, mean =78.56\n",
            "max_depth = 6, mean =78.12\n",
            "max_depth = 7, mean =77.96\n",
            "max_depth = 8, mean =77.86\n",
            "max_depth = 9, mean =77.38\n",
            "max_depth = 10, mean =77.19\n",
            "max_depth = 11, mean =76.97\n",
            "max_depth = 12, mean =76.49\n",
            "max_depth = 13, mean =75.81\n",
            "max_depth = 14, mean =75.66\n",
            "max_depth = 15, mean =75.16\n",
            "max_depth = 16, mean =75.11\n",
            "max_depth = 17, mean =74.74\n",
            "max_depth = 18, mean =74.33\n",
            "max_depth = 19, mean =74.34\n",
            "max_depth = 20, mean =74.22\n",
            "max_depth = 21, mean =73.80\n",
            "max_depth = 22, mean =73.81\n",
            "max_depth = 23, mean =73.38\n",
            "max_depth = 24, mean =73.43\n",
            "max_depth = 25, mean =73.14\n",
            "max_depth = 26, mean =73.04\n",
            "max_depth = 27, mean =72.91\n",
            "max_depth = 28, mean =72.66\n",
            "max_depth = 29, mean =72.73\n",
            "max_depth = 30, mean =72.81\n",
            "max_depth = 31, mean =72.86\n",
            "max_depth = 32, mean =72.52\n"
          ]
        }
      ]
    },
    {
      "cell_type": "markdown",
      "source": [
        "See that with a higher max_depth the performance wasn't better. "
      ],
      "metadata": {
        "id": "PPnXsVDWoZdL"
      }
    },
    {
      "cell_type": "markdown",
      "source": [
        "The above code run the algorithm in our test data. A decision tree with a high max_depth becomes very attached to the train dataset and performs worst when new data is introduced (when model is ran in the test data). Attached in the sense that it captures all the specificities of the train data but becomes rigid and cannot adapt and interpret well new data (our test). "
      ],
      "metadata": {
        "id": "wXgAaJ_LoxE0"
      }
    },
    {
      "cell_type": "markdown",
      "source": [
        "See that this is happening below, with the algorithm getting better and better when fitted to the train data but not to the test data."
      ],
      "metadata": {
        "id": "4JZ3pBzyphHr"
      }
    },
    {
      "cell_type": "code",
      "source": [
        "from sklearn.model_selection import GroupKFold\n",
        "\n",
        "def roda_arvore_de_decisao(max_depth):\n",
        "  SEED = 301\n",
        "  np.random.seed(SEED)\n",
        "\n",
        "  cv = GroupKFold(n_splits = 10)\n",
        "  modelo = DecisionTreeClassifier(max_depth=max_depth)\n",
        "  results = cross_validate(modelo, x_azar, y_azar, cv = cv, groups = dados.modelo, return_train_score=True)\n",
        "  print(\"Arvore max_depth = %d, fitted to train data = %.2f, fitted to test data = %.2f,\" % (max_depth, results['train_score'].mean() * 100, results['test_score'].mean() * 100))\n",
        "\n",
        "\n",
        "\n",
        "for i in range (1, 33):\n",
        "      roda_arvore_de_decisao(i)"
      ],
      "metadata": {
        "colab": {
          "base_uri": "https://localhost:8080/"
        },
        "id": "CYEYT77qpd8Y",
        "outputId": "b7077f4a-361c-4644-af36-904bf8703030"
      },
      "execution_count": 125,
      "outputs": [
        {
          "output_type": "stream",
          "name": "stdout",
          "text": [
            "Arvore max_depth = 1, fitted to train data = 75.79, fitted to test data = 75.78,\n",
            "Arvore max_depth = 2, fitted to train data = 75.79, fitted to test data = 75.78,\n",
            "Arvore max_depth = 3, fitted to train data = 78.75, fitted to test data = 78.67,\n",
            "Arvore max_depth = 4, fitted to train data = 78.79, fitted to test data = 78.63,\n",
            "Arvore max_depth = 5, fitted to train data = 78.94, fitted to test data = 78.56,\n",
            "Arvore max_depth = 6, fitted to train data = 79.17, fitted to test data = 78.12,\n",
            "Arvore max_depth = 7, fitted to train data = 79.50, fitted to test data = 77.96,\n",
            "Arvore max_depth = 8, fitted to train data = 79.89, fitted to test data = 77.86,\n",
            "Arvore max_depth = 9, fitted to train data = 80.46, fitted to test data = 77.38,\n",
            "Arvore max_depth = 10, fitted to train data = 81.16, fitted to test data = 77.19,\n",
            "Arvore max_depth = 11, fitted to train data = 82.03, fitted to test data = 76.97,\n",
            "Arvore max_depth = 12, fitted to train data = 82.89, fitted to test data = 76.49,\n",
            "Arvore max_depth = 13, fitted to train data = 83.95, fitted to test data = 75.81,\n",
            "Arvore max_depth = 14, fitted to train data = 85.03, fitted to test data = 75.66,\n",
            "Arvore max_depth = 15, fitted to train data = 86.14, fitted to test data = 75.16,\n",
            "Arvore max_depth = 16, fitted to train data = 87.19, fitted to test data = 75.11,\n",
            "Arvore max_depth = 17, fitted to train data = 88.31, fitted to test data = 74.74,\n",
            "Arvore max_depth = 18, fitted to train data = 89.26, fitted to test data = 74.33,\n",
            "Arvore max_depth = 19, fitted to train data = 90.32, fitted to test data = 74.34,\n",
            "Arvore max_depth = 20, fitted to train data = 91.32, fitted to test data = 74.22,\n",
            "Arvore max_depth = 21, fitted to train data = 92.14, fitted to test data = 73.80,\n",
            "Arvore max_depth = 22, fitted to train data = 93.02, fitted to test data = 73.81,\n",
            "Arvore max_depth = 23, fitted to train data = 93.80, fitted to test data = 73.38,\n",
            "Arvore max_depth = 24, fitted to train data = 94.47, fitted to test data = 73.43,\n",
            "Arvore max_depth = 25, fitted to train data = 95.16, fitted to test data = 73.14,\n",
            "Arvore max_depth = 26, fitted to train data = 95.74, fitted to test data = 73.04,\n",
            "Arvore max_depth = 27, fitted to train data = 96.33, fitted to test data = 72.91,\n",
            "Arvore max_depth = 28, fitted to train data = 96.75, fitted to test data = 72.66,\n",
            "Arvore max_depth = 29, fitted to train data = 97.10, fitted to test data = 72.73,\n",
            "Arvore max_depth = 30, fitted to train data = 97.43, fitted to test data = 72.81,\n",
            "Arvore max_depth = 31, fitted to train data = 97.80, fitted to test data = 72.86,\n",
            "Arvore max_depth = 32, fitted to train data = 98.10, fitted to test data = 72.52,\n"
          ]
        }
      ]
    },
    {
      "cell_type": "markdown",
      "source": [
        "See that the algorithm gets better with higher max_depth only when fitted to the train data."
      ],
      "metadata": {
        "id": "W-A8AlQJp3Y-"
      }
    },
    {
      "cell_type": "markdown",
      "source": [
        "Visualize better"
      ],
      "metadata": {
        "id": "J9dNZT6Zp9UB"
      }
    },
    {
      "cell_type": "code",
      "source": [
        "from sklearn.model_selection import GroupKFold\n",
        "\n",
        "def roda_arvore_de_decisao(max_depth):\n",
        "  SEED = 301\n",
        "  np.random.seed(SEED)\n",
        "\n",
        "  cv = GroupKFold(n_splits = 10)\n",
        "  modelo = DecisionTreeClassifier(max_depth=max_depth)\n",
        "  results = cross_validate(modelo, x_azar, y_azar, cv = cv, groups = dados.modelo, return_train_score=True)\n",
        "  train_score = results['train_score'].mean() * 100\n",
        "  test_score = results['test_score'].mean() * 100\n",
        "  print(\"Arvore max_depth = %d, treino = %.2f, teste = %.2f\" % (max_depth, results['train_score'].mean() * 100, results['test_score'].mean() * 100))\n",
        "  tabela = [max_depth, train_score, test_score]\n",
        "  return tabela\n",
        "\n",
        "resultados = [roda_arvore_de_decisao(i) for i in range (1, 33)] # it rund the function for each i and returns the table\n",
        "resultados = pd.DataFrame(resultados, columns = [\"max_depth\", \"train\", \"test\"]) # transform in a data frame\n",
        "resultados.head(33)"
      ],
      "metadata": {
        "colab": {
          "base_uri": "https://localhost:8080/",
          "height": 0
        },
        "id": "H-m_G2RDqaJP",
        "outputId": "3f72f99b-2fa1-4d6b-a0b5-1a42cc157a94"
      },
      "execution_count": 126,
      "outputs": [
        {
          "output_type": "stream",
          "name": "stdout",
          "text": [
            "Arvore max_depth = 1, treino = 75.79, teste = 75.78\n",
            "Arvore max_depth = 2, treino = 75.79, teste = 75.78\n",
            "Arvore max_depth = 3, treino = 78.75, teste = 78.67\n",
            "Arvore max_depth = 4, treino = 78.79, teste = 78.63\n",
            "Arvore max_depth = 5, treino = 78.94, teste = 78.56\n",
            "Arvore max_depth = 6, treino = 79.17, teste = 78.12\n",
            "Arvore max_depth = 7, treino = 79.50, teste = 77.96\n",
            "Arvore max_depth = 8, treino = 79.89, teste = 77.86\n",
            "Arvore max_depth = 9, treino = 80.46, teste = 77.38\n",
            "Arvore max_depth = 10, treino = 81.16, teste = 77.19\n",
            "Arvore max_depth = 11, treino = 82.03, teste = 76.97\n",
            "Arvore max_depth = 12, treino = 82.89, teste = 76.49\n",
            "Arvore max_depth = 13, treino = 83.95, teste = 75.81\n",
            "Arvore max_depth = 14, treino = 85.03, teste = 75.66\n",
            "Arvore max_depth = 15, treino = 86.14, teste = 75.16\n",
            "Arvore max_depth = 16, treino = 87.19, teste = 75.11\n",
            "Arvore max_depth = 17, treino = 88.31, teste = 74.74\n",
            "Arvore max_depth = 18, treino = 89.26, teste = 74.33\n",
            "Arvore max_depth = 19, treino = 90.32, teste = 74.34\n",
            "Arvore max_depth = 20, treino = 91.32, teste = 74.22\n",
            "Arvore max_depth = 21, treino = 92.14, teste = 73.80\n",
            "Arvore max_depth = 22, treino = 93.02, teste = 73.81\n",
            "Arvore max_depth = 23, treino = 93.80, teste = 73.38\n",
            "Arvore max_depth = 24, treino = 94.47, teste = 73.43\n",
            "Arvore max_depth = 25, treino = 95.16, teste = 73.14\n",
            "Arvore max_depth = 26, treino = 95.74, teste = 73.04\n",
            "Arvore max_depth = 27, treino = 96.33, teste = 72.91\n",
            "Arvore max_depth = 28, treino = 96.75, teste = 72.66\n",
            "Arvore max_depth = 29, treino = 97.10, teste = 72.73\n",
            "Arvore max_depth = 30, treino = 97.43, teste = 72.81\n",
            "Arvore max_depth = 31, treino = 97.80, teste = 72.86\n",
            "Arvore max_depth = 32, treino = 98.10, teste = 72.52\n"
          ]
        },
        {
          "output_type": "execute_result",
          "data": {
            "text/plain": [
              "    max_depth      train       test\n",
              "0           1  75.791169  75.784219\n",
              "1           2  75.791169  75.784219\n",
              "2           3  78.750993  78.672633\n",
              "3           4  78.787628  78.632803\n",
              "4           5  78.941007  78.555912\n",
              "5           6  79.170115  78.123266\n",
              "6           7  79.496806  77.963185\n",
              "7           8  79.887810  77.857951\n",
              "8           9  80.459009  77.376956\n",
              "9          10  81.158994  77.194204\n",
              "10         11  82.032490  76.971552\n",
              "11         12  82.894797  76.494399\n",
              "12         13  83.947087  75.807331\n",
              "13         14  85.029664  75.660482\n",
              "14         15  86.143009  75.156330\n",
              "15         16  87.191999  75.107830\n",
              "16         17  88.309794  74.735658\n",
              "17         18  89.258706  74.333755\n",
              "18         19  90.324252  74.337896\n",
              "19         20  91.321085  74.223478\n",
              "20         21  92.138773  73.801823\n",
              "21         22  93.018677  73.811818\n",
              "22         23  93.795631  73.381112\n",
              "23         24  94.472209  73.431819\n",
              "24         25  95.158024  73.141734\n",
              "25         26  95.744492  73.040462\n",
              "26         27  96.329320  72.913608\n",
              "27         28  96.752575  72.663169\n",
              "28         29  97.100106  72.734907\n",
              "29         30  97.431075  72.813282\n",
              "30         31  97.798758  72.860037\n",
              "31         32  98.104373  72.518877"
            ],
            "text/html": [
              "\n",
              "  <div id=\"df-c7ec4e2d-b501-4af6-aada-06889923caae\">\n",
              "    <div class=\"colab-df-container\">\n",
              "      <div>\n",
              "<style scoped>\n",
              "    .dataframe tbody tr th:only-of-type {\n",
              "        vertical-align: middle;\n",
              "    }\n",
              "\n",
              "    .dataframe tbody tr th {\n",
              "        vertical-align: top;\n",
              "    }\n",
              "\n",
              "    .dataframe thead th {\n",
              "        text-align: right;\n",
              "    }\n",
              "</style>\n",
              "<table border=\"1\" class=\"dataframe\">\n",
              "  <thead>\n",
              "    <tr style=\"text-align: right;\">\n",
              "      <th></th>\n",
              "      <th>max_depth</th>\n",
              "      <th>train</th>\n",
              "      <th>test</th>\n",
              "    </tr>\n",
              "  </thead>\n",
              "  <tbody>\n",
              "    <tr>\n",
              "      <th>0</th>\n",
              "      <td>1</td>\n",
              "      <td>75.791169</td>\n",
              "      <td>75.784219</td>\n",
              "    </tr>\n",
              "    <tr>\n",
              "      <th>1</th>\n",
              "      <td>2</td>\n",
              "      <td>75.791169</td>\n",
              "      <td>75.784219</td>\n",
              "    </tr>\n",
              "    <tr>\n",
              "      <th>2</th>\n",
              "      <td>3</td>\n",
              "      <td>78.750993</td>\n",
              "      <td>78.672633</td>\n",
              "    </tr>\n",
              "    <tr>\n",
              "      <th>3</th>\n",
              "      <td>4</td>\n",
              "      <td>78.787628</td>\n",
              "      <td>78.632803</td>\n",
              "    </tr>\n",
              "    <tr>\n",
              "      <th>4</th>\n",
              "      <td>5</td>\n",
              "      <td>78.941007</td>\n",
              "      <td>78.555912</td>\n",
              "    </tr>\n",
              "    <tr>\n",
              "      <th>5</th>\n",
              "      <td>6</td>\n",
              "      <td>79.170115</td>\n",
              "      <td>78.123266</td>\n",
              "    </tr>\n",
              "    <tr>\n",
              "      <th>6</th>\n",
              "      <td>7</td>\n",
              "      <td>79.496806</td>\n",
              "      <td>77.963185</td>\n",
              "    </tr>\n",
              "    <tr>\n",
              "      <th>7</th>\n",
              "      <td>8</td>\n",
              "      <td>79.887810</td>\n",
              "      <td>77.857951</td>\n",
              "    </tr>\n",
              "    <tr>\n",
              "      <th>8</th>\n",
              "      <td>9</td>\n",
              "      <td>80.459009</td>\n",
              "      <td>77.376956</td>\n",
              "    </tr>\n",
              "    <tr>\n",
              "      <th>9</th>\n",
              "      <td>10</td>\n",
              "      <td>81.158994</td>\n",
              "      <td>77.194204</td>\n",
              "    </tr>\n",
              "    <tr>\n",
              "      <th>10</th>\n",
              "      <td>11</td>\n",
              "      <td>82.032490</td>\n",
              "      <td>76.971552</td>\n",
              "    </tr>\n",
              "    <tr>\n",
              "      <th>11</th>\n",
              "      <td>12</td>\n",
              "      <td>82.894797</td>\n",
              "      <td>76.494399</td>\n",
              "    </tr>\n",
              "    <tr>\n",
              "      <th>12</th>\n",
              "      <td>13</td>\n",
              "      <td>83.947087</td>\n",
              "      <td>75.807331</td>\n",
              "    </tr>\n",
              "    <tr>\n",
              "      <th>13</th>\n",
              "      <td>14</td>\n",
              "      <td>85.029664</td>\n",
              "      <td>75.660482</td>\n",
              "    </tr>\n",
              "    <tr>\n",
              "      <th>14</th>\n",
              "      <td>15</td>\n",
              "      <td>86.143009</td>\n",
              "      <td>75.156330</td>\n",
              "    </tr>\n",
              "    <tr>\n",
              "      <th>15</th>\n",
              "      <td>16</td>\n",
              "      <td>87.191999</td>\n",
              "      <td>75.107830</td>\n",
              "    </tr>\n",
              "    <tr>\n",
              "      <th>16</th>\n",
              "      <td>17</td>\n",
              "      <td>88.309794</td>\n",
              "      <td>74.735658</td>\n",
              "    </tr>\n",
              "    <tr>\n",
              "      <th>17</th>\n",
              "      <td>18</td>\n",
              "      <td>89.258706</td>\n",
              "      <td>74.333755</td>\n",
              "    </tr>\n",
              "    <tr>\n",
              "      <th>18</th>\n",
              "      <td>19</td>\n",
              "      <td>90.324252</td>\n",
              "      <td>74.337896</td>\n",
              "    </tr>\n",
              "    <tr>\n",
              "      <th>19</th>\n",
              "      <td>20</td>\n",
              "      <td>91.321085</td>\n",
              "      <td>74.223478</td>\n",
              "    </tr>\n",
              "    <tr>\n",
              "      <th>20</th>\n",
              "      <td>21</td>\n",
              "      <td>92.138773</td>\n",
              "      <td>73.801823</td>\n",
              "    </tr>\n",
              "    <tr>\n",
              "      <th>21</th>\n",
              "      <td>22</td>\n",
              "      <td>93.018677</td>\n",
              "      <td>73.811818</td>\n",
              "    </tr>\n",
              "    <tr>\n",
              "      <th>22</th>\n",
              "      <td>23</td>\n",
              "      <td>93.795631</td>\n",
              "      <td>73.381112</td>\n",
              "    </tr>\n",
              "    <tr>\n",
              "      <th>23</th>\n",
              "      <td>24</td>\n",
              "      <td>94.472209</td>\n",
              "      <td>73.431819</td>\n",
              "    </tr>\n",
              "    <tr>\n",
              "      <th>24</th>\n",
              "      <td>25</td>\n",
              "      <td>95.158024</td>\n",
              "      <td>73.141734</td>\n",
              "    </tr>\n",
              "    <tr>\n",
              "      <th>25</th>\n",
              "      <td>26</td>\n",
              "      <td>95.744492</td>\n",
              "      <td>73.040462</td>\n",
              "    </tr>\n",
              "    <tr>\n",
              "      <th>26</th>\n",
              "      <td>27</td>\n",
              "      <td>96.329320</td>\n",
              "      <td>72.913608</td>\n",
              "    </tr>\n",
              "    <tr>\n",
              "      <th>27</th>\n",
              "      <td>28</td>\n",
              "      <td>96.752575</td>\n",
              "      <td>72.663169</td>\n",
              "    </tr>\n",
              "    <tr>\n",
              "      <th>28</th>\n",
              "      <td>29</td>\n",
              "      <td>97.100106</td>\n",
              "      <td>72.734907</td>\n",
              "    </tr>\n",
              "    <tr>\n",
              "      <th>29</th>\n",
              "      <td>30</td>\n",
              "      <td>97.431075</td>\n",
              "      <td>72.813282</td>\n",
              "    </tr>\n",
              "    <tr>\n",
              "      <th>30</th>\n",
              "      <td>31</td>\n",
              "      <td>97.798758</td>\n",
              "      <td>72.860037</td>\n",
              "    </tr>\n",
              "    <tr>\n",
              "      <th>31</th>\n",
              "      <td>32</td>\n",
              "      <td>98.104373</td>\n",
              "      <td>72.518877</td>\n",
              "    </tr>\n",
              "  </tbody>\n",
              "</table>\n",
              "</div>\n",
              "      <button class=\"colab-df-convert\" onclick=\"convertToInteractive('df-c7ec4e2d-b501-4af6-aada-06889923caae')\"\n",
              "              title=\"Convert this dataframe to an interactive table.\"\n",
              "              style=\"display:none;\">\n",
              "        \n",
              "  <svg xmlns=\"http://www.w3.org/2000/svg\" height=\"24px\"viewBox=\"0 0 24 24\"\n",
              "       width=\"24px\">\n",
              "    <path d=\"M0 0h24v24H0V0z\" fill=\"none\"/>\n",
              "    <path d=\"M18.56 5.44l.94 2.06.94-2.06 2.06-.94-2.06-.94-.94-2.06-.94 2.06-2.06.94zm-11 1L8.5 8.5l.94-2.06 2.06-.94-2.06-.94L8.5 2.5l-.94 2.06-2.06.94zm10 10l.94 2.06.94-2.06 2.06-.94-2.06-.94-.94-2.06-.94 2.06-2.06.94z\"/><path d=\"M17.41 7.96l-1.37-1.37c-.4-.4-.92-.59-1.43-.59-.52 0-1.04.2-1.43.59L10.3 9.45l-7.72 7.72c-.78.78-.78 2.05 0 2.83L4 21.41c.39.39.9.59 1.41.59.51 0 1.02-.2 1.41-.59l7.78-7.78 2.81-2.81c.8-.78.8-2.07 0-2.86zM5.41 20L4 18.59l7.72-7.72 1.47 1.35L5.41 20z\"/>\n",
              "  </svg>\n",
              "      </button>\n",
              "      \n",
              "  <style>\n",
              "    .colab-df-container {\n",
              "      display:flex;\n",
              "      flex-wrap:wrap;\n",
              "      gap: 12px;\n",
              "    }\n",
              "\n",
              "    .colab-df-convert {\n",
              "      background-color: #E8F0FE;\n",
              "      border: none;\n",
              "      border-radius: 50%;\n",
              "      cursor: pointer;\n",
              "      display: none;\n",
              "      fill: #1967D2;\n",
              "      height: 32px;\n",
              "      padding: 0 0 0 0;\n",
              "      width: 32px;\n",
              "    }\n",
              "\n",
              "    .colab-df-convert:hover {\n",
              "      background-color: #E2EBFA;\n",
              "      box-shadow: 0px 1px 2px rgba(60, 64, 67, 0.3), 0px 1px 3px 1px rgba(60, 64, 67, 0.15);\n",
              "      fill: #174EA6;\n",
              "    }\n",
              "\n",
              "    [theme=dark] .colab-df-convert {\n",
              "      background-color: #3B4455;\n",
              "      fill: #D2E3FC;\n",
              "    }\n",
              "\n",
              "    [theme=dark] .colab-df-convert:hover {\n",
              "      background-color: #434B5C;\n",
              "      box-shadow: 0px 1px 3px 1px rgba(0, 0, 0, 0.15);\n",
              "      filter: drop-shadow(0px 1px 2px rgba(0, 0, 0, 0.3));\n",
              "      fill: #FFFFFF;\n",
              "    }\n",
              "  </style>\n",
              "\n",
              "      <script>\n",
              "        const buttonEl =\n",
              "          document.querySelector('#df-c7ec4e2d-b501-4af6-aada-06889923caae button.colab-df-convert');\n",
              "        buttonEl.style.display =\n",
              "          google.colab.kernel.accessAllowed ? 'block' : 'none';\n",
              "\n",
              "        async function convertToInteractive(key) {\n",
              "          const element = document.querySelector('#df-c7ec4e2d-b501-4af6-aada-06889923caae');\n",
              "          const dataTable =\n",
              "            await google.colab.kernel.invokeFunction('convertToInteractive',\n",
              "                                                     [key], {});\n",
              "          if (!dataTable) return;\n",
              "\n",
              "          const docLinkHtml = 'Like what you see? Visit the ' +\n",
              "            '<a target=\"_blank\" href=https://colab.research.google.com/notebooks/data_table.ipynb>data table notebook</a>'\n",
              "            + ' to learn more about interactive tables.';\n",
              "          element.innerHTML = '';\n",
              "          dataTable['output_type'] = 'display_data';\n",
              "          await google.colab.output.renderOutput(dataTable, element);\n",
              "          const docLink = document.createElement('div');\n",
              "          docLink.innerHTML = docLinkHtml;\n",
              "          element.appendChild(docLink);\n",
              "        }\n",
              "      </script>\n",
              "    </div>\n",
              "  </div>\n",
              "  "
            ]
          },
          "metadata": {},
          "execution_count": 126
        }
      ]
    },
    {
      "cell_type": "markdown",
      "source": [
        "Now you can graph your dataframe above: see that you have overfit in the train data (blue line) but the opposite in the test data"
      ],
      "metadata": {
        "id": "Yer7iH0Kq1Pe"
      }
    },
    {
      "cell_type": "code",
      "source": [
        "import seaborn as sns\n",
        "\n",
        "sns.lineplot(x = \"max_depth\", y = \"train\", data = resultados)\n",
        "sns.lineplot(x = \"max_depth\", y = \"test\", data = resultados)"
      ],
      "metadata": {
        "colab": {
          "base_uri": "https://localhost:8080/",
          "height": 0
        },
        "id": "IEyyKBHurI7v",
        "outputId": "3d4c4af9-bb16-45de-d902-66cb655d8ff2"
      },
      "execution_count": 127,
      "outputs": [
        {
          "output_type": "execute_result",
          "data": {
            "text/plain": [
              "<matplotlib.axes._subplots.AxesSubplot at 0x7f9b97463450>"
            ]
          },
          "metadata": {},
          "execution_count": 127
        },
        {
          "output_type": "display_data",
          "data": {
            "text/plain": [
              "<Figure size 432x288 with 1 Axes>"
            ],
            "image/png": "[encoded data removed]"
          },
          "metadata": {}
        }
      ]
    },
    {
      "cell_type": "code",
      "source": [
        "import matplotlib.pyplot as plt\n",
        "\n",
        "sns.lineplot(x = \"max_depth\", y = \"train\", data = resultados)\n",
        "sns.lineplot(x = \"max_depth\", y = \"test\", data = resultados)\n",
        "plt.legend([\"Treino\", \"Teste\"])"
      ],
      "metadata": {
        "colab": {
          "base_uri": "https://localhost:8080/",
          "height": 0
        },
        "id": "RVd8FSH-rpWo",
        "outputId": "bad1d730-19cf-4e6a-c6c1-c2d3922c7db8"
      },
      "execution_count": 128,
      "outputs": [
        {
          "output_type": "execute_result",
          "data": {
            "text/plain": [
              "<matplotlib.legend.Legend at 0x7f9b9741ba10>"
            ]
          },
          "metadata": {},
          "execution_count": 128
        },
        {
          "output_type": "display_data",
          "data": {
            "text/plain": [
              "<Figure size 432x288 with 1 Axes>"
            ],
            "image/png": "[encoded data removed]"
          },
          "metadata": {}
        }
      ]
    },
    {
      "cell_type": "markdown",
      "source": [
        "Our best decision trees are:"
      ],
      "metadata": {
        "id": "qhxnEQs2rx9L"
      }
    },
    {
      "cell_type": "code",
      "source": [
        "resultados.sort_values(\"test\", ascending=False).head()"
      ],
      "metadata": {
        "colab": {
          "base_uri": "https://localhost:8080/",
          "height": 0
        },
        "id": "6ka1PFZZr0R3",
        "outputId": "4fb53f9e-770c-45da-b7f4-b56192b612a7"
      },
      "execution_count": 129,
      "outputs": [
        {
          "output_type": "execute_result",
          "data": {
            "text/plain": [
              "   max_depth      train       test\n",
              "2          3  78.750993  78.672633\n",
              "3          4  78.787628  78.632803\n",
              "4          5  78.941007  78.555912\n",
              "5          6  79.170115  78.123266\n",
              "6          7  79.496806  77.963185"
            ],
            "text/html": [
              "\n",
              "  <div id=\"df-43544e6a-a657-4ae3-8e55-700625227b35\">\n",
              "    <div class=\"colab-df-container\">\n",
              "      <div>\n",
              "<style scoped>\n",
              "    .dataframe tbody tr th:only-of-type {\n",
              "        vertical-align: middle;\n",
              "    }\n",
              "\n",
              "    .dataframe tbody tr th {\n",
              "        vertical-align: top;\n",
              "    }\n",
              "\n",
              "    .dataframe thead th {\n",
              "        text-align: right;\n",
              "    }\n",
              "</style>\n",
              "<table border=\"1\" class=\"dataframe\">\n",
              "  <thead>\n",
              "    <tr style=\"text-align: right;\">\n",
              "      <th></th>\n",
              "      <th>max_depth</th>\n",
              "      <th>train</th>\n",
              "      <th>test</th>\n",
              "    </tr>\n",
              "  </thead>\n",
              "  <tbody>\n",
              "    <tr>\n",
              "      <th>2</th>\n",
              "      <td>3</td>\n",
              "      <td>78.750993</td>\n",
              "      <td>78.672633</td>\n",
              "    </tr>\n",
              "    <tr>\n",
              "      <th>3</th>\n",
              "      <td>4</td>\n",
              "      <td>78.787628</td>\n",
              "      <td>78.632803</td>\n",
              "    </tr>\n",
              "    <tr>\n",
              "      <th>4</th>\n",
              "      <td>5</td>\n",
              "      <td>78.941007</td>\n",
              "      <td>78.555912</td>\n",
              "    </tr>\n",
              "    <tr>\n",
              "      <th>5</th>\n",
              "      <td>6</td>\n",
              "      <td>79.170115</td>\n",
              "      <td>78.123266</td>\n",
              "    </tr>\n",
              "    <tr>\n",
              "      <th>6</th>\n",
              "      <td>7</td>\n",
              "      <td>79.496806</td>\n",
              "      <td>77.963185</td>\n",
              "    </tr>\n",
              "  </tbody>\n",
              "</table>\n",
              "</div>\n",
              "      <button class=\"colab-df-convert\" onclick=\"convertToInteractive('df-43544e6a-a657-4ae3-8e55-700625227b35')\"\n",
              "              title=\"Convert this dataframe to an interactive table.\"\n",
              "              style=\"display:none;\">\n",
              "        \n",
              "  <svg xmlns=\"http://www.w3.org/2000/svg\" height=\"24px\"viewBox=\"0 0 24 24\"\n",
              "       width=\"24px\">\n",
              "    <path d=\"M0 0h24v24H0V0z\" fill=\"none\"/>\n",
              "    <path d=\"M18.56 5.44l.94 2.06.94-2.06 2.06-.94-2.06-.94-.94-2.06-.94 2.06-2.06.94zm-11 1L8.5 8.5l.94-2.06 2.06-.94-2.06-.94L8.5 2.5l-.94 2.06-2.06.94zm10 10l.94 2.06.94-2.06 2.06-.94-2.06-.94-.94-2.06-.94 2.06-2.06.94z\"/><path d=\"M17.41 7.96l-1.37-1.37c-.4-.4-.92-.59-1.43-.59-.52 0-1.04.2-1.43.59L10.3 9.45l-7.72 7.72c-.78.78-.78 2.05 0 2.83L4 21.41c.39.39.9.59 1.41.59.51 0 1.02-.2 1.41-.59l7.78-7.78 2.81-2.81c.8-.78.8-2.07 0-2.86zM5.41 20L4 18.59l7.72-7.72 1.47 1.35L5.41 20z\"/>\n",
              "  </svg>\n",
              "      </button>\n",
              "      \n",
              "  <style>\n",
              "    .colab-df-container {\n",
              "      display:flex;\n",
              "      flex-wrap:wrap;\n",
              "      gap: 12px;\n",
              "    }\n",
              "\n",
              "    .colab-df-convert {\n",
              "      background-color: #E8F0FE;\n",
              "      border: none;\n",
              "      border-radius: 50%;\n",
              "      cursor: pointer;\n",
              "      display: none;\n",
              "      fill: #1967D2;\n",
              "      height: 32px;\n",
              "      padding: 0 0 0 0;\n",
              "      width: 32px;\n",
              "    }\n",
              "\n",
              "    .colab-df-convert:hover {\n",
              "      background-color: #E2EBFA;\n",
              "      box-shadow: 0px 1px 2px rgba(60, 64, 67, 0.3), 0px 1px 3px 1px rgba(60, 64, 67, 0.15);\n",
              "      fill: #174EA6;\n",
              "    }\n",
              "\n",
              "    [theme=dark] .colab-df-convert {\n",
              "      background-color: #3B4455;\n",
              "      fill: #D2E3FC;\n",
              "    }\n",
              "\n",
              "    [theme=dark] .colab-df-convert:hover {\n",
              "      background-color: #434B5C;\n",
              "      box-shadow: 0px 1px 3px 1px rgba(0, 0, 0, 0.15);\n",
              "      filter: drop-shadow(0px 1px 2px rgba(0, 0, 0, 0.3));\n",
              "      fill: #FFFFFF;\n",
              "    }\n",
              "  </style>\n",
              "\n",
              "      <script>\n",
              "        const buttonEl =\n",
              "          document.querySelector('#df-43544e6a-a657-4ae3-8e55-700625227b35 button.colab-df-convert');\n",
              "        buttonEl.style.display =\n",
              "          google.colab.kernel.accessAllowed ? 'block' : 'none';\n",
              "\n",
              "        async function convertToInteractive(key) {\n",
              "          const element = document.querySelector('#df-43544e6a-a657-4ae3-8e55-700625227b35');\n",
              "          const dataTable =\n",
              "            await google.colab.kernel.invokeFunction('convertToInteractive',\n",
              "                                                     [key], {});\n",
              "          if (!dataTable) return;\n",
              "\n",
              "          const docLinkHtml = 'Like what you see? Visit the ' +\n",
              "            '<a target=\"_blank\" href=https://colab.research.google.com/notebooks/data_table.ipynb>data table notebook</a>'\n",
              "            + ' to learn more about interactive tables.';\n",
              "          element.innerHTML = '';\n",
              "          dataTable['output_type'] = 'display_data';\n",
              "          await google.colab.output.renderOutput(dataTable, element);\n",
              "          const docLink = document.createElement('div');\n",
              "          docLink.innerHTML = docLinkHtml;\n",
              "          element.appendChild(docLink);\n",
              "        }\n",
              "      </script>\n",
              "    </div>\n",
              "  </div>\n",
              "  "
            ]
          },
          "metadata": {},
          "execution_count": 129
        }
      ]
    },
    {
      "cell_type": "markdown",
      "source": [
        "## Testing parameters (two dimensions)"
      ],
      "metadata": {
        "id": "C1vhX_fovK3j"
      }
    },
    {
      "cell_type": "markdown",
      "source": [
        "### Min sample leaf"
      ],
      "metadata": {
        "id": "sq_eLDiItKz6"
      }
    },
    {
      "cell_type": "markdown",
      "source": [
        "If you see tha tree graph, you will verifiy the *samples*. The higher the max_depth the lower will be the *samples* in the last (bottom) leaves/ramifications. The *min_samples* is a parameter from the Decision tree classifier that determines this last ramification *samples*. \n",
        "How to determine this value?"
      ],
      "metadata": {
        "id": "rhA_Cvo0thf8"
      }
    },
    {
      "cell_type": "markdown",
      "source": [
        "So far we tested only max_depth, now we will test two dimensions, max_depth and min_sample_leaf. So a matrix with the combination of these parameters will be tested (e.g., max_depth=1 and min_sample_leaf=1, max_depth=1 and min_sample_leaf=2, ...). See that in practice this could take time to run!"
      ],
      "metadata": {
        "id": "UcKsULXDuHtc"
      }
    },
    {
      "cell_type": "markdown",
      "source": [
        "The below code will take time because will explore all the range i"
      ],
      "metadata": {
        "id": "lBGtrMczwL0b"
      }
    },
    {
      "cell_type": "code",
      "source": [
        "def roda_arvore_de_decisao(max_depth, min_samples_leaf):\n",
        "  SEED = 301\n",
        "  np.random.seed(SEED)\n",
        "\n",
        "  cv = GroupKFold(n_splits = 10)\n",
        "  modelo = DecisionTreeClassifier(max_depth=max_depth, min_samples_leaf = min_samples_leaf) # see we added the parameter min_sample_leaf here\n",
        "  results = cross_validate(modelo, x_azar, y_azar, cv = cv, groups = dados.modelo, return_train_score=True)\n",
        "  train_score = results['train_score'].mean() * 100\n",
        "  test_score = results['test_score'].mean() * 100\n",
        "  print(\"Arvore max_depth = %d, min_samples_leaf = %d, treino = %.2f, teste = %.2f\" % (max_depth, min_samples_leaf, train_score, test_score))\n",
        "  tabela = [max_depth, min_samples_leaf, train_score, test_score] # see we also added min_sample_leaf here\n",
        "  return tabela\n",
        "\n",
        "def busca():\n",
        "  resultados = []\n",
        "  for max_depth in range(1,33):\n",
        "    for min_samples_leaf in range(1,33): \n",
        "        tabela = roda_arvore_de_decisao(max_depth, min_samples_leaf)\n",
        "        resultados.append(tabela)\n",
        "  resultados = pd.DataFrame(resultados, columns= [\"max_depth\",\"min_samples_leaf\",\"train\",\"test\"])\n",
        "  return resultados\n",
        "\n",
        "resultados = busca()\n",
        "resultados.head()"
      ],
      "metadata": {
        "colab": {
          "base_uri": "https://localhost:8080/",
          "height": 1000
        },
        "id": "dJA3OhbGvZkP",
        "outputId": "99ef5bb2-6726-431a-ca65-182575353b1f"
      },
      "execution_count": 130,
      "outputs": [
        {
          "output_type": "stream",
          "name": "stdout",
          "text": [
            "Arvore max_depth = 1, min_samples_leaf = 1, treino = 75.79, teste = 75.78\n",
            "Arvore max_depth = 1, min_samples_leaf = 2, treino = 75.79, teste = 75.78\n",
            "Arvore max_depth = 1, min_samples_leaf = 3, treino = 75.79, teste = 75.78\n",
            "Arvore max_depth = 1, min_samples_leaf = 4, treino = 75.79, teste = 75.78\n",
            "Arvore max_depth = 1, min_samples_leaf = 5, treino = 75.79, teste = 75.78\n",
            "Arvore max_depth = 1, min_samples_leaf = 6, treino = 75.79, teste = 75.78\n",
            "Arvore max_depth = 1, min_samples_leaf = 7, treino = 75.79, teste = 75.78\n",
            "Arvore max_depth = 1, min_samples_leaf = 8, treino = 75.79, teste = 75.78\n",
            "Arvore max_depth = 1, min_samples_leaf = 9, treino = 75.79, teste = 75.78\n",
            "Arvore max_depth = 1, min_samples_leaf = 10, treino = 75.79, teste = 75.78\n",
            "Arvore max_depth = 1, min_samples_leaf = 11, treino = 75.79, teste = 75.78\n",
            "Arvore max_depth = 1, min_samples_leaf = 12, treino = 75.79, teste = 75.78\n",
            "Arvore max_depth = 1, min_samples_leaf = 13, treino = 75.79, teste = 75.78\n",
            "Arvore max_depth = 1, min_samples_leaf = 14, treino = 75.79, teste = 75.78\n",
            "Arvore max_depth = 1, min_samples_leaf = 15, treino = 75.79, teste = 75.78\n",
            "Arvore max_depth = 1, min_samples_leaf = 16, treino = 75.79, teste = 75.78\n",
            "Arvore max_depth = 1, min_samples_leaf = 17, treino = 75.79, teste = 75.78\n",
            "Arvore max_depth = 1, min_samples_leaf = 18, treino = 75.79, teste = 75.78\n",
            "Arvore max_depth = 1, min_samples_leaf = 19, treino = 75.79, teste = 75.78\n",
            "Arvore max_depth = 1, min_samples_leaf = 20, treino = 75.79, teste = 75.78\n",
            "Arvore max_depth = 1, min_samples_leaf = 21, treino = 75.79, teste = 75.78\n",
            "Arvore max_depth = 1, min_samples_leaf = 22, treino = 75.79, teste = 75.78\n",
            "Arvore max_depth = 1, min_samples_leaf = 23, treino = 75.79, teste = 75.78\n",
            "Arvore max_depth = 1, min_samples_leaf = 24, treino = 75.79, teste = 75.78\n",
            "Arvore max_depth = 1, min_samples_leaf = 25, treino = 75.79, teste = 75.78\n",
            "Arvore max_depth = 1, min_samples_leaf = 26, treino = 75.79, teste = 75.78\n",
            "Arvore max_depth = 1, min_samples_leaf = 27, treino = 75.79, teste = 75.78\n",
            "Arvore max_depth = 1, min_samples_leaf = 28, treino = 75.79, teste = 75.78\n",
            "Arvore max_depth = 1, min_samples_leaf = 29, treino = 75.79, teste = 75.78\n",
            "Arvore max_depth = 1, min_samples_leaf = 30, treino = 75.79, teste = 75.78\n",
            "Arvore max_depth = 1, min_samples_leaf = 31, treino = 75.79, teste = 75.78\n",
            "Arvore max_depth = 1, min_samples_leaf = 32, treino = 75.79, teste = 75.78\n",
            "Arvore max_depth = 2, min_samples_leaf = 1, treino = 75.79, teste = 75.78\n",
            "Arvore max_depth = 2, min_samples_leaf = 2, treino = 75.79, teste = 75.78\n",
            "Arvore max_depth = 2, min_samples_leaf = 3, treino = 75.79, teste = 75.78\n",
            "Arvore max_depth = 2, min_samples_leaf = 4, treino = 75.79, teste = 75.78\n",
            "Arvore max_depth = 2, min_samples_leaf = 5, treino = 75.79, teste = 75.78\n",
            "Arvore max_depth = 2, min_samples_leaf = 6, treino = 75.79, teste = 75.78\n",
            "Arvore max_depth = 2, min_samples_leaf = 7, treino = 75.79, teste = 75.78\n",
            "Arvore max_depth = 2, min_samples_leaf = 8, treino = 75.79, teste = 75.78\n",
            "Arvore max_depth = 2, min_samples_leaf = 9, treino = 75.79, teste = 75.78\n"
          ]
        },
        {
          "output_type": "error",
          "ename": "KeyboardInterrupt",
          "evalue": "ignored",
          "traceback": [
            "\u001b[0;31m---------------------------------------------------------------------------\u001b[0m",
            "\u001b[0;31mKeyboardInterrupt\u001b[0m                         Traceback (most recent call last)",
            "\u001b[0;32m<ipython-input-130-62bfdfd3c07b>\u001b[0m in \u001b[0;36m<module>\u001b[0;34m()\u001b[0m\n\u001b[1;32m     21\u001b[0m   \u001b[0;32mreturn\u001b[0m \u001b[0mresultados\u001b[0m\u001b[0;34m\u001b[0m\u001b[0;34m\u001b[0m\u001b[0m\n\u001b[1;32m     22\u001b[0m \u001b[0;34m\u001b[0m\u001b[0m\n\u001b[0;32m---> 23\u001b[0;31m \u001b[0mresultados\u001b[0m \u001b[0;34m=\u001b[0m \u001b[0mbusca\u001b[0m\u001b[0;34m(\u001b[0m\u001b[0;34m)\u001b[0m\u001b[0;34m\u001b[0m\u001b[0;34m\u001b[0m\u001b[0m\n\u001b[0m\u001b[1;32m     24\u001b[0m \u001b[0mresultados\u001b[0m\u001b[0;34m.\u001b[0m\u001b[0mhead\u001b[0m\u001b[0;34m(\u001b[0m\u001b[0;34m)\u001b[0m\u001b[0;34m\u001b[0m\u001b[0;34m\u001b[0m\u001b[0m\n",
            "\u001b[0;32m<ipython-input-130-62bfdfd3c07b>\u001b[0m in \u001b[0;36mbusca\u001b[0;34m()\u001b[0m\n\u001b[1;32m     16\u001b[0m   \u001b[0;32mfor\u001b[0m \u001b[0mmax_depth\u001b[0m \u001b[0;32min\u001b[0m \u001b[0mrange\u001b[0m\u001b[0;34m(\u001b[0m\u001b[0;36m1\u001b[0m\u001b[0;34m,\u001b[0m\u001b[0;36m33\u001b[0m\u001b[0;34m)\u001b[0m\u001b[0;34m:\u001b[0m\u001b[0;34m\u001b[0m\u001b[0;34m\u001b[0m\u001b[0m\n\u001b[1;32m     17\u001b[0m     \u001b[0;32mfor\u001b[0m \u001b[0mmin_samples_leaf\u001b[0m \u001b[0;32min\u001b[0m \u001b[0mrange\u001b[0m\u001b[0;34m(\u001b[0m\u001b[0;36m1\u001b[0m\u001b[0;34m,\u001b[0m\u001b[0;36m33\u001b[0m\u001b[0;34m)\u001b[0m\u001b[0;34m:\u001b[0m\u001b[0;34m\u001b[0m\u001b[0;34m\u001b[0m\u001b[0m\n\u001b[0;32m---> 18\u001b[0;31m         \u001b[0mtabela\u001b[0m \u001b[0;34m=\u001b[0m \u001b[0mroda_arvore_de_decisao\u001b[0m\u001b[0;34m(\u001b[0m\u001b[0mmax_depth\u001b[0m\u001b[0;34m,\u001b[0m \u001b[0mmin_samples_leaf\u001b[0m\u001b[0;34m)\u001b[0m\u001b[0;34m\u001b[0m\u001b[0;34m\u001b[0m\u001b[0m\n\u001b[0m\u001b[1;32m     19\u001b[0m         \u001b[0mresultados\u001b[0m\u001b[0;34m.\u001b[0m\u001b[0mappend\u001b[0m\u001b[0;34m(\u001b[0m\u001b[0mtabela\u001b[0m\u001b[0;34m)\u001b[0m\u001b[0;34m\u001b[0m\u001b[0;34m\u001b[0m\u001b[0m\n\u001b[1;32m     20\u001b[0m   \u001b[0mresultados\u001b[0m \u001b[0;34m=\u001b[0m \u001b[0mpd\u001b[0m\u001b[0;34m.\u001b[0m\u001b[0mDataFrame\u001b[0m\u001b[0;34m(\u001b[0m\u001b[0mresultados\u001b[0m\u001b[0;34m,\u001b[0m \u001b[0mcolumns\u001b[0m\u001b[0;34m=\u001b[0m \u001b[0;34m[\u001b[0m\u001b[0;34m\"max_depth\"\u001b[0m\u001b[0;34m,\u001b[0m\u001b[0;34m\"min_samples_leaf\"\u001b[0m\u001b[0;34m,\u001b[0m\u001b[0;34m\"train\"\u001b[0m\u001b[0;34m,\u001b[0m\u001b[0;34m\"test\"\u001b[0m\u001b[0;34m]\u001b[0m\u001b[0;34m)\u001b[0m\u001b[0;34m\u001b[0m\u001b[0;34m\u001b[0m\u001b[0m\n",
            "\u001b[0;32m<ipython-input-130-62bfdfd3c07b>\u001b[0m in \u001b[0;36mroda_arvore_de_decisao\u001b[0;34m(max_depth, min_samples_leaf)\u001b[0m\n\u001b[1;32m      5\u001b[0m   \u001b[0mcv\u001b[0m \u001b[0;34m=\u001b[0m \u001b[0mGroupKFold\u001b[0m\u001b[0;34m(\u001b[0m\u001b[0mn_splits\u001b[0m \u001b[0;34m=\u001b[0m \u001b[0;36m10\u001b[0m\u001b[0;34m)\u001b[0m\u001b[0;34m\u001b[0m\u001b[0;34m\u001b[0m\u001b[0m\n\u001b[1;32m      6\u001b[0m   \u001b[0mmodelo\u001b[0m \u001b[0;34m=\u001b[0m \u001b[0mDecisionTreeClassifier\u001b[0m\u001b[0;34m(\u001b[0m\u001b[0mmax_depth\u001b[0m\u001b[0;34m=\u001b[0m\u001b[0mmax_depth\u001b[0m\u001b[0;34m,\u001b[0m \u001b[0mmin_samples_leaf\u001b[0m \u001b[0;34m=\u001b[0m \u001b[0mmin_samples_leaf\u001b[0m\u001b[0;34m)\u001b[0m \u001b[0;31m# see we added the parameter min_sample_leaf here\u001b[0m\u001b[0;34m\u001b[0m\u001b[0;34m\u001b[0m\u001b[0m\n\u001b[0;32m----> 7\u001b[0;31m   \u001b[0mresults\u001b[0m \u001b[0;34m=\u001b[0m \u001b[0mcross_validate\u001b[0m\u001b[0;34m(\u001b[0m\u001b[0mmodelo\u001b[0m\u001b[0;34m,\u001b[0m \u001b[0mx_azar\u001b[0m\u001b[0;34m,\u001b[0m \u001b[0my_azar\u001b[0m\u001b[0;34m,\u001b[0m \u001b[0mcv\u001b[0m \u001b[0;34m=\u001b[0m \u001b[0mcv\u001b[0m\u001b[0;34m,\u001b[0m \u001b[0mgroups\u001b[0m \u001b[0;34m=\u001b[0m \u001b[0mdados\u001b[0m\u001b[0;34m.\u001b[0m\u001b[0mmodelo\u001b[0m\u001b[0;34m,\u001b[0m \u001b[0mreturn_train_score\u001b[0m\u001b[0;34m=\u001b[0m\u001b[0;32mTrue\u001b[0m\u001b[0;34m)\u001b[0m\u001b[0;34m\u001b[0m\u001b[0;34m\u001b[0m\u001b[0m\n\u001b[0m\u001b[1;32m      8\u001b[0m   \u001b[0mtrain_score\u001b[0m \u001b[0;34m=\u001b[0m \u001b[0mresults\u001b[0m\u001b[0;34m[\u001b[0m\u001b[0;34m'train_score'\u001b[0m\u001b[0;34m]\u001b[0m\u001b[0;34m.\u001b[0m\u001b[0mmean\u001b[0m\u001b[0;34m(\u001b[0m\u001b[0;34m)\u001b[0m \u001b[0;34m*\u001b[0m \u001b[0;36m100\u001b[0m\u001b[0;34m\u001b[0m\u001b[0;34m\u001b[0m\u001b[0m\n\u001b[1;32m      9\u001b[0m   \u001b[0mtest_score\u001b[0m \u001b[0;34m=\u001b[0m \u001b[0mresults\u001b[0m\u001b[0;34m[\u001b[0m\u001b[0;34m'test_score'\u001b[0m\u001b[0;34m]\u001b[0m\u001b[0;34m.\u001b[0m\u001b[0mmean\u001b[0m\u001b[0;34m(\u001b[0m\u001b[0;34m)\u001b[0m \u001b[0;34m*\u001b[0m \u001b[0;36m100\u001b[0m\u001b[0;34m\u001b[0m\u001b[0;34m\u001b[0m\u001b[0m\n",
            "\u001b[0;32m/usr/local/lib/python3.7/dist-packages/sklearn/model_selection/_validation.py\u001b[0m in \u001b[0;36mcross_validate\u001b[0;34m(estimator, X, y, groups, scoring, cv, n_jobs, verbose, fit_params, pre_dispatch, return_train_score, return_estimator, error_score)\u001b[0m\n\u001b[1;32m    281\u001b[0m             \u001b[0merror_score\u001b[0m\u001b[0;34m=\u001b[0m\u001b[0merror_score\u001b[0m\u001b[0;34m,\u001b[0m\u001b[0;34m\u001b[0m\u001b[0;34m\u001b[0m\u001b[0m\n\u001b[1;32m    282\u001b[0m         )\n\u001b[0;32m--> 283\u001b[0;31m         \u001b[0;32mfor\u001b[0m \u001b[0mtrain\u001b[0m\u001b[0;34m,\u001b[0m \u001b[0mtest\u001b[0m \u001b[0;32min\u001b[0m \u001b[0mcv\u001b[0m\u001b[0;34m.\u001b[0m\u001b[0msplit\u001b[0m\u001b[0;34m(\u001b[0m\u001b[0mX\u001b[0m\u001b[0;34m,\u001b[0m \u001b[0my\u001b[0m\u001b[0;34m,\u001b[0m \u001b[0mgroups\u001b[0m\u001b[0;34m)\u001b[0m\u001b[0;34m\u001b[0m\u001b[0;34m\u001b[0m\u001b[0m\n\u001b[0m\u001b[1;32m    284\u001b[0m     )\n\u001b[1;32m    285\u001b[0m \u001b[0;34m\u001b[0m\u001b[0m\n",
            "\u001b[0;32m/usr/local/lib/python3.7/dist-packages/joblib/parallel.py\u001b[0m in \u001b[0;36m__call__\u001b[0;34m(self, iterable)\u001b[0m\n\u001b[1;32m   1044\u001b[0m                 \u001b[0mself\u001b[0m\u001b[0;34m.\u001b[0m\u001b[0m_iterating\u001b[0m \u001b[0;34m=\u001b[0m \u001b[0mself\u001b[0m\u001b[0;34m.\u001b[0m\u001b[0m_original_iterator\u001b[0m \u001b[0;32mis\u001b[0m \u001b[0;32mnot\u001b[0m \u001b[0;32mNone\u001b[0m\u001b[0;34m\u001b[0m\u001b[0;34m\u001b[0m\u001b[0m\n\u001b[1;32m   1045\u001b[0m \u001b[0;34m\u001b[0m\u001b[0m\n\u001b[0;32m-> 1046\u001b[0;31m             \u001b[0;32mwhile\u001b[0m \u001b[0mself\u001b[0m\u001b[0;34m.\u001b[0m\u001b[0mdispatch_one_batch\u001b[0m\u001b[0;34m(\u001b[0m\u001b[0miterator\u001b[0m\u001b[0;34m)\u001b[0m\u001b[0;34m:\u001b[0m\u001b[0;34m\u001b[0m\u001b[0;34m\u001b[0m\u001b[0m\n\u001b[0m\u001b[1;32m   1047\u001b[0m                 \u001b[0;32mpass\u001b[0m\u001b[0;34m\u001b[0m\u001b[0;34m\u001b[0m\u001b[0m\n\u001b[1;32m   1048\u001b[0m \u001b[0;34m\u001b[0m\u001b[0m\n",
            "\u001b[0;32m/usr/local/lib/python3.7/dist-packages/joblib/parallel.py\u001b[0m in \u001b[0;36mdispatch_one_batch\u001b[0;34m(self, iterator)\u001b[0m\n\u001b[1;32m    859\u001b[0m                 \u001b[0;32mreturn\u001b[0m \u001b[0;32mFalse\u001b[0m\u001b[0;34m\u001b[0m\u001b[0;34m\u001b[0m\u001b[0m\n\u001b[1;32m    860\u001b[0m             \u001b[0;32melse\u001b[0m\u001b[0;34m:\u001b[0m\u001b[0;34m\u001b[0m\u001b[0;34m\u001b[0m\u001b[0m\n\u001b[0;32m--> 861\u001b[0;31m                 \u001b[0mself\u001b[0m\u001b[0;34m.\u001b[0m\u001b[0m_dispatch\u001b[0m\u001b[0;34m(\u001b[0m\u001b[0mtasks\u001b[0m\u001b[0;34m)\u001b[0m\u001b[0;34m\u001b[0m\u001b[0;34m\u001b[0m\u001b[0m\n\u001b[0m\u001b[1;32m    862\u001b[0m                 \u001b[0;32mreturn\u001b[0m \u001b[0;32mTrue\u001b[0m\u001b[0;34m\u001b[0m\u001b[0;34m\u001b[0m\u001b[0m\n\u001b[1;32m    863\u001b[0m \u001b[0;34m\u001b[0m\u001b[0m\n",
            "\u001b[0;32m/usr/local/lib/python3.7/dist-packages/joblib/parallel.py\u001b[0m in \u001b[0;36m_dispatch\u001b[0;34m(self, batch)\u001b[0m\n\u001b[1;32m    777\u001b[0m         \u001b[0;32mwith\u001b[0m \u001b[0mself\u001b[0m\u001b[0;34m.\u001b[0m\u001b[0m_lock\u001b[0m\u001b[0;34m:\u001b[0m\u001b[0;34m\u001b[0m\u001b[0;34m\u001b[0m\u001b[0m\n\u001b[1;32m    778\u001b[0m             \u001b[0mjob_idx\u001b[0m \u001b[0;34m=\u001b[0m \u001b[0mlen\u001b[0m\u001b[0;34m(\u001b[0m\u001b[0mself\u001b[0m\u001b[0;34m.\u001b[0m\u001b[0m_jobs\u001b[0m\u001b[0;34m)\u001b[0m\u001b[0;34m\u001b[0m\u001b[0;34m\u001b[0m\u001b[0m\n\u001b[0;32m--> 779\u001b[0;31m             \u001b[0mjob\u001b[0m \u001b[0;34m=\u001b[0m \u001b[0mself\u001b[0m\u001b[0;34m.\u001b[0m\u001b[0m_backend\u001b[0m\u001b[0;34m.\u001b[0m\u001b[0mapply_async\u001b[0m\u001b[0;34m(\u001b[0m\u001b[0mbatch\u001b[0m\u001b[0;34m,\u001b[0m \u001b[0mcallback\u001b[0m\u001b[0;34m=\u001b[0m\u001b[0mcb\u001b[0m\u001b[0;34m)\u001b[0m\u001b[0;34m\u001b[0m\u001b[0;34m\u001b[0m\u001b[0m\n\u001b[0m\u001b[1;32m    780\u001b[0m             \u001b[0;31m# A job can complete so quickly than its callback is\u001b[0m\u001b[0;34m\u001b[0m\u001b[0;34m\u001b[0m\u001b[0;34m\u001b[0m\u001b[0m\n\u001b[1;32m    781\u001b[0m             \u001b[0;31m# called before we get here, causing self._jobs to\u001b[0m\u001b[0;34m\u001b[0m\u001b[0;34m\u001b[0m\u001b[0;34m\u001b[0m\u001b[0m\n",
            "\u001b[0;32m/usr/local/lib/python3.7/dist-packages/joblib/_parallel_backends.py\u001b[0m in \u001b[0;36mapply_async\u001b[0;34m(self, func, callback)\u001b[0m\n\u001b[1;32m    206\u001b[0m     \u001b[0;32mdef\u001b[0m \u001b[0mapply_async\u001b[0m\u001b[0;34m(\u001b[0m\u001b[0mself\u001b[0m\u001b[0;34m,\u001b[0m \u001b[0mfunc\u001b[0m\u001b[0;34m,\u001b[0m \u001b[0mcallback\u001b[0m\u001b[0;34m=\u001b[0m\u001b[0;32mNone\u001b[0m\u001b[0;34m)\u001b[0m\u001b[0;34m:\u001b[0m\u001b[0;34m\u001b[0m\u001b[0;34m\u001b[0m\u001b[0m\n\u001b[1;32m    207\u001b[0m         \u001b[0;34m\"\"\"Schedule a func to be run\"\"\"\u001b[0m\u001b[0;34m\u001b[0m\u001b[0;34m\u001b[0m\u001b[0m\n\u001b[0;32m--> 208\u001b[0;31m         \u001b[0mresult\u001b[0m \u001b[0;34m=\u001b[0m \u001b[0mImmediateResult\u001b[0m\u001b[0;34m(\u001b[0m\u001b[0mfunc\u001b[0m\u001b[0;34m)\u001b[0m\u001b[0;34m\u001b[0m\u001b[0;34m\u001b[0m\u001b[0m\n\u001b[0m\u001b[1;32m    209\u001b[0m         \u001b[0;32mif\u001b[0m \u001b[0mcallback\u001b[0m\u001b[0;34m:\u001b[0m\u001b[0;34m\u001b[0m\u001b[0;34m\u001b[0m\u001b[0m\n\u001b[1;32m    210\u001b[0m             \u001b[0mcallback\u001b[0m\u001b[0;34m(\u001b[0m\u001b[0mresult\u001b[0m\u001b[0;34m)\u001b[0m\u001b[0;34m\u001b[0m\u001b[0;34m\u001b[0m\u001b[0m\n",
            "\u001b[0;32m/usr/local/lib/python3.7/dist-packages/joblib/_parallel_backends.py\u001b[0m in \u001b[0;36m__init__\u001b[0;34m(self, batch)\u001b[0m\n\u001b[1;32m    570\u001b[0m         \u001b[0;31m# Don't delay the application, to avoid keeping the input\u001b[0m\u001b[0;34m\u001b[0m\u001b[0;34m\u001b[0m\u001b[0;34m\u001b[0m\u001b[0m\n\u001b[1;32m    571\u001b[0m         \u001b[0;31m# arguments in memory\u001b[0m\u001b[0;34m\u001b[0m\u001b[0;34m\u001b[0m\u001b[0;34m\u001b[0m\u001b[0m\n\u001b[0;32m--> 572\u001b[0;31m         \u001b[0mself\u001b[0m\u001b[0;34m.\u001b[0m\u001b[0mresults\u001b[0m \u001b[0;34m=\u001b[0m \u001b[0mbatch\u001b[0m\u001b[0;34m(\u001b[0m\u001b[0;34m)\u001b[0m\u001b[0;34m\u001b[0m\u001b[0;34m\u001b[0m\u001b[0m\n\u001b[0m\u001b[1;32m    573\u001b[0m \u001b[0;34m\u001b[0m\u001b[0m\n\u001b[1;32m    574\u001b[0m     \u001b[0;32mdef\u001b[0m \u001b[0mget\u001b[0m\u001b[0;34m(\u001b[0m\u001b[0mself\u001b[0m\u001b[0;34m)\u001b[0m\u001b[0;34m:\u001b[0m\u001b[0;34m\u001b[0m\u001b[0;34m\u001b[0m\u001b[0m\n",
            "\u001b[0;32m/usr/local/lib/python3.7/dist-packages/joblib/parallel.py\u001b[0m in \u001b[0;36m__call__\u001b[0;34m(self)\u001b[0m\n\u001b[1;32m    261\u001b[0m         \u001b[0;32mwith\u001b[0m \u001b[0mparallel_backend\u001b[0m\u001b[0;34m(\u001b[0m\u001b[0mself\u001b[0m\u001b[0;34m.\u001b[0m\u001b[0m_backend\u001b[0m\u001b[0;34m,\u001b[0m \u001b[0mn_jobs\u001b[0m\u001b[0;34m=\u001b[0m\u001b[0mself\u001b[0m\u001b[0;34m.\u001b[0m\u001b[0m_n_jobs\u001b[0m\u001b[0;34m)\u001b[0m\u001b[0;34m:\u001b[0m\u001b[0;34m\u001b[0m\u001b[0;34m\u001b[0m\u001b[0m\n\u001b[1;32m    262\u001b[0m             return [func(*args, **kwargs)\n\u001b[0;32m--> 263\u001b[0;31m                     for func, args, kwargs in self.items]\n\u001b[0m\u001b[1;32m    264\u001b[0m \u001b[0;34m\u001b[0m\u001b[0m\n\u001b[1;32m    265\u001b[0m     \u001b[0;32mdef\u001b[0m \u001b[0m__reduce__\u001b[0m\u001b[0;34m(\u001b[0m\u001b[0mself\u001b[0m\u001b[0;34m)\u001b[0m\u001b[0;34m:\u001b[0m\u001b[0;34m\u001b[0m\u001b[0;34m\u001b[0m\u001b[0m\n",
            "\u001b[0;32m/usr/local/lib/python3.7/dist-packages/joblib/parallel.py\u001b[0m in \u001b[0;36m<listcomp>\u001b[0;34m(.0)\u001b[0m\n\u001b[1;32m    261\u001b[0m         \u001b[0;32mwith\u001b[0m \u001b[0mparallel_backend\u001b[0m\u001b[0;34m(\u001b[0m\u001b[0mself\u001b[0m\u001b[0;34m.\u001b[0m\u001b[0m_backend\u001b[0m\u001b[0;34m,\u001b[0m \u001b[0mn_jobs\u001b[0m\u001b[0;34m=\u001b[0m\u001b[0mself\u001b[0m\u001b[0;34m.\u001b[0m\u001b[0m_n_jobs\u001b[0m\u001b[0;34m)\u001b[0m\u001b[0;34m:\u001b[0m\u001b[0;34m\u001b[0m\u001b[0;34m\u001b[0m\u001b[0m\n\u001b[1;32m    262\u001b[0m             return [func(*args, **kwargs)\n\u001b[0;32m--> 263\u001b[0;31m                     for func, args, kwargs in self.items]\n\u001b[0m\u001b[1;32m    264\u001b[0m \u001b[0;34m\u001b[0m\u001b[0m\n\u001b[1;32m    265\u001b[0m     \u001b[0;32mdef\u001b[0m \u001b[0m__reduce__\u001b[0m\u001b[0;34m(\u001b[0m\u001b[0mself\u001b[0m\u001b[0;34m)\u001b[0m\u001b[0;34m:\u001b[0m\u001b[0;34m\u001b[0m\u001b[0;34m\u001b[0m\u001b[0m\n",
            "\u001b[0;32m/usr/local/lib/python3.7/dist-packages/sklearn/utils/fixes.py\u001b[0m in \u001b[0;36m__call__\u001b[0;34m(self, *args, **kwargs)\u001b[0m\n\u001b[1;32m    214\u001b[0m     \u001b[0;32mdef\u001b[0m \u001b[0m__call__\u001b[0m\u001b[0;34m(\u001b[0m\u001b[0mself\u001b[0m\u001b[0;34m,\u001b[0m \u001b[0;34m*\u001b[0m\u001b[0margs\u001b[0m\u001b[0;34m,\u001b[0m \u001b[0;34m**\u001b[0m\u001b[0mkwargs\u001b[0m\u001b[0;34m)\u001b[0m\u001b[0;34m:\u001b[0m\u001b[0;34m\u001b[0m\u001b[0;34m\u001b[0m\u001b[0m\n\u001b[1;32m    215\u001b[0m         \u001b[0;32mwith\u001b[0m \u001b[0mconfig_context\u001b[0m\u001b[0;34m(\u001b[0m\u001b[0;34m**\u001b[0m\u001b[0mself\u001b[0m\u001b[0;34m.\u001b[0m\u001b[0mconfig\u001b[0m\u001b[0;34m)\u001b[0m\u001b[0;34m:\u001b[0m\u001b[0;34m\u001b[0m\u001b[0;34m\u001b[0m\u001b[0m\n\u001b[0;32m--> 216\u001b[0;31m             \u001b[0;32mreturn\u001b[0m \u001b[0mself\u001b[0m\u001b[0;34m.\u001b[0m\u001b[0mfunction\u001b[0m\u001b[0;34m(\u001b[0m\u001b[0;34m*\u001b[0m\u001b[0margs\u001b[0m\u001b[0;34m,\u001b[0m \u001b[0;34m**\u001b[0m\u001b[0mkwargs\u001b[0m\u001b[0;34m)\u001b[0m\u001b[0;34m\u001b[0m\u001b[0;34m\u001b[0m\u001b[0m\n\u001b[0m\u001b[1;32m    217\u001b[0m \u001b[0;34m\u001b[0m\u001b[0m\n\u001b[1;32m    218\u001b[0m \u001b[0;34m\u001b[0m\u001b[0m\n",
            "\u001b[0;32m/usr/local/lib/python3.7/dist-packages/sklearn/model_selection/_validation.py\u001b[0m in \u001b[0;36m_fit_and_score\u001b[0;34m(estimator, X, y, scorer, train, test, verbose, parameters, fit_params, return_train_score, return_parameters, return_n_test_samples, return_times, return_estimator, split_progress, candidate_progress, error_score)\u001b[0m\n\u001b[1;32m    700\u001b[0m \u001b[0;34m\u001b[0m\u001b[0m\n\u001b[1;32m    701\u001b[0m         \u001b[0mfit_time\u001b[0m \u001b[0;34m=\u001b[0m \u001b[0mtime\u001b[0m\u001b[0;34m.\u001b[0m\u001b[0mtime\u001b[0m\u001b[0;34m(\u001b[0m\u001b[0;34m)\u001b[0m \u001b[0;34m-\u001b[0m \u001b[0mstart_time\u001b[0m\u001b[0;34m\u001b[0m\u001b[0;34m\u001b[0m\u001b[0m\n\u001b[0;32m--> 702\u001b[0;31m         \u001b[0mtest_scores\u001b[0m \u001b[0;34m=\u001b[0m \u001b[0m_score\u001b[0m\u001b[0;34m(\u001b[0m\u001b[0mestimator\u001b[0m\u001b[0;34m,\u001b[0m \u001b[0mX_test\u001b[0m\u001b[0;34m,\u001b[0m \u001b[0my_test\u001b[0m\u001b[0;34m,\u001b[0m \u001b[0mscorer\u001b[0m\u001b[0;34m,\u001b[0m \u001b[0merror_score\u001b[0m\u001b[0;34m)\u001b[0m\u001b[0;34m\u001b[0m\u001b[0;34m\u001b[0m\u001b[0m\n\u001b[0m\u001b[1;32m    703\u001b[0m         \u001b[0mscore_time\u001b[0m \u001b[0;34m=\u001b[0m \u001b[0mtime\u001b[0m\u001b[0;34m.\u001b[0m\u001b[0mtime\u001b[0m\u001b[0;34m(\u001b[0m\u001b[0;34m)\u001b[0m \u001b[0;34m-\u001b[0m \u001b[0mstart_time\u001b[0m \u001b[0;34m-\u001b[0m \u001b[0mfit_time\u001b[0m\u001b[0;34m\u001b[0m\u001b[0;34m\u001b[0m\u001b[0m\n\u001b[1;32m    704\u001b[0m         \u001b[0;32mif\u001b[0m \u001b[0mreturn_train_score\u001b[0m\u001b[0;34m:\u001b[0m\u001b[0;34m\u001b[0m\u001b[0;34m\u001b[0m\u001b[0m\n",
            "\u001b[0;32m/usr/local/lib/python3.7/dist-packages/sklearn/model_selection/_validation.py\u001b[0m in \u001b[0;36m_score\u001b[0;34m(estimator, X_test, y_test, scorer, error_score)\u001b[0m\n\u001b[1;32m    759\u001b[0m             \u001b[0mscores\u001b[0m \u001b[0;34m=\u001b[0m \u001b[0mscorer\u001b[0m\u001b[0;34m(\u001b[0m\u001b[0mestimator\u001b[0m\u001b[0;34m,\u001b[0m \u001b[0mX_test\u001b[0m\u001b[0;34m)\u001b[0m\u001b[0;34m\u001b[0m\u001b[0;34m\u001b[0m\u001b[0m\n\u001b[1;32m    760\u001b[0m         \u001b[0;32melse\u001b[0m\u001b[0;34m:\u001b[0m\u001b[0;34m\u001b[0m\u001b[0;34m\u001b[0m\u001b[0m\n\u001b[0;32m--> 761\u001b[0;31m             \u001b[0mscores\u001b[0m \u001b[0;34m=\u001b[0m \u001b[0mscorer\u001b[0m\u001b[0;34m(\u001b[0m\u001b[0mestimator\u001b[0m\u001b[0;34m,\u001b[0m \u001b[0mX_test\u001b[0m\u001b[0;34m,\u001b[0m \u001b[0my_test\u001b[0m\u001b[0;34m)\u001b[0m\u001b[0;34m\u001b[0m\u001b[0;34m\u001b[0m\u001b[0m\n\u001b[0m\u001b[1;32m    762\u001b[0m     \u001b[0;32mexcept\u001b[0m \u001b[0mException\u001b[0m\u001b[0;34m:\u001b[0m\u001b[0;34m\u001b[0m\u001b[0;34m\u001b[0m\u001b[0m\n\u001b[1;32m    763\u001b[0m         \u001b[0;32mif\u001b[0m \u001b[0merror_score\u001b[0m \u001b[0;34m==\u001b[0m \u001b[0;34m\"raise\"\u001b[0m\u001b[0;34m:\u001b[0m\u001b[0;34m\u001b[0m\u001b[0;34m\u001b[0m\u001b[0m\n",
            "\u001b[0;32m/usr/local/lib/python3.7/dist-packages/sklearn/metrics/_scorer.py\u001b[0m in \u001b[0;36m_passthrough_scorer\u001b[0;34m(estimator, *args, **kwargs)\u001b[0m\n\u001b[1;32m    416\u001b[0m \u001b[0;32mdef\u001b[0m \u001b[0m_passthrough_scorer\u001b[0m\u001b[0;34m(\u001b[0m\u001b[0mestimator\u001b[0m\u001b[0;34m,\u001b[0m \u001b[0;34m*\u001b[0m\u001b[0margs\u001b[0m\u001b[0;34m,\u001b[0m \u001b[0;34m**\u001b[0m\u001b[0mkwargs\u001b[0m\u001b[0;34m)\u001b[0m\u001b[0;34m:\u001b[0m\u001b[0;34m\u001b[0m\u001b[0;34m\u001b[0m\u001b[0m\n\u001b[1;32m    417\u001b[0m     \u001b[0;34m\"\"\"Function that wraps estimator.score\"\"\"\u001b[0m\u001b[0;34m\u001b[0m\u001b[0;34m\u001b[0m\u001b[0m\n\u001b[0;32m--> 418\u001b[0;31m     \u001b[0;32mreturn\u001b[0m \u001b[0mestimator\u001b[0m\u001b[0;34m.\u001b[0m\u001b[0mscore\u001b[0m\u001b[0;34m(\u001b[0m\u001b[0;34m*\u001b[0m\u001b[0margs\u001b[0m\u001b[0;34m,\u001b[0m \u001b[0;34m**\u001b[0m\u001b[0mkwargs\u001b[0m\u001b[0;34m)\u001b[0m\u001b[0;34m\u001b[0m\u001b[0;34m\u001b[0m\u001b[0m\n\u001b[0m\u001b[1;32m    419\u001b[0m \u001b[0;34m\u001b[0m\u001b[0m\n\u001b[1;32m    420\u001b[0m \u001b[0;34m\u001b[0m\u001b[0m\n",
            "\u001b[0;32m/usr/local/lib/python3.7/dist-packages/sklearn/base.py\u001b[0m in \u001b[0;36mscore\u001b[0;34m(self, X, y, sample_weight)\u001b[0m\n\u001b[1;32m    649\u001b[0m         \u001b[0;32mfrom\u001b[0m \u001b[0;34m.\u001b[0m\u001b[0mmetrics\u001b[0m \u001b[0;32mimport\u001b[0m \u001b[0maccuracy_score\u001b[0m\u001b[0;34m\u001b[0m\u001b[0;34m\u001b[0m\u001b[0m\n\u001b[1;32m    650\u001b[0m \u001b[0;34m\u001b[0m\u001b[0m\n\u001b[0;32m--> 651\u001b[0;31m         \u001b[0;32mreturn\u001b[0m \u001b[0maccuracy_score\u001b[0m\u001b[0;34m(\u001b[0m\u001b[0my\u001b[0m\u001b[0;34m,\u001b[0m \u001b[0mself\u001b[0m\u001b[0;34m.\u001b[0m\u001b[0mpredict\u001b[0m\u001b[0;34m(\u001b[0m\u001b[0mX\u001b[0m\u001b[0;34m)\u001b[0m\u001b[0;34m,\u001b[0m \u001b[0msample_weight\u001b[0m\u001b[0;34m=\u001b[0m\u001b[0msample_weight\u001b[0m\u001b[0;34m)\u001b[0m\u001b[0;34m\u001b[0m\u001b[0;34m\u001b[0m\u001b[0m\n\u001b[0m\u001b[1;32m    652\u001b[0m \u001b[0;34m\u001b[0m\u001b[0m\n\u001b[1;32m    653\u001b[0m     \u001b[0;32mdef\u001b[0m \u001b[0m_more_tags\u001b[0m\u001b[0;34m(\u001b[0m\u001b[0mself\u001b[0m\u001b[0;34m)\u001b[0m\u001b[0;34m:\u001b[0m\u001b[0;34m\u001b[0m\u001b[0;34m\u001b[0m\u001b[0m\n",
            "\u001b[0;32m/usr/local/lib/python3.7/dist-packages/sklearn/metrics/_classification.py\u001b[0m in \u001b[0;36maccuracy_score\u001b[0;34m(y_true, y_pred, normalize, sample_weight)\u001b[0m\n\u001b[1;32m    217\u001b[0m         \u001b[0mscore\u001b[0m \u001b[0;34m=\u001b[0m \u001b[0my_true\u001b[0m \u001b[0;34m==\u001b[0m \u001b[0my_pred\u001b[0m\u001b[0;34m\u001b[0m\u001b[0;34m\u001b[0m\u001b[0m\n\u001b[1;32m    218\u001b[0m \u001b[0;34m\u001b[0m\u001b[0m\n\u001b[0;32m--> 219\u001b[0;31m     \u001b[0;32mreturn\u001b[0m \u001b[0m_weighted_sum\u001b[0m\u001b[0;34m(\u001b[0m\u001b[0mscore\u001b[0m\u001b[0;34m,\u001b[0m \u001b[0msample_weight\u001b[0m\u001b[0;34m,\u001b[0m \u001b[0mnormalize\u001b[0m\u001b[0;34m)\u001b[0m\u001b[0;34m\u001b[0m\u001b[0;34m\u001b[0m\u001b[0m\n\u001b[0m\u001b[1;32m    220\u001b[0m \u001b[0;34m\u001b[0m\u001b[0m\n\u001b[1;32m    221\u001b[0m \u001b[0;34m\u001b[0m\u001b[0m\n",
            "\u001b[0;32m/usr/local/lib/python3.7/dist-packages/sklearn/metrics/_classification.py\u001b[0m in \u001b[0;36m_weighted_sum\u001b[0;34m(sample_score, sample_weight, normalize)\u001b[0m\n\u001b[1;32m    135\u001b[0m \u001b[0;32mdef\u001b[0m \u001b[0m_weighted_sum\u001b[0m\u001b[0;34m(\u001b[0m\u001b[0msample_score\u001b[0m\u001b[0;34m,\u001b[0m \u001b[0msample_weight\u001b[0m\u001b[0;34m,\u001b[0m \u001b[0mnormalize\u001b[0m\u001b[0;34m=\u001b[0m\u001b[0;32mFalse\u001b[0m\u001b[0;34m)\u001b[0m\u001b[0;34m:\u001b[0m\u001b[0;34m\u001b[0m\u001b[0;34m\u001b[0m\u001b[0m\n\u001b[1;32m    136\u001b[0m     \u001b[0;32mif\u001b[0m \u001b[0mnormalize\u001b[0m\u001b[0;34m:\u001b[0m\u001b[0;34m\u001b[0m\u001b[0;34m\u001b[0m\u001b[0m\n\u001b[0;32m--> 137\u001b[0;31m         \u001b[0;32mreturn\u001b[0m \u001b[0mnp\u001b[0m\u001b[0;34m.\u001b[0m\u001b[0maverage\u001b[0m\u001b[0;34m(\u001b[0m\u001b[0msample_score\u001b[0m\u001b[0;34m,\u001b[0m \u001b[0mweights\u001b[0m\u001b[0;34m=\u001b[0m\u001b[0msample_weight\u001b[0m\u001b[0;34m)\u001b[0m\u001b[0;34m\u001b[0m\u001b[0;34m\u001b[0m\u001b[0m\n\u001b[0m\u001b[1;32m    138\u001b[0m     \u001b[0;32melif\u001b[0m \u001b[0msample_weight\u001b[0m \u001b[0;32mis\u001b[0m \u001b[0;32mnot\u001b[0m \u001b[0;32mNone\u001b[0m\u001b[0;34m:\u001b[0m\u001b[0;34m\u001b[0m\u001b[0;34m\u001b[0m\u001b[0m\n\u001b[1;32m    139\u001b[0m         \u001b[0;32mreturn\u001b[0m \u001b[0mnp\u001b[0m\u001b[0;34m.\u001b[0m\u001b[0mdot\u001b[0m\u001b[0;34m(\u001b[0m\u001b[0msample_score\u001b[0m\u001b[0;34m,\u001b[0m \u001b[0msample_weight\u001b[0m\u001b[0;34m)\u001b[0m\u001b[0;34m\u001b[0m\u001b[0;34m\u001b[0m\u001b[0m\n",
            "\u001b[0;32m<__array_function__ internals>\u001b[0m in \u001b[0;36maverage\u001b[0;34m(*args, **kwargs)\u001b[0m\n",
            "\u001b[0;32m/usr/local/lib/python3.7/dist-packages/numpy/lib/function_base.py\u001b[0m in \u001b[0;36maverage\u001b[0;34m(a, axis, weights, returned)\u001b[0m\n\u001b[1;32m    378\u001b[0m \u001b[0;34m\u001b[0m\u001b[0m\n\u001b[1;32m    379\u001b[0m     \u001b[0;32mif\u001b[0m \u001b[0mweights\u001b[0m \u001b[0;32mis\u001b[0m \u001b[0;32mNone\u001b[0m\u001b[0;34m:\u001b[0m\u001b[0;34m\u001b[0m\u001b[0;34m\u001b[0m\u001b[0m\n\u001b[0;32m--> 380\u001b[0;31m         \u001b[0mavg\u001b[0m \u001b[0;34m=\u001b[0m \u001b[0ma\u001b[0m\u001b[0;34m.\u001b[0m\u001b[0mmean\u001b[0m\u001b[0;34m(\u001b[0m\u001b[0maxis\u001b[0m\u001b[0;34m)\u001b[0m\u001b[0;34m\u001b[0m\u001b[0;34m\u001b[0m\u001b[0m\n\u001b[0m\u001b[1;32m    381\u001b[0m         \u001b[0mscl\u001b[0m \u001b[0;34m=\u001b[0m \u001b[0mavg\u001b[0m\u001b[0;34m.\u001b[0m\u001b[0mdtype\u001b[0m\u001b[0;34m.\u001b[0m\u001b[0mtype\u001b[0m\u001b[0;34m(\u001b[0m\u001b[0ma\u001b[0m\u001b[0;34m.\u001b[0m\u001b[0msize\u001b[0m\u001b[0;34m/\u001b[0m\u001b[0mavg\u001b[0m\u001b[0;34m.\u001b[0m\u001b[0msize\u001b[0m\u001b[0;34m)\u001b[0m\u001b[0;34m\u001b[0m\u001b[0;34m\u001b[0m\u001b[0m\n\u001b[1;32m    382\u001b[0m     \u001b[0;32melse\u001b[0m\u001b[0;34m:\u001b[0m\u001b[0;34m\u001b[0m\u001b[0;34m\u001b[0m\u001b[0m\n",
            "\u001b[0;32m/usr/local/lib/python3.7/dist-packages/numpy/core/_methods.py\u001b[0m in \u001b[0;36m_mean\u001b[0;34m(a, axis, dtype, out, keepdims, where)\u001b[0m\n\u001b[1;32m    171\u001b[0m     \u001b[0;31m# Cast bool, unsigned int, and int to float64 by default\u001b[0m\u001b[0;34m\u001b[0m\u001b[0;34m\u001b[0m\u001b[0;34m\u001b[0m\u001b[0m\n\u001b[1;32m    172\u001b[0m     \u001b[0;32mif\u001b[0m \u001b[0mdtype\u001b[0m \u001b[0;32mis\u001b[0m \u001b[0;32mNone\u001b[0m\u001b[0;34m:\u001b[0m\u001b[0;34m\u001b[0m\u001b[0;34m\u001b[0m\u001b[0m\n\u001b[0;32m--> 173\u001b[0;31m         \u001b[0;32mif\u001b[0m \u001b[0missubclass\u001b[0m\u001b[0;34m(\u001b[0m\u001b[0marr\u001b[0m\u001b[0;34m.\u001b[0m\u001b[0mdtype\u001b[0m\u001b[0;34m.\u001b[0m\u001b[0mtype\u001b[0m\u001b[0;34m,\u001b[0m \u001b[0;34m(\u001b[0m\u001b[0mnt\u001b[0m\u001b[0;34m.\u001b[0m\u001b[0minteger\u001b[0m\u001b[0;34m,\u001b[0m \u001b[0mnt\u001b[0m\u001b[0;34m.\u001b[0m\u001b[0mbool_\u001b[0m\u001b[0;34m)\u001b[0m\u001b[0;34m)\u001b[0m\u001b[0;34m:\u001b[0m\u001b[0;34m\u001b[0m\u001b[0;34m\u001b[0m\u001b[0m\n\u001b[0m\u001b[1;32m    174\u001b[0m             \u001b[0mdtype\u001b[0m \u001b[0;34m=\u001b[0m \u001b[0mmu\u001b[0m\u001b[0;34m.\u001b[0m\u001b[0mdtype\u001b[0m\u001b[0;34m(\u001b[0m\u001b[0;34m'f8'\u001b[0m\u001b[0;34m)\u001b[0m\u001b[0;34m\u001b[0m\u001b[0;34m\u001b[0m\u001b[0m\n\u001b[1;32m    175\u001b[0m         \u001b[0;32melif\u001b[0m \u001b[0missubclass\u001b[0m\u001b[0;34m(\u001b[0m\u001b[0marr\u001b[0m\u001b[0;34m.\u001b[0m\u001b[0mdtype\u001b[0m\u001b[0;34m.\u001b[0m\u001b[0mtype\u001b[0m\u001b[0;34m,\u001b[0m \u001b[0mnt\u001b[0m\u001b[0;34m.\u001b[0m\u001b[0mfloat16\u001b[0m\u001b[0;34m)\u001b[0m\u001b[0;34m:\u001b[0m\u001b[0;34m\u001b[0m\u001b[0;34m\u001b[0m\u001b[0m\n",
            "\u001b[0;31mKeyboardInterrupt\u001b[0m: "
          ]
        }
      ]
    },
    {
      "cell_type": "markdown",
      "source": [
        "Instead of exploring all the range i which will take time, we can randomly choose some specific i"
      ],
      "metadata": {
        "id": "MmQMjK_YwUjg"
      }
    },
    {
      "cell_type": "code",
      "source": [
        "def roda_arvore_de_decisao(max_depth, min_samples_leaf):\n",
        "  SEED = 301\n",
        "  np.random.seed(SEED)\n",
        "\n",
        "  cv = GroupKFold(n_splits = 10)\n",
        "  modelo = DecisionTreeClassifier(max_depth=max_depth, min_samples_leaf = min_samples_leaf) # see we added the parameter min_sample_leaf here\n",
        "  results = cross_validate(modelo, x_azar, y_azar, cv = cv, groups = dados.modelo, return_train_score=True)\n",
        "  train_score = results['train_score'].mean() * 100\n",
        "  test_score = results['test_score'].mean() * 100\n",
        "  print(\"Arvore max_depth = %d, min_samples_leaf = %d, treino = %.2f, teste = %.2f\" % (max_depth, min_samples_leaf, train_score, test_score))\n",
        "  tabela = [max_depth, min_samples_leaf, train_score, test_score] # see we also added min_sample_leaf here\n",
        "  return tabela\n",
        "\n",
        "def busca():\n",
        "  resultados = []\n",
        "  for max_depth in range(1,33):\n",
        "    for min_samples_leaf in [32, 64, 128, 256]: # now test only some min_sample values \n",
        "        tabela = roda_arvore_de_decisao(max_depth, min_samples_leaf)\n",
        "        resultados.append(tabela)\n",
        "  resultados = pd.DataFrame(resultados, columns= [\"max_depth\",\"min_samples_leaf\",\"train\",\"test\"])\n",
        "  return resultados\n",
        "\n",
        "resultados = busca()\n",
        "resultados.head()"
      ],
      "metadata": {
        "colab": {
          "base_uri": "https://localhost:8080/",
          "height": 1000
        },
        "id": "R1oUCk8ywqYz",
        "outputId": "cca8faaf-4788-40b8-a83a-d914d3ca6f73"
      },
      "execution_count": 131,
      "outputs": [
        {
          "output_type": "stream",
          "name": "stdout",
          "text": [
            "Arvore max_depth = 1, min_samples_leaf = 32, treino = 75.79, teste = 75.78\n",
            "Arvore max_depth = 1, min_samples_leaf = 64, treino = 75.79, teste = 75.78\n",
            "Arvore max_depth = 1, min_samples_leaf = 128, treino = 75.79, teste = 75.78\n",
            "Arvore max_depth = 1, min_samples_leaf = 256, treino = 75.79, teste = 75.78\n",
            "Arvore max_depth = 2, min_samples_leaf = 32, treino = 75.79, teste = 75.78\n",
            "Arvore max_depth = 2, min_samples_leaf = 64, treino = 75.79, teste = 75.78\n",
            "Arvore max_depth = 2, min_samples_leaf = 128, treino = 75.79, teste = 75.78\n",
            "Arvore max_depth = 2, min_samples_leaf = 256, treino = 75.79, teste = 75.78\n",
            "Arvore max_depth = 3, min_samples_leaf = 32, treino = 78.75, teste = 78.67\n",
            "Arvore max_depth = 3, min_samples_leaf = 64, treino = 78.75, teste = 78.67\n",
            "Arvore max_depth = 3, min_samples_leaf = 128, treino = 78.75, teste = 78.67\n",
            "Arvore max_depth = 3, min_samples_leaf = 256, treino = 78.75, teste = 78.67\n",
            "Arvore max_depth = 4, min_samples_leaf = 32, treino = 78.75, teste = 78.67\n",
            "Arvore max_depth = 4, min_samples_leaf = 64, treino = 78.75, teste = 78.67\n",
            "Arvore max_depth = 4, min_samples_leaf = 128, treino = 78.75, teste = 78.67\n",
            "Arvore max_depth = 4, min_samples_leaf = 256, treino = 78.75, teste = 78.67\n",
            "Arvore max_depth = 5, min_samples_leaf = 32, treino = 78.82, teste = 78.50\n",
            "Arvore max_depth = 5, min_samples_leaf = 64, treino = 78.79, teste = 78.45\n",
            "Arvore max_depth = 5, min_samples_leaf = 128, treino = 78.77, teste = 78.44\n",
            "Arvore max_depth = 5, min_samples_leaf = 256, treino = 78.77, teste = 78.44\n",
            "Arvore max_depth = 6, min_samples_leaf = 32, treino = 78.96, teste = 78.02\n",
            "Arvore max_depth = 6, min_samples_leaf = 64, treino = 78.92, teste = 78.09\n",
            "Arvore max_depth = 6, min_samples_leaf = 128, treino = 78.85, teste = 78.27\n",
            "Arvore max_depth = 6, min_samples_leaf = 256, treino = 78.79, teste = 78.27\n",
            "Arvore max_depth = 7, min_samples_leaf = 32, treino = 79.24, teste = 77.94\n",
            "Arvore max_depth = 7, min_samples_leaf = 64, treino = 79.18, teste = 78.05\n",
            "Arvore max_depth = 7, min_samples_leaf = 128, treino = 79.01, teste = 78.21\n",
            "Arvore max_depth = 7, min_samples_leaf = 256, treino = 78.85, teste = 78.08\n",
            "Arvore max_depth = 8, min_samples_leaf = 32, treino = 79.47, teste = 77.93\n",
            "Arvore max_depth = 8, min_samples_leaf = 64, treino = 79.30, teste = 77.99\n",
            "Arvore max_depth = 8, min_samples_leaf = 128, treino = 79.05, teste = 78.37\n",
            "Arvore max_depth = 8, min_samples_leaf = 256, treino = 78.89, teste = 77.94\n",
            "Arvore max_depth = 9, min_samples_leaf = 32, treino = 79.80, teste = 77.32\n",
            "Arvore max_depth = 9, min_samples_leaf = 64, treino = 79.46, teste = 77.55\n",
            "Arvore max_depth = 9, min_samples_leaf = 128, treino = 79.12, teste = 78.30\n",
            "Arvore max_depth = 9, min_samples_leaf = 256, treino = 78.90, teste = 77.85\n",
            "Arvore max_depth = 10, min_samples_leaf = 32, treino = 80.05, teste = 77.45\n",
            "Arvore max_depth = 10, min_samples_leaf = 64, treino = 79.55, teste = 77.64\n",
            "Arvore max_depth = 10, min_samples_leaf = 128, treino = 79.16, teste = 78.29\n",
            "Arvore max_depth = 10, min_samples_leaf = 256, treino = 78.90, teste = 77.85\n",
            "Arvore max_depth = 11, min_samples_leaf = 32, treino = 80.21, teste = 77.20\n",
            "Arvore max_depth = 11, min_samples_leaf = 64, treino = 79.60, teste = 77.53\n",
            "Arvore max_depth = 11, min_samples_leaf = 128, treino = 79.19, teste = 78.31\n",
            "Arvore max_depth = 11, min_samples_leaf = 256, treino = 78.90, teste = 77.85\n",
            "Arvore max_depth = 12, min_samples_leaf = 32, treino = 80.34, teste = 77.00\n",
            "Arvore max_depth = 12, min_samples_leaf = 64, treino = 79.72, teste = 77.29\n",
            "Arvore max_depth = 12, min_samples_leaf = 128, treino = 79.21, teste = 78.22\n",
            "Arvore max_depth = 12, min_samples_leaf = 256, treino = 78.90, teste = 77.85\n",
            "Arvore max_depth = 13, min_samples_leaf = 32, treino = 80.51, teste = 76.85\n",
            "Arvore max_depth = 13, min_samples_leaf = 64, treino = 79.74, teste = 77.34\n",
            "Arvore max_depth = 13, min_samples_leaf = 128, treino = 79.21, teste = 78.22\n",
            "Arvore max_depth = 13, min_samples_leaf = 256, treino = 78.90, teste = 77.85\n",
            "Arvore max_depth = 14, min_samples_leaf = 32, treino = 80.60, teste = 76.69\n",
            "Arvore max_depth = 14, min_samples_leaf = 64, treino = 79.77, teste = 77.26\n",
            "Arvore max_depth = 14, min_samples_leaf = 128, treino = 79.21, teste = 78.22\n",
            "Arvore max_depth = 14, min_samples_leaf = 256, treino = 78.90, teste = 77.85\n",
            "Arvore max_depth = 15, min_samples_leaf = 32, treino = 80.70, teste = 76.88\n",
            "Arvore max_depth = 15, min_samples_leaf = 64, treino = 79.79, teste = 77.30\n",
            "Arvore max_depth = 15, min_samples_leaf = 128, treino = 79.21, teste = 78.22\n",
            "Arvore max_depth = 15, min_samples_leaf = 256, treino = 78.90, teste = 77.85\n",
            "Arvore max_depth = 16, min_samples_leaf = 32, treino = 80.76, teste = 76.87\n",
            "Arvore max_depth = 16, min_samples_leaf = 64, treino = 79.79, teste = 77.30\n",
            "Arvore max_depth = 16, min_samples_leaf = 128, treino = 79.21, teste = 78.22\n",
            "Arvore max_depth = 16, min_samples_leaf = 256, treino = 78.90, teste = 77.85\n",
            "Arvore max_depth = 17, min_samples_leaf = 32, treino = 80.82, teste = 76.98\n",
            "Arvore max_depth = 17, min_samples_leaf = 64, treino = 79.79, teste = 77.30\n",
            "Arvore max_depth = 17, min_samples_leaf = 128, treino = 79.21, teste = 78.22\n",
            "Arvore max_depth = 17, min_samples_leaf = 256, treino = 78.90, teste = 77.85\n",
            "Arvore max_depth = 18, min_samples_leaf = 32, treino = 80.85, teste = 76.86\n",
            "Arvore max_depth = 18, min_samples_leaf = 64, treino = 79.79, teste = 77.30\n",
            "Arvore max_depth = 18, min_samples_leaf = 128, treino = 79.21, teste = 78.22\n",
            "Arvore max_depth = 18, min_samples_leaf = 256, treino = 78.90, teste = 77.85\n",
            "Arvore max_depth = 19, min_samples_leaf = 32, treino = 80.86, teste = 76.89\n",
            "Arvore max_depth = 19, min_samples_leaf = 64, treino = 79.79, teste = 77.30\n",
            "Arvore max_depth = 19, min_samples_leaf = 128, treino = 79.21, teste = 78.22\n",
            "Arvore max_depth = 19, min_samples_leaf = 256, treino = 78.90, teste = 77.85\n",
            "Arvore max_depth = 20, min_samples_leaf = 32, treino = 80.88, teste = 76.87\n",
            "Arvore max_depth = 20, min_samples_leaf = 64, treino = 79.79, teste = 77.30\n",
            "Arvore max_depth = 20, min_samples_leaf = 128, treino = 79.21, teste = 78.22\n",
            "Arvore max_depth = 20, min_samples_leaf = 256, treino = 78.90, teste = 77.85\n",
            "Arvore max_depth = 21, min_samples_leaf = 32, treino = 80.88, teste = 76.92\n",
            "Arvore max_depth = 21, min_samples_leaf = 64, treino = 79.79, teste = 77.30\n",
            "Arvore max_depth = 21, min_samples_leaf = 128, treino = 79.21, teste = 78.22\n",
            "Arvore max_depth = 21, min_samples_leaf = 256, treino = 78.90, teste = 77.85\n",
            "Arvore max_depth = 22, min_samples_leaf = 32, treino = 80.88, teste = 76.87\n",
            "Arvore max_depth = 22, min_samples_leaf = 64, treino = 79.79, teste = 77.30\n",
            "Arvore max_depth = 22, min_samples_leaf = 128, treino = 79.21, teste = 78.22\n",
            "Arvore max_depth = 22, min_samples_leaf = 256, treino = 78.90, teste = 77.85\n",
            "Arvore max_depth = 23, min_samples_leaf = 32, treino = 80.88, teste = 76.87\n",
            "Arvore max_depth = 23, min_samples_leaf = 64, treino = 79.79, teste = 77.30\n",
            "Arvore max_depth = 23, min_samples_leaf = 128, treino = 79.21, teste = 78.22\n",
            "Arvore max_depth = 23, min_samples_leaf = 256, treino = 78.90, teste = 77.85\n",
            "Arvore max_depth = 24, min_samples_leaf = 32, treino = 80.89, teste = 76.84\n",
            "Arvore max_depth = 24, min_samples_leaf = 64, treino = 79.79, teste = 77.30\n",
            "Arvore max_depth = 24, min_samples_leaf = 128, treino = 79.21, teste = 78.22\n",
            "Arvore max_depth = 24, min_samples_leaf = 256, treino = 78.90, teste = 77.85\n",
            "Arvore max_depth = 25, min_samples_leaf = 32, treino = 80.89, teste = 76.84\n",
            "Arvore max_depth = 25, min_samples_leaf = 64, treino = 79.79, teste = 77.30\n",
            "Arvore max_depth = 25, min_samples_leaf = 128, treino = 79.21, teste = 78.22\n",
            "Arvore max_depth = 25, min_samples_leaf = 256, treino = 78.90, teste = 77.85\n",
            "Arvore max_depth = 26, min_samples_leaf = 32, treino = 80.89, teste = 76.84\n",
            "Arvore max_depth = 26, min_samples_leaf = 64, treino = 79.79, teste = 77.30\n",
            "Arvore max_depth = 26, min_samples_leaf = 128, treino = 79.21, teste = 78.22\n",
            "Arvore max_depth = 26, min_samples_leaf = 256, treino = 78.90, teste = 77.85\n",
            "Arvore max_depth = 27, min_samples_leaf = 32, treino = 80.89, teste = 76.84\n",
            "Arvore max_depth = 27, min_samples_leaf = 64, treino = 79.79, teste = 77.30\n",
            "Arvore max_depth = 27, min_samples_leaf = 128, treino = 79.21, teste = 78.22\n",
            "Arvore max_depth = 27, min_samples_leaf = 256, treino = 78.90, teste = 77.85\n",
            "Arvore max_depth = 28, min_samples_leaf = 32, treino = 80.89, teste = 76.84\n",
            "Arvore max_depth = 28, min_samples_leaf = 64, treino = 79.79, teste = 77.30\n",
            "Arvore max_depth = 28, min_samples_leaf = 128, treino = 79.21, teste = 78.22\n",
            "Arvore max_depth = 28, min_samples_leaf = 256, treino = 78.90, teste = 77.85\n",
            "Arvore max_depth = 29, min_samples_leaf = 32, treino = 80.89, teste = 76.84\n",
            "Arvore max_depth = 29, min_samples_leaf = 64, treino = 79.79, teste = 77.30\n",
            "Arvore max_depth = 29, min_samples_leaf = 128, treino = 79.21, teste = 78.22\n",
            "Arvore max_depth = 29, min_samples_leaf = 256, treino = 78.90, teste = 77.85\n",
            "Arvore max_depth = 30, min_samples_leaf = 32, treino = 80.89, teste = 76.84\n",
            "Arvore max_depth = 30, min_samples_leaf = 64, treino = 79.79, teste = 77.30\n",
            "Arvore max_depth = 30, min_samples_leaf = 128, treino = 79.21, teste = 78.22\n",
            "Arvore max_depth = 30, min_samples_leaf = 256, treino = 78.90, teste = 77.85\n",
            "Arvore max_depth = 31, min_samples_leaf = 32, treino = 80.89, teste = 76.84\n",
            "Arvore max_depth = 31, min_samples_leaf = 64, treino = 79.79, teste = 77.30\n",
            "Arvore max_depth = 31, min_samples_leaf = 128, treino = 79.21, teste = 78.22\n",
            "Arvore max_depth = 31, min_samples_leaf = 256, treino = 78.90, teste = 77.85\n",
            "Arvore max_depth = 32, min_samples_leaf = 32, treino = 80.89, teste = 76.84\n",
            "Arvore max_depth = 32, min_samples_leaf = 64, treino = 79.79, teste = 77.30\n",
            "Arvore max_depth = 32, min_samples_leaf = 128, treino = 79.21, teste = 78.22\n",
            "Arvore max_depth = 32, min_samples_leaf = 256, treino = 78.90, teste = 77.85\n"
          ]
        },
        {
          "output_type": "execute_result",
          "data": {
            "text/plain": [
              "   max_depth  min_samples_leaf      train       test\n",
              "0          1                32  75.791169  75.784219\n",
              "1          1                64  75.791169  75.784219\n",
              "2          1               128  75.791169  75.784219\n",
              "3          1               256  75.791169  75.784219\n",
              "4          2                32  75.791169  75.784219"
            ],
            "text/html": [
              "\n",
              "  <div id=\"df-dc57d937-4364-4b79-b410-e388cd0d955d\">\n",
              "    <div class=\"colab-df-container\">\n",
              "      <div>\n",
              "<style scoped>\n",
              "    .dataframe tbody tr th:only-of-type {\n",
              "        vertical-align: middle;\n",
              "    }\n",
              "\n",
              "    .dataframe tbody tr th {\n",
              "        vertical-align: top;\n",
              "    }\n",
              "\n",
              "    .dataframe thead th {\n",
              "        text-align: right;\n",
              "    }\n",
              "</style>\n",
              "<table border=\"1\" class=\"dataframe\">\n",
              "  <thead>\n",
              "    <tr style=\"text-align: right;\">\n",
              "      <th></th>\n",
              "      <th>max_depth</th>\n",
              "      <th>min_samples_leaf</th>\n",
              "      <th>train</th>\n",
              "      <th>test</th>\n",
              "    </tr>\n",
              "  </thead>\n",
              "  <tbody>\n",
              "    <tr>\n",
              "      <th>0</th>\n",
              "      <td>1</td>\n",
              "      <td>32</td>\n",
              "      <td>75.791169</td>\n",
              "      <td>75.784219</td>\n",
              "    </tr>\n",
              "    <tr>\n",
              "      <th>1</th>\n",
              "      <td>1</td>\n",
              "      <td>64</td>\n",
              "      <td>75.791169</td>\n",
              "      <td>75.784219</td>\n",
              "    </tr>\n",
              "    <tr>\n",
              "      <th>2</th>\n",
              "      <td>1</td>\n",
              "      <td>128</td>\n",
              "      <td>75.791169</td>\n",
              "      <td>75.784219</td>\n",
              "    </tr>\n",
              "    <tr>\n",
              "      <th>3</th>\n",
              "      <td>1</td>\n",
              "      <td>256</td>\n",
              "      <td>75.791169</td>\n",
              "      <td>75.784219</td>\n",
              "    </tr>\n",
              "    <tr>\n",
              "      <th>4</th>\n",
              "      <td>2</td>\n",
              "      <td>32</td>\n",
              "      <td>75.791169</td>\n",
              "      <td>75.784219</td>\n",
              "    </tr>\n",
              "  </tbody>\n",
              "</table>\n",
              "</div>\n",
              "      <button class=\"colab-df-convert\" onclick=\"convertToInteractive('df-dc57d937-4364-4b79-b410-e388cd0d955d')\"\n",
              "              title=\"Convert this dataframe to an interactive table.\"\n",
              "              style=\"display:none;\">\n",
              "        \n",
              "  <svg xmlns=\"http://www.w3.org/2000/svg\" height=\"24px\"viewBox=\"0 0 24 24\"\n",
              "       width=\"24px\">\n",
              "    <path d=\"M0 0h24v24H0V0z\" fill=\"none\"/>\n",
              "    <path d=\"M18.56 5.44l.94 2.06.94-2.06 2.06-.94-2.06-.94-.94-2.06-.94 2.06-2.06.94zm-11 1L8.5 8.5l.94-2.06 2.06-.94-2.06-.94L8.5 2.5l-.94 2.06-2.06.94zm10 10l.94 2.06.94-2.06 2.06-.94-2.06-.94-.94-2.06-.94 2.06-2.06.94z\"/><path d=\"M17.41 7.96l-1.37-1.37c-.4-.4-.92-.59-1.43-.59-.52 0-1.04.2-1.43.59L10.3 9.45l-7.72 7.72c-.78.78-.78 2.05 0 2.83L4 21.41c.39.39.9.59 1.41.59.51 0 1.02-.2 1.41-.59l7.78-7.78 2.81-2.81c.8-.78.8-2.07 0-2.86zM5.41 20L4 18.59l7.72-7.72 1.47 1.35L5.41 20z\"/>\n",
              "  </svg>\n",
              "      </button>\n",
              "      \n",
              "  <style>\n",
              "    .colab-df-container {\n",
              "      display:flex;\n",
              "      flex-wrap:wrap;\n",
              "      gap: 12px;\n",
              "    }\n",
              "\n",
              "    .colab-df-convert {\n",
              "      background-color: #E8F0FE;\n",
              "      border: none;\n",
              "      border-radius: 50%;\n",
              "      cursor: pointer;\n",
              "      display: none;\n",
              "      fill: #1967D2;\n",
              "      height: 32px;\n",
              "      padding: 0 0 0 0;\n",
              "      width: 32px;\n",
              "    }\n",
              "\n",
              "    .colab-df-convert:hover {\n",
              "      background-color: #E2EBFA;\n",
              "      box-shadow: 0px 1px 2px rgba(60, 64, 67, 0.3), 0px 1px 3px 1px rgba(60, 64, 67, 0.15);\n",
              "      fill: #174EA6;\n",
              "    }\n",
              "\n",
              "    [theme=dark] .colab-df-convert {\n",
              "      background-color: #3B4455;\n",
              "      fill: #D2E3FC;\n",
              "    }\n",
              "\n",
              "    [theme=dark] .colab-df-convert:hover {\n",
              "      background-color: #434B5C;\n",
              "      box-shadow: 0px 1px 3px 1px rgba(0, 0, 0, 0.15);\n",
              "      filter: drop-shadow(0px 1px 2px rgba(0, 0, 0, 0.3));\n",
              "      fill: #FFFFFF;\n",
              "    }\n",
              "  </style>\n",
              "\n",
              "      <script>\n",
              "        const buttonEl =\n",
              "          document.querySelector('#df-dc57d937-4364-4b79-b410-e388cd0d955d button.colab-df-convert');\n",
              "        buttonEl.style.display =\n",
              "          google.colab.kernel.accessAllowed ? 'block' : 'none';\n",
              "\n",
              "        async function convertToInteractive(key) {\n",
              "          const element = document.querySelector('#df-dc57d937-4364-4b79-b410-e388cd0d955d');\n",
              "          const dataTable =\n",
              "            await google.colab.kernel.invokeFunction('convertToInteractive',\n",
              "                                                     [key], {});\n",
              "          if (!dataTable) return;\n",
              "\n",
              "          const docLinkHtml = 'Like what you see? Visit the ' +\n",
              "            '<a target=\"_blank\" href=https://colab.research.google.com/notebooks/data_table.ipynb>data table notebook</a>'\n",
              "            + ' to learn more about interactive tables.';\n",
              "          element.innerHTML = '';\n",
              "          dataTable['output_type'] = 'display_data';\n",
              "          await google.colab.output.renderOutput(dataTable, element);\n",
              "          const docLink = document.createElement('div');\n",
              "          docLink.innerHTML = docLinkHtml;\n",
              "          element.appendChild(docLink);\n",
              "        }\n",
              "      </script>\n",
              "    </div>\n",
              "  </div>\n",
              "  "
            ]
          },
          "metadata": {},
          "execution_count": 131
        }
      ]
    },
    {
      "cell_type": "markdown",
      "source": [
        "The best models are those with max_depth = 4, see that min_samples_leaf does not influence much in this case."
      ],
      "metadata": {
        "id": "Q17-a8FFw6m5"
      }
    },
    {
      "cell_type": "code",
      "source": [
        "resultados.sort_values(\"test\", ascending=False).head()"
      ],
      "metadata": {
        "colab": {
          "base_uri": "https://localhost:8080/",
          "height": 206
        },
        "id": "wWedVq2xw8mo",
        "outputId": "29261a20-7347-4cb9-c5b8-42f572b640eb"
      },
      "execution_count": 132,
      "outputs": [
        {
          "output_type": "execute_result",
          "data": {
            "text/plain": [
              "    max_depth  min_samples_leaf      train       test\n",
              "15          4               256  78.750993  78.672633\n",
              "12          4                32  78.750993  78.672633\n",
              "14          4               128  78.750993  78.672633\n",
              "13          4                64  78.750993  78.672633\n",
              "8           3                32  78.750993  78.672633"
            ],
            "text/html": [
              "\n",
              "  <div id=\"df-d8dfbd12-7ff4-4b8b-b64c-b3f4e4684910\">\n",
              "    <div class=\"colab-df-container\">\n",
              "      <div>\n",
              "<style scoped>\n",
              "    .dataframe tbody tr th:only-of-type {\n",
              "        vertical-align: middle;\n",
              "    }\n",
              "\n",
              "    .dataframe tbody tr th {\n",
              "        vertical-align: top;\n",
              "    }\n",
              "\n",
              "    .dataframe thead th {\n",
              "        text-align: right;\n",
              "    }\n",
              "</style>\n",
              "<table border=\"1\" class=\"dataframe\">\n",
              "  <thead>\n",
              "    <tr style=\"text-align: right;\">\n",
              "      <th></th>\n",
              "      <th>max_depth</th>\n",
              "      <th>min_samples_leaf</th>\n",
              "      <th>train</th>\n",
              "      <th>test</th>\n",
              "    </tr>\n",
              "  </thead>\n",
              "  <tbody>\n",
              "    <tr>\n",
              "      <th>15</th>\n",
              "      <td>4</td>\n",
              "      <td>256</td>\n",
              "      <td>78.750993</td>\n",
              "      <td>78.672633</td>\n",
              "    </tr>\n",
              "    <tr>\n",
              "      <th>12</th>\n",
              "      <td>4</td>\n",
              "      <td>32</td>\n",
              "      <td>78.750993</td>\n",
              "      <td>78.672633</td>\n",
              "    </tr>\n",
              "    <tr>\n",
              "      <th>14</th>\n",
              "      <td>4</td>\n",
              "      <td>128</td>\n",
              "      <td>78.750993</td>\n",
              "      <td>78.672633</td>\n",
              "    </tr>\n",
              "    <tr>\n",
              "      <th>13</th>\n",
              "      <td>4</td>\n",
              "      <td>64</td>\n",
              "      <td>78.750993</td>\n",
              "      <td>78.672633</td>\n",
              "    </tr>\n",
              "    <tr>\n",
              "      <th>8</th>\n",
              "      <td>3</td>\n",
              "      <td>32</td>\n",
              "      <td>78.750993</td>\n",
              "      <td>78.672633</td>\n",
              "    </tr>\n",
              "  </tbody>\n",
              "</table>\n",
              "</div>\n",
              "      <button class=\"colab-df-convert\" onclick=\"convertToInteractive('df-d8dfbd12-7ff4-4b8b-b64c-b3f4e4684910')\"\n",
              "              title=\"Convert this dataframe to an interactive table.\"\n",
              "              style=\"display:none;\">\n",
              "        \n",
              "  <svg xmlns=\"http://www.w3.org/2000/svg\" height=\"24px\"viewBox=\"0 0 24 24\"\n",
              "       width=\"24px\">\n",
              "    <path d=\"M0 0h24v24H0V0z\" fill=\"none\"/>\n",
              "    <path d=\"M18.56 5.44l.94 2.06.94-2.06 2.06-.94-2.06-.94-.94-2.06-.94 2.06-2.06.94zm-11 1L8.5 8.5l.94-2.06 2.06-.94-2.06-.94L8.5 2.5l-.94 2.06-2.06.94zm10 10l.94 2.06.94-2.06 2.06-.94-2.06-.94-.94-2.06-.94 2.06-2.06.94z\"/><path d=\"M17.41 7.96l-1.37-1.37c-.4-.4-.92-.59-1.43-.59-.52 0-1.04.2-1.43.59L10.3 9.45l-7.72 7.72c-.78.78-.78 2.05 0 2.83L4 21.41c.39.39.9.59 1.41.59.51 0 1.02-.2 1.41-.59l7.78-7.78 2.81-2.81c.8-.78.8-2.07 0-2.86zM5.41 20L4 18.59l7.72-7.72 1.47 1.35L5.41 20z\"/>\n",
              "  </svg>\n",
              "      </button>\n",
              "      \n",
              "  <style>\n",
              "    .colab-df-container {\n",
              "      display:flex;\n",
              "      flex-wrap:wrap;\n",
              "      gap: 12px;\n",
              "    }\n",
              "\n",
              "    .colab-df-convert {\n",
              "      background-color: #E8F0FE;\n",
              "      border: none;\n",
              "      border-radius: 50%;\n",
              "      cursor: pointer;\n",
              "      display: none;\n",
              "      fill: #1967D2;\n",
              "      height: 32px;\n",
              "      padding: 0 0 0 0;\n",
              "      width: 32px;\n",
              "    }\n",
              "\n",
              "    .colab-df-convert:hover {\n",
              "      background-color: #E2EBFA;\n",
              "      box-shadow: 0px 1px 2px rgba(60, 64, 67, 0.3), 0px 1px 3px 1px rgba(60, 64, 67, 0.15);\n",
              "      fill: #174EA6;\n",
              "    }\n",
              "\n",
              "    [theme=dark] .colab-df-convert {\n",
              "      background-color: #3B4455;\n",
              "      fill: #D2E3FC;\n",
              "    }\n",
              "\n",
              "    [theme=dark] .colab-df-convert:hover {\n",
              "      background-color: #434B5C;\n",
              "      box-shadow: 0px 1px 3px 1px rgba(0, 0, 0, 0.15);\n",
              "      filter: drop-shadow(0px 1px 2px rgba(0, 0, 0, 0.3));\n",
              "      fill: #FFFFFF;\n",
              "    }\n",
              "  </style>\n",
              "\n",
              "      <script>\n",
              "        const buttonEl =\n",
              "          document.querySelector('#df-d8dfbd12-7ff4-4b8b-b64c-b3f4e4684910 button.colab-df-convert');\n",
              "        buttonEl.style.display =\n",
              "          google.colab.kernel.accessAllowed ? 'block' : 'none';\n",
              "\n",
              "        async function convertToInteractive(key) {\n",
              "          const element = document.querySelector('#df-d8dfbd12-7ff4-4b8b-b64c-b3f4e4684910');\n",
              "          const dataTable =\n",
              "            await google.colab.kernel.invokeFunction('convertToInteractive',\n",
              "                                                     [key], {});\n",
              "          if (!dataTable) return;\n",
              "\n",
              "          const docLinkHtml = 'Like what you see? Visit the ' +\n",
              "            '<a target=\"_blank\" href=https://colab.research.google.com/notebooks/data_table.ipynb>data table notebook</a>'\n",
              "            + ' to learn more about interactive tables.';\n",
              "          element.innerHTML = '';\n",
              "          dataTable['output_type'] = 'display_data';\n",
              "          await google.colab.output.renderOutput(dataTable, element);\n",
              "          const docLink = document.createElement('div');\n",
              "          docLink.innerHTML = docLinkHtml;\n",
              "          element.appendChild(docLink);\n",
              "        }\n",
              "      </script>\n",
              "    </div>\n",
              "  </div>\n",
              "  "
            ]
          },
          "metadata": {},
          "execution_count": 132
        }
      ]
    },
    {
      "cell_type": "markdown",
      "source": [
        "## Overcome running time constraints"
      ],
      "metadata": {
        "id": "zDfLJUNax3_j"
      }
    },
    {
      "cell_type": "markdown",
      "source": [
        "We remain with the limitation that we haven't tested all min_samples_leaf values so we could run and do not waste much of time. To overcome such limitation we could do a **correlation matrix**. In the sense that we find the correlation between the results of train and test we verify previously with the hyper-parameters employed (max_depth and min_samples_leaf)"
      ],
      "metadata": {
        "id": "038lCkH9xhc-"
      }
    },
    {
      "cell_type": "code",
      "source": [
        "corr=resultados.corr()\n",
        "corr"
      ],
      "metadata": {
        "colab": {
          "base_uri": "https://localhost:8080/",
          "height": 175
        },
        "id": "uy1G3dGvyfah",
        "outputId": "3e985579-4b0c-4323-9797-4a0cd23d5db9"
      },
      "execution_count": 133,
      "outputs": [
        {
          "output_type": "execute_result",
          "data": {
            "text/plain": [
              "                     max_depth  min_samples_leaf     train      test\n",
              "max_depth         1.000000e+00     -2.780775e-16  0.536705 -0.027675\n",
              "min_samples_leaf -2.780775e-16      1.000000e+00 -0.409676  0.349011\n",
              "train             5.367048e-01     -4.096762e-01  1.000000  0.116466\n",
              "test             -2.767507e-02      3.490111e-01  0.116466  1.000000"
            ],
            "text/html": [
              "\n",
              "  <div id=\"df-df6be1d0-e27e-4d4a-b86e-94f2fc3f1ca2\">\n",
              "    <div class=\"colab-df-container\">\n",
              "      <div>\n",
              "<style scoped>\n",
              "    .dataframe tbody tr th:only-of-type {\n",
              "        vertical-align: middle;\n",
              "    }\n",
              "\n",
              "    .dataframe tbody tr th {\n",
              "        vertical-align: top;\n",
              "    }\n",
              "\n",
              "    .dataframe thead th {\n",
              "        text-align: right;\n",
              "    }\n",
              "</style>\n",
              "<table border=\"1\" class=\"dataframe\">\n",
              "  <thead>\n",
              "    <tr style=\"text-align: right;\">\n",
              "      <th></th>\n",
              "      <th>max_depth</th>\n",
              "      <th>min_samples_leaf</th>\n",
              "      <th>train</th>\n",
              "      <th>test</th>\n",
              "    </tr>\n",
              "  </thead>\n",
              "  <tbody>\n",
              "    <tr>\n",
              "      <th>max_depth</th>\n",
              "      <td>1.000000e+00</td>\n",
              "      <td>-2.780775e-16</td>\n",
              "      <td>0.536705</td>\n",
              "      <td>-0.027675</td>\n",
              "    </tr>\n",
              "    <tr>\n",
              "      <th>min_samples_leaf</th>\n",
              "      <td>-2.780775e-16</td>\n",
              "      <td>1.000000e+00</td>\n",
              "      <td>-0.409676</td>\n",
              "      <td>0.349011</td>\n",
              "    </tr>\n",
              "    <tr>\n",
              "      <th>train</th>\n",
              "      <td>5.367048e-01</td>\n",
              "      <td>-4.096762e-01</td>\n",
              "      <td>1.000000</td>\n",
              "      <td>0.116466</td>\n",
              "    </tr>\n",
              "    <tr>\n",
              "      <th>test</th>\n",
              "      <td>-2.767507e-02</td>\n",
              "      <td>3.490111e-01</td>\n",
              "      <td>0.116466</td>\n",
              "      <td>1.000000</td>\n",
              "    </tr>\n",
              "  </tbody>\n",
              "</table>\n",
              "</div>\n",
              "      <button class=\"colab-df-convert\" onclick=\"convertToInteractive('df-df6be1d0-e27e-4d4a-b86e-94f2fc3f1ca2')\"\n",
              "              title=\"Convert this dataframe to an interactive table.\"\n",
              "              style=\"display:none;\">\n",
              "        \n",
              "  <svg xmlns=\"http://www.w3.org/2000/svg\" height=\"24px\"viewBox=\"0 0 24 24\"\n",
              "       width=\"24px\">\n",
              "    <path d=\"M0 0h24v24H0V0z\" fill=\"none\"/>\n",
              "    <path d=\"M18.56 5.44l.94 2.06.94-2.06 2.06-.94-2.06-.94-.94-2.06-.94 2.06-2.06.94zm-11 1L8.5 8.5l.94-2.06 2.06-.94-2.06-.94L8.5 2.5l-.94 2.06-2.06.94zm10 10l.94 2.06.94-2.06 2.06-.94-2.06-.94-.94-2.06-.94 2.06-2.06.94z\"/><path d=\"M17.41 7.96l-1.37-1.37c-.4-.4-.92-.59-1.43-.59-.52 0-1.04.2-1.43.59L10.3 9.45l-7.72 7.72c-.78.78-.78 2.05 0 2.83L4 21.41c.39.39.9.59 1.41.59.51 0 1.02-.2 1.41-.59l7.78-7.78 2.81-2.81c.8-.78.8-2.07 0-2.86zM5.41 20L4 18.59l7.72-7.72 1.47 1.35L5.41 20z\"/>\n",
              "  </svg>\n",
              "      </button>\n",
              "      \n",
              "  <style>\n",
              "    .colab-df-container {\n",
              "      display:flex;\n",
              "      flex-wrap:wrap;\n",
              "      gap: 12px;\n",
              "    }\n",
              "\n",
              "    .colab-df-convert {\n",
              "      background-color: #E8F0FE;\n",
              "      border: none;\n",
              "      border-radius: 50%;\n",
              "      cursor: pointer;\n",
              "      display: none;\n",
              "      fill: #1967D2;\n",
              "      height: 32px;\n",
              "      padding: 0 0 0 0;\n",
              "      width: 32px;\n",
              "    }\n",
              "\n",
              "    .colab-df-convert:hover {\n",
              "      background-color: #E2EBFA;\n",
              "      box-shadow: 0px 1px 2px rgba(60, 64, 67, 0.3), 0px 1px 3px 1px rgba(60, 64, 67, 0.15);\n",
              "      fill: #174EA6;\n",
              "    }\n",
              "\n",
              "    [theme=dark] .colab-df-convert {\n",
              "      background-color: #3B4455;\n",
              "      fill: #D2E3FC;\n",
              "    }\n",
              "\n",
              "    [theme=dark] .colab-df-convert:hover {\n",
              "      background-color: #434B5C;\n",
              "      box-shadow: 0px 1px 3px 1px rgba(0, 0, 0, 0.15);\n",
              "      filter: drop-shadow(0px 1px 2px rgba(0, 0, 0, 0.3));\n",
              "      fill: #FFFFFF;\n",
              "    }\n",
              "  </style>\n",
              "\n",
              "      <script>\n",
              "        const buttonEl =\n",
              "          document.querySelector('#df-df6be1d0-e27e-4d4a-b86e-94f2fc3f1ca2 button.colab-df-convert');\n",
              "        buttonEl.style.display =\n",
              "          google.colab.kernel.accessAllowed ? 'block' : 'none';\n",
              "\n",
              "        async function convertToInteractive(key) {\n",
              "          const element = document.querySelector('#df-df6be1d0-e27e-4d4a-b86e-94f2fc3f1ca2');\n",
              "          const dataTable =\n",
              "            await google.colab.kernel.invokeFunction('convertToInteractive',\n",
              "                                                     [key], {});\n",
              "          if (!dataTable) return;\n",
              "\n",
              "          const docLinkHtml = 'Like what you see? Visit the ' +\n",
              "            '<a target=\"_blank\" href=https://colab.research.google.com/notebooks/data_table.ipynb>data table notebook</a>'\n",
              "            + ' to learn more about interactive tables.';\n",
              "          element.innerHTML = '';\n",
              "          dataTable['output_type'] = 'display_data';\n",
              "          await google.colab.output.renderOutput(dataTable, element);\n",
              "          const docLink = document.createElement('div');\n",
              "          docLink.innerHTML = docLinkHtml;\n",
              "          element.appendChild(docLink);\n",
              "        }\n",
              "      </script>\n",
              "    </div>\n",
              "  </div>\n",
              "  "
            ]
          },
          "metadata": {},
          "execution_count": 133
        }
      ]
    },
    {
      "cell_type": "markdown",
      "source": [
        "See that when max_depth increases, the train increases (as we saw it already) but the min_samples_leaf decreases. See that max_depth is negatively correlated with test (in a much smaller magnitude) but min_samples_leaf and test are positively correlated."
      ],
      "metadata": {
        "id": "oaQv3uCByg8_"
      }
    },
    {
      "cell_type": "markdown",
      "source": [
        "Visualize differently"
      ],
      "metadata": {
        "id": "cSaKrG_xzb82"
      }
    },
    {
      "cell_type": "code",
      "source": [
        "sns.heatmap(corr)"
      ],
      "metadata": {
        "colab": {
          "base_uri": "https://localhost:8080/",
          "height": 377
        },
        "id": "WIEMarKRzTXp",
        "outputId": "22b05847-d816-4640-c9b7-a42955db23c1"
      },
      "execution_count": 134,
      "outputs": [
        {
          "output_type": "execute_result",
          "data": {
            "text/plain": [
              "<matplotlib.axes._subplots.AxesSubplot at 0x7f9b97229290>"
            ]
          },
          "metadata": {},
          "execution_count": 134
        },
        {
          "output_type": "display_data",
          "data": {
            "text/plain": [
              "<Figure size 432x288 with 2 Axes>"
            ],
            "image/png": "[encoded data removed]"
          },
          "metadata": {}
        }
      ]
    },
    {
      "cell_type": "markdown",
      "source": [
        "Or"
      ],
      "metadata": {
        "id": "puOGkLfbzfEv"
      }
    },
    {
      "cell_type": "code",
      "source": [
        "from pandas.plotting import scatter_matrix\n",
        "scatter_matrix(resultados, figsize = (14, 8), alpha = 0.3)"
      ],
      "metadata": {
        "colab": {
          "base_uri": "https://localhost:8080/",
          "height": 803
        },
        "id": "zt4E7Qn9zf6D",
        "outputId": "5b4da855-4e5c-4b87-b5f4-2770e959854f"
      },
      "execution_count": 135,
      "outputs": [
        {
          "output_type": "execute_result",
          "data": {
            "text/plain": [
              "array([[<matplotlib.axes._subplots.AxesSubplot object at 0x7f9b97208990>,\n",
              "        <matplotlib.axes._subplots.AxesSubplot object at 0x7f9b973a58d0>,\n",
              "        <matplotlib.axes._subplots.AxesSubplot object at 0x7f9b97189e10>,\n",
              "        <matplotlib.axes._subplots.AxesSubplot object at 0x7f9b97148450>],\n",
              "       [<matplotlib.axes._subplots.AxesSubplot object at 0x7f9b970f7cd0>,\n",
              "        <matplotlib.axes._subplots.AxesSubplot object at 0x7f9b970b5210>,\n",
              "        <matplotlib.axes._subplots.AxesSubplot object at 0x7f9b97069790>,\n",
              "        <matplotlib.axes._subplots.AxesSubplot object at 0x7f9b9709cbd0>],\n",
              "       [<matplotlib.axes._subplots.AxesSubplot object at 0x7f9b9709cc10>,\n",
              "        <matplotlib.axes._subplots.AxesSubplot object at 0x7f9b9705c250>,\n",
              "        <matplotlib.axes._subplots.AxesSubplot object at 0x7f9b96fcab50>,\n",
              "        <matplotlib.axes._subplots.AxesSubplot object at 0x7f9b96f75b50>],\n",
              "       [<matplotlib.axes._subplots.AxesSubplot object at 0x7f9b98b85690>,\n",
              "        <matplotlib.axes._subplots.AxesSubplot object at 0x7f9b9780fa10>,\n",
              "        <matplotlib.axes._subplots.AxesSubplot object at 0x7f9b972217d0>,\n",
              "        <matplotlib.axes._subplots.AxesSubplot object at 0x7f9b974fc990>]],\n",
              "      dtype=object)"
            ]
          },
          "metadata": {},
          "execution_count": 135
        },
        {
          "output_type": "display_data",
          "data": {
            "text/plain": [
              "<Figure size 1008x576 with 16 Axes>"
            ],
            "image/png": "[encoded data removed]"
          },
          "metadata": {}
        }
      ]
    },
    {
      "cell_type": "markdown",
      "source": [
        "The diagonal shows th histogram of where the i took place"
      ],
      "metadata": {
        "id": "ncL2KPqs0Sxv"
      }
    },
    {
      "cell_type": "markdown",
      "source": [
        "Or"
      ],
      "metadata": {
        "id": "TUI-eOxL0c5z"
      }
    },
    {
      "cell_type": "code",
      "source": [
        "sns.pairplot(resultados) "
      ],
      "metadata": {
        "colab": {
          "base_uri": "https://localhost:8080/",
          "height": 738
        },
        "id": "lWkJBpmS0dh0",
        "outputId": "652b0fbf-49a4-489b-a5e9-358dd6ef606e"
      },
      "execution_count": 136,
      "outputs": [
        {
          "output_type": "execute_result",
          "data": {
            "text/plain": [
              "<seaborn.axisgrid.PairGrid at 0x7f9b96e93290>"
            ]
          },
          "metadata": {},
          "execution_count": 136
        },
        {
          "output_type": "display_data",
          "data": {
            "text/plain": [
              "<Figure size 720x720 with 20 Axes>"
            ],
            "image/png": "[encoded data removed]"
          },
          "metadata": {}
        }
      ]
    },
    {
      "cell_type": "markdown",
      "source": [
        "or"
      ],
      "metadata": {
        "id": "g8wrgWBw02ee"
      }
    },
    {
      "cell_type": "markdown",
      "source": [
        "Our correlation shows positive corr between min_samples_leaf and test, so setting higher min_samples_leaf can reflect better results."
      ],
      "metadata": {
        "id": "1mwB6_S527-x"
      }
    },
    {
      "cell_type": "code",
      "source": [
        "def roda_arvore_de_decisao(max_depth, min_samples_leaf):\n",
        "  SEED = 301\n",
        "  np.random.seed(SEED)\n",
        "\n",
        "  cv = GroupKFold(n_splits = 10)\n",
        "  modelo = DecisionTreeClassifier(max_depth=max_depth, min_samples_leaf = min_samples_leaf) # see we added the parameter min_sample_leaf here\n",
        "  results = cross_validate(modelo, x_azar, y_azar, cv = cv, groups = dados.modelo, return_train_score=True)\n",
        "  train_score = results['train_score'].mean() * 100\n",
        "  test_score = results['test_score'].mean() * 100\n",
        "  print(\"Arvore max_depth = %d, min_samples_leaf = %d, treino = %.2f, teste = %.2f\" % (max_depth, min_samples_leaf, train_score, test_score))\n",
        "  tabela = [max_depth, min_samples_leaf, train_score, test_score] # see we also added min_sample_leaf here\n",
        "  return tabela\n",
        "\n",
        "def busca():\n",
        "  resultados = []\n",
        "  for max_depth in range(1,33):\n",
        "    for min_samples_leaf in [128, 192, 256, 512]:\n",
        "        tabela = roda_arvore_de_decisao(max_depth, min_samples_leaf)\n",
        "        resultados.append(tabela)\n",
        "  resultados = pd.DataFrame(resultados, columns= [\"max_depth\",\"min_samples_leaf\",\"train\",\"test\"])\n",
        "  return resultados\n",
        "\n",
        "resultados = busca()\n",
        "resultados.head()"
      ],
      "metadata": {
        "colab": {
          "base_uri": "https://localhost:8080/",
          "height": 1000
        },
        "id": "ja9DSi2q3nxX",
        "outputId": "290f8139-e26b-4741-a315-a88ad479fca9"
      },
      "execution_count": 138,
      "outputs": [
        {
          "output_type": "stream",
          "name": "stdout",
          "text": [
            "Arvore max_depth = 1, min_samples_leaf = 128, treino = 75.79, teste = 75.78\n",
            "Arvore max_depth = 1, min_samples_leaf = 192, treino = 75.79, teste = 75.78\n",
            "Arvore max_depth = 1, min_samples_leaf = 256, treino = 75.79, teste = 75.78\n",
            "Arvore max_depth = 1, min_samples_leaf = 512, treino = 75.79, teste = 75.78\n",
            "Arvore max_depth = 2, min_samples_leaf = 128, treino = 75.79, teste = 75.78\n",
            "Arvore max_depth = 2, min_samples_leaf = 192, treino = 75.79, teste = 75.78\n",
            "Arvore max_depth = 2, min_samples_leaf = 256, treino = 75.79, teste = 75.78\n",
            "Arvore max_depth = 2, min_samples_leaf = 512, treino = 75.79, teste = 75.78\n",
            "Arvore max_depth = 3, min_samples_leaf = 128, treino = 78.75, teste = 78.67\n",
            "Arvore max_depth = 3, min_samples_leaf = 192, treino = 78.75, teste = 78.67\n",
            "Arvore max_depth = 3, min_samples_leaf = 256, treino = 78.75, teste = 78.67\n",
            "Arvore max_depth = 3, min_samples_leaf = 512, treino = 77.53, teste = 77.50\n",
            "Arvore max_depth = 4, min_samples_leaf = 128, treino = 78.75, teste = 78.67\n",
            "Arvore max_depth = 4, min_samples_leaf = 192, treino = 78.75, teste = 78.67\n",
            "Arvore max_depth = 4, min_samples_leaf = 256, treino = 78.75, teste = 78.67\n",
            "Arvore max_depth = 4, min_samples_leaf = 512, treino = 77.53, teste = 77.50\n",
            "Arvore max_depth = 5, min_samples_leaf = 128, treino = 78.77, teste = 78.44\n",
            "Arvore max_depth = 5, min_samples_leaf = 192, treino = 78.77, teste = 78.44\n",
            "Arvore max_depth = 5, min_samples_leaf = 256, treino = 78.77, teste = 78.44\n",
            "Arvore max_depth = 5, min_samples_leaf = 512, treino = 77.53, teste = 77.50\n",
            "Arvore max_depth = 6, min_samples_leaf = 128, treino = 78.85, teste = 78.27\n",
            "Arvore max_depth = 6, min_samples_leaf = 192, treino = 78.79, teste = 78.31\n",
            "Arvore max_depth = 6, min_samples_leaf = 256, treino = 78.79, teste = 78.27\n",
            "Arvore max_depth = 6, min_samples_leaf = 512, treino = 77.53, teste = 77.50\n",
            "Arvore max_depth = 7, min_samples_leaf = 128, treino = 79.01, teste = 78.21\n",
            "Arvore max_depth = 7, min_samples_leaf = 192, treino = 78.92, teste = 78.10\n",
            "Arvore max_depth = 7, min_samples_leaf = 256, treino = 78.85, teste = 78.08\n",
            "Arvore max_depth = 7, min_samples_leaf = 512, treino = 77.53, teste = 77.50\n",
            "Arvore max_depth = 8, min_samples_leaf = 128, treino = 79.05, teste = 78.37\n",
            "Arvore max_depth = 8, min_samples_leaf = 192, treino = 78.98, teste = 78.20\n",
            "Arvore max_depth = 8, min_samples_leaf = 256, treino = 78.89, teste = 77.94\n",
            "Arvore max_depth = 8, min_samples_leaf = 512, treino = 77.53, teste = 77.50\n",
            "Arvore max_depth = 9, min_samples_leaf = 128, treino = 79.12, teste = 78.30\n",
            "Arvore max_depth = 9, min_samples_leaf = 192, treino = 78.99, teste = 78.11\n",
            "Arvore max_depth = 9, min_samples_leaf = 256, treino = 78.90, teste = 77.85\n",
            "Arvore max_depth = 9, min_samples_leaf = 512, treino = 77.53, teste = 77.50\n",
            "Arvore max_depth = 10, min_samples_leaf = 128, treino = 79.16, teste = 78.29\n",
            "Arvore max_depth = 10, min_samples_leaf = 192, treino = 79.01, teste = 78.05\n",
            "Arvore max_depth = 10, min_samples_leaf = 256, treino = 78.90, teste = 77.85\n",
            "Arvore max_depth = 10, min_samples_leaf = 512, treino = 77.53, teste = 77.50\n",
            "Arvore max_depth = 11, min_samples_leaf = 128, treino = 79.19, teste = 78.31\n",
            "Arvore max_depth = 11, min_samples_leaf = 192, treino = 79.01, teste = 78.05\n",
            "Arvore max_depth = 11, min_samples_leaf = 256, treino = 78.90, teste = 77.85\n",
            "Arvore max_depth = 11, min_samples_leaf = 512, treino = 77.53, teste = 77.50\n",
            "Arvore max_depth = 12, min_samples_leaf = 128, treino = 79.21, teste = 78.22\n",
            "Arvore max_depth = 12, min_samples_leaf = 192, treino = 79.01, teste = 78.05\n",
            "Arvore max_depth = 12, min_samples_leaf = 256, treino = 78.90, teste = 77.85\n",
            "Arvore max_depth = 12, min_samples_leaf = 512, treino = 77.53, teste = 77.50\n",
            "Arvore max_depth = 13, min_samples_leaf = 128, treino = 79.21, teste = 78.22\n",
            "Arvore max_depth = 13, min_samples_leaf = 192, treino = 79.01, teste = 78.05\n",
            "Arvore max_depth = 13, min_samples_leaf = 256, treino = 78.90, teste = 77.85\n",
            "Arvore max_depth = 13, min_samples_leaf = 512, treino = 77.53, teste = 77.50\n",
            "Arvore max_depth = 14, min_samples_leaf = 128, treino = 79.21, teste = 78.22\n",
            "Arvore max_depth = 14, min_samples_leaf = 192, treino = 79.01, teste = 78.05\n",
            "Arvore max_depth = 14, min_samples_leaf = 256, treino = 78.90, teste = 77.85\n",
            "Arvore max_depth = 14, min_samples_leaf = 512, treino = 77.53, teste = 77.50\n",
            "Arvore max_depth = 15, min_samples_leaf = 128, treino = 79.21, teste = 78.22\n",
            "Arvore max_depth = 15, min_samples_leaf = 192, treino = 79.01, teste = 78.05\n",
            "Arvore max_depth = 15, min_samples_leaf = 256, treino = 78.90, teste = 77.85\n",
            "Arvore max_depth = 15, min_samples_leaf = 512, treino = 77.53, teste = 77.50\n",
            "Arvore max_depth = 16, min_samples_leaf = 128, treino = 79.21, teste = 78.22\n",
            "Arvore max_depth = 16, min_samples_leaf = 192, treino = 79.01, teste = 78.05\n",
            "Arvore max_depth = 16, min_samples_leaf = 256, treino = 78.90, teste = 77.85\n",
            "Arvore max_depth = 16, min_samples_leaf = 512, treino = 77.53, teste = 77.50\n",
            "Arvore max_depth = 17, min_samples_leaf = 128, treino = 79.21, teste = 78.22\n",
            "Arvore max_depth = 17, min_samples_leaf = 192, treino = 79.01, teste = 78.05\n",
            "Arvore max_depth = 17, min_samples_leaf = 256, treino = 78.90, teste = 77.85\n",
            "Arvore max_depth = 17, min_samples_leaf = 512, treino = 77.53, teste = 77.50\n",
            "Arvore max_depth = 18, min_samples_leaf = 128, treino = 79.21, teste = 78.22\n",
            "Arvore max_depth = 18, min_samples_leaf = 192, treino = 79.01, teste = 78.05\n",
            "Arvore max_depth = 18, min_samples_leaf = 256, treino = 78.90, teste = 77.85\n",
            "Arvore max_depth = 18, min_samples_leaf = 512, treino = 77.53, teste = 77.50\n",
            "Arvore max_depth = 19, min_samples_leaf = 128, treino = 79.21, teste = 78.22\n",
            "Arvore max_depth = 19, min_samples_leaf = 192, treino = 79.01, teste = 78.05\n",
            "Arvore max_depth = 19, min_samples_leaf = 256, treino = 78.90, teste = 77.85\n",
            "Arvore max_depth = 19, min_samples_leaf = 512, treino = 77.53, teste = 77.50\n",
            "Arvore max_depth = 20, min_samples_leaf = 128, treino = 79.21, teste = 78.22\n",
            "Arvore max_depth = 20, min_samples_leaf = 192, treino = 79.01, teste = 78.05\n",
            "Arvore max_depth = 20, min_samples_leaf = 256, treino = 78.90, teste = 77.85\n",
            "Arvore max_depth = 20, min_samples_leaf = 512, treino = 77.53, teste = 77.50\n",
            "Arvore max_depth = 21, min_samples_leaf = 128, treino = 79.21, teste = 78.22\n",
            "Arvore max_depth = 21, min_samples_leaf = 192, treino = 79.01, teste = 78.05\n",
            "Arvore max_depth = 21, min_samples_leaf = 256, treino = 78.90, teste = 77.85\n",
            "Arvore max_depth = 21, min_samples_leaf = 512, treino = 77.53, teste = 77.50\n",
            "Arvore max_depth = 22, min_samples_leaf = 128, treino = 79.21, teste = 78.22\n",
            "Arvore max_depth = 22, min_samples_leaf = 192, treino = 79.01, teste = 78.05\n",
            "Arvore max_depth = 22, min_samples_leaf = 256, treino = 78.90, teste = 77.85\n",
            "Arvore max_depth = 22, min_samples_leaf = 512, treino = 77.53, teste = 77.50\n",
            "Arvore max_depth = 23, min_samples_leaf = 128, treino = 79.21, teste = 78.22\n",
            "Arvore max_depth = 23, min_samples_leaf = 192, treino = 79.01, teste = 78.05\n",
            "Arvore max_depth = 23, min_samples_leaf = 256, treino = 78.90, teste = 77.85\n",
            "Arvore max_depth = 23, min_samples_leaf = 512, treino = 77.53, teste = 77.50\n",
            "Arvore max_depth = 24, min_samples_leaf = 128, treino = 79.21, teste = 78.22\n",
            "Arvore max_depth = 24, min_samples_leaf = 192, treino = 79.01, teste = 78.05\n",
            "Arvore max_depth = 24, min_samples_leaf = 256, treino = 78.90, teste = 77.85\n",
            "Arvore max_depth = 24, min_samples_leaf = 512, treino = 77.53, teste = 77.50\n",
            "Arvore max_depth = 25, min_samples_leaf = 128, treino = 79.21, teste = 78.22\n",
            "Arvore max_depth = 25, min_samples_leaf = 192, treino = 79.01, teste = 78.05\n",
            "Arvore max_depth = 25, min_samples_leaf = 256, treino = 78.90, teste = 77.85\n",
            "Arvore max_depth = 25, min_samples_leaf = 512, treino = 77.53, teste = 77.50\n",
            "Arvore max_depth = 26, min_samples_leaf = 128, treino = 79.21, teste = 78.22\n",
            "Arvore max_depth = 26, min_samples_leaf = 192, treino = 79.01, teste = 78.05\n",
            "Arvore max_depth = 26, min_samples_leaf = 256, treino = 78.90, teste = 77.85\n",
            "Arvore max_depth = 26, min_samples_leaf = 512, treino = 77.53, teste = 77.50\n",
            "Arvore max_depth = 27, min_samples_leaf = 128, treino = 79.21, teste = 78.22\n",
            "Arvore max_depth = 27, min_samples_leaf = 192, treino = 79.01, teste = 78.05\n",
            "Arvore max_depth = 27, min_samples_leaf = 256, treino = 78.90, teste = 77.85\n",
            "Arvore max_depth = 27, min_samples_leaf = 512, treino = 77.53, teste = 77.50\n",
            "Arvore max_depth = 28, min_samples_leaf = 128, treino = 79.21, teste = 78.22\n",
            "Arvore max_depth = 28, min_samples_leaf = 192, treino = 79.01, teste = 78.05\n",
            "Arvore max_depth = 28, min_samples_leaf = 256, treino = 78.90, teste = 77.85\n",
            "Arvore max_depth = 28, min_samples_leaf = 512, treino = 77.53, teste = 77.50\n",
            "Arvore max_depth = 29, min_samples_leaf = 128, treino = 79.21, teste = 78.22\n",
            "Arvore max_depth = 29, min_samples_leaf = 192, treino = 79.01, teste = 78.05\n",
            "Arvore max_depth = 29, min_samples_leaf = 256, treino = 78.90, teste = 77.85\n",
            "Arvore max_depth = 29, min_samples_leaf = 512, treino = 77.53, teste = 77.50\n",
            "Arvore max_depth = 30, min_samples_leaf = 128, treino = 79.21, teste = 78.22\n",
            "Arvore max_depth = 30, min_samples_leaf = 192, treino = 79.01, teste = 78.05\n",
            "Arvore max_depth = 30, min_samples_leaf = 256, treino = 78.90, teste = 77.85\n",
            "Arvore max_depth = 30, min_samples_leaf = 512, treino = 77.53, teste = 77.50\n",
            "Arvore max_depth = 31, min_samples_leaf = 128, treino = 79.21, teste = 78.22\n",
            "Arvore max_depth = 31, min_samples_leaf = 192, treino = 79.01, teste = 78.05\n",
            "Arvore max_depth = 31, min_samples_leaf = 256, treino = 78.90, teste = 77.85\n",
            "Arvore max_depth = 31, min_samples_leaf = 512, treino = 77.53, teste = 77.50\n",
            "Arvore max_depth = 32, min_samples_leaf = 128, treino = 79.21, teste = 78.22\n",
            "Arvore max_depth = 32, min_samples_leaf = 192, treino = 79.01, teste = 78.05\n",
            "Arvore max_depth = 32, min_samples_leaf = 256, treino = 78.90, teste = 77.85\n",
            "Arvore max_depth = 32, min_samples_leaf = 512, treino = 77.53, teste = 77.50\n"
          ]
        },
        {
          "output_type": "execute_result",
          "data": {
            "text/plain": [
              "   max_depth  min_samples_leaf      train       test\n",
              "0          1               128  75.791169  75.784219\n",
              "1          1               192  75.791169  75.784219\n",
              "2          1               256  75.791169  75.784219\n",
              "3          1               512  75.791169  75.784219\n",
              "4          2               128  75.791169  75.784219"
            ],
            "text/html": [
              "\n",
              "  <div id=\"df-d7bc58ea-3e51-459b-a6e9-37b8fe0dc8dd\">\n",
              "    <div class=\"colab-df-container\">\n",
              "      <div>\n",
              "<style scoped>\n",
              "    .dataframe tbody tr th:only-of-type {\n",
              "        vertical-align: middle;\n",
              "    }\n",
              "\n",
              "    .dataframe tbody tr th {\n",
              "        vertical-align: top;\n",
              "    }\n",
              "\n",
              "    .dataframe thead th {\n",
              "        text-align: right;\n",
              "    }\n",
              "</style>\n",
              "<table border=\"1\" class=\"dataframe\">\n",
              "  <thead>\n",
              "    <tr style=\"text-align: right;\">\n",
              "      <th></th>\n",
              "      <th>max_depth</th>\n",
              "      <th>min_samples_leaf</th>\n",
              "      <th>train</th>\n",
              "      <th>test</th>\n",
              "    </tr>\n",
              "  </thead>\n",
              "  <tbody>\n",
              "    <tr>\n",
              "      <th>0</th>\n",
              "      <td>1</td>\n",
              "      <td>128</td>\n",
              "      <td>75.791169</td>\n",
              "      <td>75.784219</td>\n",
              "    </tr>\n",
              "    <tr>\n",
              "      <th>1</th>\n",
              "      <td>1</td>\n",
              "      <td>192</td>\n",
              "      <td>75.791169</td>\n",
              "      <td>75.784219</td>\n",
              "    </tr>\n",
              "    <tr>\n",
              "      <th>2</th>\n",
              "      <td>1</td>\n",
              "      <td>256</td>\n",
              "      <td>75.791169</td>\n",
              "      <td>75.784219</td>\n",
              "    </tr>\n",
              "    <tr>\n",
              "      <th>3</th>\n",
              "      <td>1</td>\n",
              "      <td>512</td>\n",
              "      <td>75.791169</td>\n",
              "      <td>75.784219</td>\n",
              "    </tr>\n",
              "    <tr>\n",
              "      <th>4</th>\n",
              "      <td>2</td>\n",
              "      <td>128</td>\n",
              "      <td>75.791169</td>\n",
              "      <td>75.784219</td>\n",
              "    </tr>\n",
              "  </tbody>\n",
              "</table>\n",
              "</div>\n",
              "      <button class=\"colab-df-convert\" onclick=\"convertToInteractive('df-d7bc58ea-3e51-459b-a6e9-37b8fe0dc8dd')\"\n",
              "              title=\"Convert this dataframe to an interactive table.\"\n",
              "              style=\"display:none;\">\n",
              "        \n",
              "  <svg xmlns=\"http://www.w3.org/2000/svg\" height=\"24px\"viewBox=\"0 0 24 24\"\n",
              "       width=\"24px\">\n",
              "    <path d=\"M0 0h24v24H0V0z\" fill=\"none\"/>\n",
              "    <path d=\"M18.56 5.44l.94 2.06.94-2.06 2.06-.94-2.06-.94-.94-2.06-.94 2.06-2.06.94zm-11 1L8.5 8.5l.94-2.06 2.06-.94-2.06-.94L8.5 2.5l-.94 2.06-2.06.94zm10 10l.94 2.06.94-2.06 2.06-.94-2.06-.94-.94-2.06-.94 2.06-2.06.94z\"/><path d=\"M17.41 7.96l-1.37-1.37c-.4-.4-.92-.59-1.43-.59-.52 0-1.04.2-1.43.59L10.3 9.45l-7.72 7.72c-.78.78-.78 2.05 0 2.83L4 21.41c.39.39.9.59 1.41.59.51 0 1.02-.2 1.41-.59l7.78-7.78 2.81-2.81c.8-.78.8-2.07 0-2.86zM5.41 20L4 18.59l7.72-7.72 1.47 1.35L5.41 20z\"/>\n",
              "  </svg>\n",
              "      </button>\n",
              "      \n",
              "  <style>\n",
              "    .colab-df-container {\n",
              "      display:flex;\n",
              "      flex-wrap:wrap;\n",
              "      gap: 12px;\n",
              "    }\n",
              "\n",
              "    .colab-df-convert {\n",
              "      background-color: #E8F0FE;\n",
              "      border: none;\n",
              "      border-radius: 50%;\n",
              "      cursor: pointer;\n",
              "      display: none;\n",
              "      fill: #1967D2;\n",
              "      height: 32px;\n",
              "      padding: 0 0 0 0;\n",
              "      width: 32px;\n",
              "    }\n",
              "\n",
              "    .colab-df-convert:hover {\n",
              "      background-color: #E2EBFA;\n",
              "      box-shadow: 0px 1px 2px rgba(60, 64, 67, 0.3), 0px 1px 3px 1px rgba(60, 64, 67, 0.15);\n",
              "      fill: #174EA6;\n",
              "    }\n",
              "\n",
              "    [theme=dark] .colab-df-convert {\n",
              "      background-color: #3B4455;\n",
              "      fill: #D2E3FC;\n",
              "    }\n",
              "\n",
              "    [theme=dark] .colab-df-convert:hover {\n",
              "      background-color: #434B5C;\n",
              "      box-shadow: 0px 1px 3px 1px rgba(0, 0, 0, 0.15);\n",
              "      filter: drop-shadow(0px 1px 2px rgba(0, 0, 0, 0.3));\n",
              "      fill: #FFFFFF;\n",
              "    }\n",
              "  </style>\n",
              "\n",
              "      <script>\n",
              "        const buttonEl =\n",
              "          document.querySelector('#df-d7bc58ea-3e51-459b-a6e9-37b8fe0dc8dd button.colab-df-convert');\n",
              "        buttonEl.style.display =\n",
              "          google.colab.kernel.accessAllowed ? 'block' : 'none';\n",
              "\n",
              "        async function convertToInteractive(key) {\n",
              "          const element = document.querySelector('#df-d7bc58ea-3e51-459b-a6e9-37b8fe0dc8dd');\n",
              "          const dataTable =\n",
              "            await google.colab.kernel.invokeFunction('convertToInteractive',\n",
              "                                                     [key], {});\n",
              "          if (!dataTable) return;\n",
              "\n",
              "          const docLinkHtml = 'Like what you see? Visit the ' +\n",
              "            '<a target=\"_blank\" href=https://colab.research.google.com/notebooks/data_table.ipynb>data table notebook</a>'\n",
              "            + ' to learn more about interactive tables.';\n",
              "          element.innerHTML = '';\n",
              "          dataTable['output_type'] = 'display_data';\n",
              "          await google.colab.output.renderOutput(dataTable, element);\n",
              "          const docLink = document.createElement('div');\n",
              "          docLink.innerHTML = docLinkHtml;\n",
              "          element.appendChild(docLink);\n",
              "        }\n",
              "      </script>\n",
              "    </div>\n",
              "  </div>\n",
              "  "
            ]
          },
          "metadata": {},
          "execution_count": 138
        }
      ]
    },
    {
      "cell_type": "code",
      "source": [
        "corr = resultados.corr()\n",
        "corr"
      ],
      "metadata": {
        "colab": {
          "base_uri": "https://localhost:8080/",
          "height": 175
        },
        "id": "4lCEoJ_c3v-l",
        "outputId": "7fa7ae09-9f28-467c-b0de-0271ce407a0d"
      },
      "execution_count": 140,
      "outputs": [
        {
          "output_type": "execute_result",
          "data": {
            "text/plain": [
              "                     max_depth  min_samples_leaf     train      test\n",
              "max_depth         1.000000e+00      6.863211e-17  0.354588  0.240852\n",
              "min_samples_leaf  6.863211e-17      1.000000e+00 -0.637649 -0.440661\n",
              "train             3.545878e-01     -6.376494e-01  1.000000  0.909222\n",
              "test              2.408525e-01     -4.406611e-01  0.909222  1.000000"
            ],
            "text/html": [
              "\n",
              "  <div id=\"df-bd65cd03-fa9e-4480-a21c-41e4fc72072e\">\n",
              "    <div class=\"colab-df-container\">\n",
              "      <div>\n",
              "<style scoped>\n",
              "    .dataframe tbody tr th:only-of-type {\n",
              "        vertical-align: middle;\n",
              "    }\n",
              "\n",
              "    .dataframe tbody tr th {\n",
              "        vertical-align: top;\n",
              "    }\n",
              "\n",
              "    .dataframe thead th {\n",
              "        text-align: right;\n",
              "    }\n",
              "</style>\n",
              "<table border=\"1\" class=\"dataframe\">\n",
              "  <thead>\n",
              "    <tr style=\"text-align: right;\">\n",
              "      <th></th>\n",
              "      <th>max_depth</th>\n",
              "      <th>min_samples_leaf</th>\n",
              "      <th>train</th>\n",
              "      <th>test</th>\n",
              "    </tr>\n",
              "  </thead>\n",
              "  <tbody>\n",
              "    <tr>\n",
              "      <th>max_depth</th>\n",
              "      <td>1.000000e+00</td>\n",
              "      <td>6.863211e-17</td>\n",
              "      <td>0.354588</td>\n",
              "      <td>0.240852</td>\n",
              "    </tr>\n",
              "    <tr>\n",
              "      <th>min_samples_leaf</th>\n",
              "      <td>6.863211e-17</td>\n",
              "      <td>1.000000e+00</td>\n",
              "      <td>-0.637649</td>\n",
              "      <td>-0.440661</td>\n",
              "    </tr>\n",
              "    <tr>\n",
              "      <th>train</th>\n",
              "      <td>3.545878e-01</td>\n",
              "      <td>-6.376494e-01</td>\n",
              "      <td>1.000000</td>\n",
              "      <td>0.909222</td>\n",
              "    </tr>\n",
              "    <tr>\n",
              "      <th>test</th>\n",
              "      <td>2.408525e-01</td>\n",
              "      <td>-4.406611e-01</td>\n",
              "      <td>0.909222</td>\n",
              "      <td>1.000000</td>\n",
              "    </tr>\n",
              "  </tbody>\n",
              "</table>\n",
              "</div>\n",
              "      <button class=\"colab-df-convert\" onclick=\"convertToInteractive('df-bd65cd03-fa9e-4480-a21c-41e4fc72072e')\"\n",
              "              title=\"Convert this dataframe to an interactive table.\"\n",
              "              style=\"display:none;\">\n",
              "        \n",
              "  <svg xmlns=\"http://www.w3.org/2000/svg\" height=\"24px\"viewBox=\"0 0 24 24\"\n",
              "       width=\"24px\">\n",
              "    <path d=\"M0 0h24v24H0V0z\" fill=\"none\"/>\n",
              "    <path d=\"M18.56 5.44l.94 2.06.94-2.06 2.06-.94-2.06-.94-.94-2.06-.94 2.06-2.06.94zm-11 1L8.5 8.5l.94-2.06 2.06-.94-2.06-.94L8.5 2.5l-.94 2.06-2.06.94zm10 10l.94 2.06.94-2.06 2.06-.94-2.06-.94-.94-2.06-.94 2.06-2.06.94z\"/><path d=\"M17.41 7.96l-1.37-1.37c-.4-.4-.92-.59-1.43-.59-.52 0-1.04.2-1.43.59L10.3 9.45l-7.72 7.72c-.78.78-.78 2.05 0 2.83L4 21.41c.39.39.9.59 1.41.59.51 0 1.02-.2 1.41-.59l7.78-7.78 2.81-2.81c.8-.78.8-2.07 0-2.86zM5.41 20L4 18.59l7.72-7.72 1.47 1.35L5.41 20z\"/>\n",
              "  </svg>\n",
              "      </button>\n",
              "      \n",
              "  <style>\n",
              "    .colab-df-container {\n",
              "      display:flex;\n",
              "      flex-wrap:wrap;\n",
              "      gap: 12px;\n",
              "    }\n",
              "\n",
              "    .colab-df-convert {\n",
              "      background-color: #E8F0FE;\n",
              "      border: none;\n",
              "      border-radius: 50%;\n",
              "      cursor: pointer;\n",
              "      display: none;\n",
              "      fill: #1967D2;\n",
              "      height: 32px;\n",
              "      padding: 0 0 0 0;\n",
              "      width: 32px;\n",
              "    }\n",
              "\n",
              "    .colab-df-convert:hover {\n",
              "      background-color: #E2EBFA;\n",
              "      box-shadow: 0px 1px 2px rgba(60, 64, 67, 0.3), 0px 1px 3px 1px rgba(60, 64, 67, 0.15);\n",
              "      fill: #174EA6;\n",
              "    }\n",
              "\n",
              "    [theme=dark] .colab-df-convert {\n",
              "      background-color: #3B4455;\n",
              "      fill: #D2E3FC;\n",
              "    }\n",
              "\n",
              "    [theme=dark] .colab-df-convert:hover {\n",
              "      background-color: #434B5C;\n",
              "      box-shadow: 0px 1px 3px 1px rgba(0, 0, 0, 0.15);\n",
              "      filter: drop-shadow(0px 1px 2px rgba(0, 0, 0, 0.3));\n",
              "      fill: #FFFFFF;\n",
              "    }\n",
              "  </style>\n",
              "\n",
              "      <script>\n",
              "        const buttonEl =\n",
              "          document.querySelector('#df-bd65cd03-fa9e-4480-a21c-41e4fc72072e button.colab-df-convert');\n",
              "        buttonEl.style.display =\n",
              "          google.colab.kernel.accessAllowed ? 'block' : 'none';\n",
              "\n",
              "        async function convertToInteractive(key) {\n",
              "          const element = document.querySelector('#df-bd65cd03-fa9e-4480-a21c-41e4fc72072e');\n",
              "          const dataTable =\n",
              "            await google.colab.kernel.invokeFunction('convertToInteractive',\n",
              "                                                     [key], {});\n",
              "          if (!dataTable) return;\n",
              "\n",
              "          const docLinkHtml = 'Like what you see? Visit the ' +\n",
              "            '<a target=\"_blank\" href=https://colab.research.google.com/notebooks/data_table.ipynb>data table notebook</a>'\n",
              "            + ' to learn more about interactive tables.';\n",
              "          element.innerHTML = '';\n",
              "          dataTable['output_type'] = 'display_data';\n",
              "          await google.colab.output.renderOutput(dataTable, element);\n",
              "          const docLink = document.createElement('div');\n",
              "          docLink.innerHTML = docLinkHtml;\n",
              "          element.appendChild(docLink);\n",
              "        }\n",
              "      </script>\n",
              "    </div>\n",
              "  </div>\n",
              "  "
            ]
          },
          "metadata": {},
          "execution_count": 140
        }
      ]
    },
    {
      "cell_type": "markdown",
      "source": [
        "See now we have max_depth=3 as an important result"
      ],
      "metadata": {
        "id": "fV8eMJU_32fN"
      }
    },
    {
      "cell_type": "code",
      "source": [
        "resultados.sort_values(\"test\", ascending=False).head()"
      ],
      "metadata": {
        "colab": {
          "base_uri": "https://localhost:8080/",
          "height": 206
        },
        "id": "7pBoHrLJ30_W",
        "outputId": "b7ef8c25-fff7-4c3e-b874-f95b65584bde"
      },
      "execution_count": 141,
      "outputs": [
        {
          "output_type": "execute_result",
          "data": {
            "text/plain": [
              "    max_depth  min_samples_leaf      train       test\n",
              "13          4               192  78.750993  78.672633\n",
              "8           3               128  78.750993  78.672633\n",
              "9           3               192  78.750993  78.672633\n",
              "10          3               256  78.750993  78.672633\n",
              "14          4               256  78.750993  78.672633"
            ],
            "text/html": [
              "\n",
              "  <div id=\"df-40f35f0e-12ac-404a-b281-5daed2d8a4aa\">\n",
              "    <div class=\"colab-df-container\">\n",
              "      <div>\n",
              "<style scoped>\n",
              "    .dataframe tbody tr th:only-of-type {\n",
              "        vertical-align: middle;\n",
              "    }\n",
              "\n",
              "    .dataframe tbody tr th {\n",
              "        vertical-align: top;\n",
              "    }\n",
              "\n",
              "    .dataframe thead th {\n",
              "        text-align: right;\n",
              "    }\n",
              "</style>\n",
              "<table border=\"1\" class=\"dataframe\">\n",
              "  <thead>\n",
              "    <tr style=\"text-align: right;\">\n",
              "      <th></th>\n",
              "      <th>max_depth</th>\n",
              "      <th>min_samples_leaf</th>\n",
              "      <th>train</th>\n",
              "      <th>test</th>\n",
              "    </tr>\n",
              "  </thead>\n",
              "  <tbody>\n",
              "    <tr>\n",
              "      <th>13</th>\n",
              "      <td>4</td>\n",
              "      <td>192</td>\n",
              "      <td>78.750993</td>\n",
              "      <td>78.672633</td>\n",
              "    </tr>\n",
              "    <tr>\n",
              "      <th>8</th>\n",
              "      <td>3</td>\n",
              "      <td>128</td>\n",
              "      <td>78.750993</td>\n",
              "      <td>78.672633</td>\n",
              "    </tr>\n",
              "    <tr>\n",
              "      <th>9</th>\n",
              "      <td>3</td>\n",
              "      <td>192</td>\n",
              "      <td>78.750993</td>\n",
              "      <td>78.672633</td>\n",
              "    </tr>\n",
              "    <tr>\n",
              "      <th>10</th>\n",
              "      <td>3</td>\n",
              "      <td>256</td>\n",
              "      <td>78.750993</td>\n",
              "      <td>78.672633</td>\n",
              "    </tr>\n",
              "    <tr>\n",
              "      <th>14</th>\n",
              "      <td>4</td>\n",
              "      <td>256</td>\n",
              "      <td>78.750993</td>\n",
              "      <td>78.672633</td>\n",
              "    </tr>\n",
              "  </tbody>\n",
              "</table>\n",
              "</div>\n",
              "      <button class=\"colab-df-convert\" onclick=\"convertToInteractive('df-40f35f0e-12ac-404a-b281-5daed2d8a4aa')\"\n",
              "              title=\"Convert this dataframe to an interactive table.\"\n",
              "              style=\"display:none;\">\n",
              "        \n",
              "  <svg xmlns=\"http://www.w3.org/2000/svg\" height=\"24px\"viewBox=\"0 0 24 24\"\n",
              "       width=\"24px\">\n",
              "    <path d=\"M0 0h24v24H0V0z\" fill=\"none\"/>\n",
              "    <path d=\"M18.56 5.44l.94 2.06.94-2.06 2.06-.94-2.06-.94-.94-2.06-.94 2.06-2.06.94zm-11 1L8.5 8.5l.94-2.06 2.06-.94-2.06-.94L8.5 2.5l-.94 2.06-2.06.94zm10 10l.94 2.06.94-2.06 2.06-.94-2.06-.94-.94-2.06-.94 2.06-2.06.94z\"/><path d=\"M17.41 7.96l-1.37-1.37c-.4-.4-.92-.59-1.43-.59-.52 0-1.04.2-1.43.59L10.3 9.45l-7.72 7.72c-.78.78-.78 2.05 0 2.83L4 21.41c.39.39.9.59 1.41.59.51 0 1.02-.2 1.41-.59l7.78-7.78 2.81-2.81c.8-.78.8-2.07 0-2.86zM5.41 20L4 18.59l7.72-7.72 1.47 1.35L5.41 20z\"/>\n",
              "  </svg>\n",
              "      </button>\n",
              "      \n",
              "  <style>\n",
              "    .colab-df-container {\n",
              "      display:flex;\n",
              "      flex-wrap:wrap;\n",
              "      gap: 12px;\n",
              "    }\n",
              "\n",
              "    .colab-df-convert {\n",
              "      background-color: #E8F0FE;\n",
              "      border: none;\n",
              "      border-radius: 50%;\n",
              "      cursor: pointer;\n",
              "      display: none;\n",
              "      fill: #1967D2;\n",
              "      height: 32px;\n",
              "      padding: 0 0 0 0;\n",
              "      width: 32px;\n",
              "    }\n",
              "\n",
              "    .colab-df-convert:hover {\n",
              "      background-color: #E2EBFA;\n",
              "      box-shadow: 0px 1px 2px rgba(60, 64, 67, 0.3), 0px 1px 3px 1px rgba(60, 64, 67, 0.15);\n",
              "      fill: #174EA6;\n",
              "    }\n",
              "\n",
              "    [theme=dark] .colab-df-convert {\n",
              "      background-color: #3B4455;\n",
              "      fill: #D2E3FC;\n",
              "    }\n",
              "\n",
              "    [theme=dark] .colab-df-convert:hover {\n",
              "      background-color: #434B5C;\n",
              "      box-shadow: 0px 1px 3px 1px rgba(0, 0, 0, 0.15);\n",
              "      filter: drop-shadow(0px 1px 2px rgba(0, 0, 0, 0.3));\n",
              "      fill: #FFFFFF;\n",
              "    }\n",
              "  </style>\n",
              "\n",
              "      <script>\n",
              "        const buttonEl =\n",
              "          document.querySelector('#df-40f35f0e-12ac-404a-b281-5daed2d8a4aa button.colab-df-convert');\n",
              "        buttonEl.style.display =\n",
              "          google.colab.kernel.accessAllowed ? 'block' : 'none';\n",
              "\n",
              "        async function convertToInteractive(key) {\n",
              "          const element = document.querySelector('#df-40f35f0e-12ac-404a-b281-5daed2d8a4aa');\n",
              "          const dataTable =\n",
              "            await google.colab.kernel.invokeFunction('convertToInteractive',\n",
              "                                                     [key], {});\n",
              "          if (!dataTable) return;\n",
              "\n",
              "          const docLinkHtml = 'Like what you see? Visit the ' +\n",
              "            '<a target=\"_blank\" href=https://colab.research.google.com/notebooks/data_table.ipynb>data table notebook</a>'\n",
              "            + ' to learn more about interactive tables.';\n",
              "          element.innerHTML = '';\n",
              "          dataTable['output_type'] = 'display_data';\n",
              "          await google.colab.output.renderOutput(dataTable, element);\n",
              "          const docLink = document.createElement('div');\n",
              "          docLink.innerHTML = docLinkHtml;\n",
              "          element.appendChild(docLink);\n",
              "        }\n",
              "      </script>\n",
              "    </div>\n",
              "  </div>\n",
              "  "
            ]
          },
          "metadata": {},
          "execution_count": 141
        }
      ]
    }
  ]
}