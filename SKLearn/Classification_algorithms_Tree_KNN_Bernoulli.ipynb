{
  "nbformat": 4,
  "nbformat_minor": 0,
  "metadata": {
    "colab": {
      "name": "Classification_algorithms_Tree_KNN_Bernoulli.ipynb",
      "provenance": [],
      "authorship_tag": "ABX9TyMK3+VLqV6kZmjHwvoAJj/B",
      "include_colab_link": true
    },
    "kernelspec": {
      "name": "python3",
      "display_name": "Python 3"
    },
    "language_info": {
      "name": "python"
    }
  },
  "cells": [
    {
      "cell_type": "markdown",
      "metadata": {
        "id": "view-in-github",
        "colab_type": "text"
      },
      "source": [
        "<a href=\"https://colab.research.google.com/github/MarceloPiemonteRibeiro/learning-Machine-learning/blob/main/SKLearn/Classification_algorithms_Tree_KNN_Bernoulli.ipynb\" target=\"_parent\"><img src=\"https://colab.research.google.com/assets/colab-badge.svg\" alt=\"Open In Colab\"/></a>"
      ]
    },
    {
      "cell_type": "markdown",
      "source": [
        "# Example with data from Kaggles"
      ],
      "metadata": {
        "id": "u3_YfxhCtacr"
      }
    },
    {
      "cell_type": "markdown",
      "source": [
        "Source of the codes: course [Alura](https://cursos.alura.com.br/course/introducao-a-machine-learning-com-classificacao)"
      ],
      "metadata": {
        "id": "0z2854C1teJi"
      }
    },
    {
      "cell_type": "markdown",
      "source": [
        "## Import libraries"
      ],
      "metadata": {
        "id": "y_qQHDVNrudr"
      }
    },
    {
      "cell_type": "code",
      "execution_count": 72,
      "metadata": {
        "id": "ERmTp6DSrpDv"
      },
      "outputs": [],
      "source": [
        "import pandas as pd\n",
        "import seaborn as sns\n",
        "import numpy as np"
      ]
    },
    {
      "cell_type": "code",
      "source": [
        "!pip install -U imbalanced-learn"
      ],
      "metadata": {
        "colab": {
          "base_uri": "https://localhost:8080/"
        },
        "id": "xv0XBspk1K3R",
        "outputId": "09e6e5c0-9fe1-4575-9a59-29cff6f97dff"
      },
      "execution_count": 51,
      "outputs": [
        {
          "output_type": "stream",
          "name": "stdout",
          "text": [
            "Looking in indexes: https://pypi.org/simple, https://us-python.pkg.dev/colab-wheels/public/simple/\n",
            "Requirement already satisfied: imbalanced-learn in /usr/local/lib/python3.7/dist-packages (0.9.0)\n",
            "Collecting imbalanced-learn\n",
            "  Using cached imbalanced_learn-0.9.1-py3-none-any.whl (199 kB)\n",
            "Requirement already satisfied: joblib>=1.0.0 in /usr/local/lib/python3.7/dist-packages (from imbalanced-learn) (1.1.0)\n",
            "Requirement already satisfied: threadpoolctl>=2.0.0 in /usr/local/lib/python3.7/dist-packages (from imbalanced-learn) (3.1.0)\n",
            "Requirement already satisfied: numpy>=1.14.6 in /usr/local/lib/python3.7/dist-packages (from imbalanced-learn) (1.21.6)\n",
            "Requirement already satisfied: scipy>=1.1.0 in /usr/local/lib/python3.7/dist-packages (from imbalanced-learn) (1.4.1)\n",
            "Requirement already satisfied: scikit-learn>=1.0.1 in /usr/local/lib/python3.7/dist-packages (from imbalanced-learn) (1.0.2)\n"
          ]
        }
      ]
    },
    {
      "cell_type": "markdown",
      "source": [
        "##Import, inspect and manipulate your data"
      ],
      "metadata": {
        "id": "eHnuS4sGr6jk"
      }
    },
    {
      "cell_type": "code",
      "source": [
        "url = 'https://raw.githubusercontent.com/alura-cursos/ML_Classificacao_por_tras_dos_panos/main/Dados/Customer-Churn.csv'\n",
        "dados = pd.read_csv(url)"
      ],
      "metadata": {
        "id": "5Piyhsl-sURR"
      },
      "execution_count": 52,
      "outputs": []
    },
    {
      "cell_type": "markdown",
      "source": [
        "Inspect data set"
      ],
      "metadata": {
        "id": "EGZxioiwtXWS"
      }
    },
    {
      "cell_type": "code",
      "source": [
        "dados.shape"
      ],
      "metadata": {
        "colab": {
          "base_uri": "https://localhost:8080/"
        },
        "id": "NCC_llqftUBk",
        "outputId": "c2b60ccb-ea08-431a-d96f-83f536edf5d0"
      },
      "execution_count": 53,
      "outputs": [
        {
          "output_type": "execute_result",
          "data": {
            "text/plain": [
              "(7043, 18)"
            ]
          },
          "metadata": {},
          "execution_count": 53
        }
      ]
    },
    {
      "cell_type": "code",
      "source": [
        "dados.head()"
      ],
      "metadata": {
        "colab": {
          "base_uri": "https://localhost:8080/",
          "height": 270
        },
        "id": "p2WOVM5StB0F",
        "outputId": "96fa8176-9256-4d3e-d0ca-ea07e9cde29c"
      },
      "execution_count": 54,
      "outputs": [
        {
          "output_type": "execute_result",
          "data": {
            "text/plain": [
              "   Maior65Anos Conjuge Dependentes  MesesDeContrato TelefoneFixo  \\\n",
              "0            0     Sim         Nao                1          Nao   \n",
              "1            0     Nao         Nao               34          Sim   \n",
              "2            0     Nao         Nao                2          Sim   \n",
              "3            0     Nao         Nao               45          Nao   \n",
              "4            0     Nao         Nao                2          Sim   \n",
              "\n",
              "  VariasLinhasTelefonicas ServicoDeInternet SegurancaOnline BackupOnline  \\\n",
              "0    SemServicoTelefonico               DSL             Nao          Sim   \n",
              "1                     Nao               DSL             Sim          Nao   \n",
              "2                     Nao               DSL             Sim          Sim   \n",
              "3    SemServicoTelefonico               DSL             Sim          Nao   \n",
              "4                     Nao       FibraOptica             Nao          Nao   \n",
              "\n",
              "  SeguroNoDispositivo SuporteTecnico TVaCabo StreamingDeFilmes TipoDeContrato  \\\n",
              "0                 Nao            Nao     Nao               Nao    Mensalmente   \n",
              "1                 Sim            Nao     Nao               Nao          UmAno   \n",
              "2                 Nao            Nao     Nao               Nao    Mensalmente   \n",
              "3                 Sim            Sim     Nao               Nao          UmAno   \n",
              "4                 Nao            Nao     Nao               Nao    Mensalmente   \n",
              "\n",
              "  PagamentoOnline FormaDePagamento  ContaMensal Churn  \n",
              "0             Sim    ChequeDigital        29.85   Nao  \n",
              "1             Nao      ChequePapel        56.95   Nao  \n",
              "2             Sim      ChequePapel        53.85   Sim  \n",
              "3             Nao    DebitoEmConta        42.30   Nao  \n",
              "4             Sim    ChequeDigital        70.70   Sim  "
            ],
            "text/html": [
              "\n",
              "  <div id=\"df-05429cdc-122e-4d87-9c7f-62b289adffd7\">\n",
              "    <div class=\"colab-df-container\">\n",
              "      <div>\n",
              "<style scoped>\n",
              "    .dataframe tbody tr th:only-of-type {\n",
              "        vertical-align: middle;\n",
              "    }\n",
              "\n",
              "    .dataframe tbody tr th {\n",
              "        vertical-align: top;\n",
              "    }\n",
              "\n",
              "    .dataframe thead th {\n",
              "        text-align: right;\n",
              "    }\n",
              "</style>\n",
              "<table border=\"1\" class=\"dataframe\">\n",
              "  <thead>\n",
              "    <tr style=\"text-align: right;\">\n",
              "      <th></th>\n",
              "      <th>Maior65Anos</th>\n",
              "      <th>Conjuge</th>\n",
              "      <th>Dependentes</th>\n",
              "      <th>MesesDeContrato</th>\n",
              "      <th>TelefoneFixo</th>\n",
              "      <th>VariasLinhasTelefonicas</th>\n",
              "      <th>ServicoDeInternet</th>\n",
              "      <th>SegurancaOnline</th>\n",
              "      <th>BackupOnline</th>\n",
              "      <th>SeguroNoDispositivo</th>\n",
              "      <th>SuporteTecnico</th>\n",
              "      <th>TVaCabo</th>\n",
              "      <th>StreamingDeFilmes</th>\n",
              "      <th>TipoDeContrato</th>\n",
              "      <th>PagamentoOnline</th>\n",
              "      <th>FormaDePagamento</th>\n",
              "      <th>ContaMensal</th>\n",
              "      <th>Churn</th>\n",
              "    </tr>\n",
              "  </thead>\n",
              "  <tbody>\n",
              "    <tr>\n",
              "      <th>0</th>\n",
              "      <td>0</td>\n",
              "      <td>Sim</td>\n",
              "      <td>Nao</td>\n",
              "      <td>1</td>\n",
              "      <td>Nao</td>\n",
              "      <td>SemServicoTelefonico</td>\n",
              "      <td>DSL</td>\n",
              "      <td>Nao</td>\n",
              "      <td>Sim</td>\n",
              "      <td>Nao</td>\n",
              "      <td>Nao</td>\n",
              "      <td>Nao</td>\n",
              "      <td>Nao</td>\n",
              "      <td>Mensalmente</td>\n",
              "      <td>Sim</td>\n",
              "      <td>ChequeDigital</td>\n",
              "      <td>29.85</td>\n",
              "      <td>Nao</td>\n",
              "    </tr>\n",
              "    <tr>\n",
              "      <th>1</th>\n",
              "      <td>0</td>\n",
              "      <td>Nao</td>\n",
              "      <td>Nao</td>\n",
              "      <td>34</td>\n",
              "      <td>Sim</td>\n",
              "      <td>Nao</td>\n",
              "      <td>DSL</td>\n",
              "      <td>Sim</td>\n",
              "      <td>Nao</td>\n",
              "      <td>Sim</td>\n",
              "      <td>Nao</td>\n",
              "      <td>Nao</td>\n",
              "      <td>Nao</td>\n",
              "      <td>UmAno</td>\n",
              "      <td>Nao</td>\n",
              "      <td>ChequePapel</td>\n",
              "      <td>56.95</td>\n",
              "      <td>Nao</td>\n",
              "    </tr>\n",
              "    <tr>\n",
              "      <th>2</th>\n",
              "      <td>0</td>\n",
              "      <td>Nao</td>\n",
              "      <td>Nao</td>\n",
              "      <td>2</td>\n",
              "      <td>Sim</td>\n",
              "      <td>Nao</td>\n",
              "      <td>DSL</td>\n",
              "      <td>Sim</td>\n",
              "      <td>Sim</td>\n",
              "      <td>Nao</td>\n",
              "      <td>Nao</td>\n",
              "      <td>Nao</td>\n",
              "      <td>Nao</td>\n",
              "      <td>Mensalmente</td>\n",
              "      <td>Sim</td>\n",
              "      <td>ChequePapel</td>\n",
              "      <td>53.85</td>\n",
              "      <td>Sim</td>\n",
              "    </tr>\n",
              "    <tr>\n",
              "      <th>3</th>\n",
              "      <td>0</td>\n",
              "      <td>Nao</td>\n",
              "      <td>Nao</td>\n",
              "      <td>45</td>\n",
              "      <td>Nao</td>\n",
              "      <td>SemServicoTelefonico</td>\n",
              "      <td>DSL</td>\n",
              "      <td>Sim</td>\n",
              "      <td>Nao</td>\n",
              "      <td>Sim</td>\n",
              "      <td>Sim</td>\n",
              "      <td>Nao</td>\n",
              "      <td>Nao</td>\n",
              "      <td>UmAno</td>\n",
              "      <td>Nao</td>\n",
              "      <td>DebitoEmConta</td>\n",
              "      <td>42.30</td>\n",
              "      <td>Nao</td>\n",
              "    </tr>\n",
              "    <tr>\n",
              "      <th>4</th>\n",
              "      <td>0</td>\n",
              "      <td>Nao</td>\n",
              "      <td>Nao</td>\n",
              "      <td>2</td>\n",
              "      <td>Sim</td>\n",
              "      <td>Nao</td>\n",
              "      <td>FibraOptica</td>\n",
              "      <td>Nao</td>\n",
              "      <td>Nao</td>\n",
              "      <td>Nao</td>\n",
              "      <td>Nao</td>\n",
              "      <td>Nao</td>\n",
              "      <td>Nao</td>\n",
              "      <td>Mensalmente</td>\n",
              "      <td>Sim</td>\n",
              "      <td>ChequeDigital</td>\n",
              "      <td>70.70</td>\n",
              "      <td>Sim</td>\n",
              "    </tr>\n",
              "  </tbody>\n",
              "</table>\n",
              "</div>\n",
              "      <button class=\"colab-df-convert\" onclick=\"convertToInteractive('df-05429cdc-122e-4d87-9c7f-62b289adffd7')\"\n",
              "              title=\"Convert this dataframe to an interactive table.\"\n",
              "              style=\"display:none;\">\n",
              "        \n",
              "  <svg xmlns=\"http://www.w3.org/2000/svg\" height=\"24px\"viewBox=\"0 0 24 24\"\n",
              "       width=\"24px\">\n",
              "    <path d=\"M0 0h24v24H0V0z\" fill=\"none\"/>\n",
              "    <path d=\"M18.56 5.44l.94 2.06.94-2.06 2.06-.94-2.06-.94-.94-2.06-.94 2.06-2.06.94zm-11 1L8.5 8.5l.94-2.06 2.06-.94-2.06-.94L8.5 2.5l-.94 2.06-2.06.94zm10 10l.94 2.06.94-2.06 2.06-.94-2.06-.94-.94-2.06-.94 2.06-2.06.94z\"/><path d=\"M17.41 7.96l-1.37-1.37c-.4-.4-.92-.59-1.43-.59-.52 0-1.04.2-1.43.59L10.3 9.45l-7.72 7.72c-.78.78-.78 2.05 0 2.83L4 21.41c.39.39.9.59 1.41.59.51 0 1.02-.2 1.41-.59l7.78-7.78 2.81-2.81c.8-.78.8-2.07 0-2.86zM5.41 20L4 18.59l7.72-7.72 1.47 1.35L5.41 20z\"/>\n",
              "  </svg>\n",
              "      </button>\n",
              "      \n",
              "  <style>\n",
              "    .colab-df-container {\n",
              "      display:flex;\n",
              "      flex-wrap:wrap;\n",
              "      gap: 12px;\n",
              "    }\n",
              "\n",
              "    .colab-df-convert {\n",
              "      background-color: #E8F0FE;\n",
              "      border: none;\n",
              "      border-radius: 50%;\n",
              "      cursor: pointer;\n",
              "      display: none;\n",
              "      fill: #1967D2;\n",
              "      height: 32px;\n",
              "      padding: 0 0 0 0;\n",
              "      width: 32px;\n",
              "    }\n",
              "\n",
              "    .colab-df-convert:hover {\n",
              "      background-color: #E2EBFA;\n",
              "      box-shadow: 0px 1px 2px rgba(60, 64, 67, 0.3), 0px 1px 3px 1px rgba(60, 64, 67, 0.15);\n",
              "      fill: #174EA6;\n",
              "    }\n",
              "\n",
              "    [theme=dark] .colab-df-convert {\n",
              "      background-color: #3B4455;\n",
              "      fill: #D2E3FC;\n",
              "    }\n",
              "\n",
              "    [theme=dark] .colab-df-convert:hover {\n",
              "      background-color: #434B5C;\n",
              "      box-shadow: 0px 1px 3px 1px rgba(0, 0, 0, 0.15);\n",
              "      filter: drop-shadow(0px 1px 2px rgba(0, 0, 0, 0.3));\n",
              "      fill: #FFFFFF;\n",
              "    }\n",
              "  </style>\n",
              "\n",
              "      <script>\n",
              "        const buttonEl =\n",
              "          document.querySelector('#df-05429cdc-122e-4d87-9c7f-62b289adffd7 button.colab-df-convert');\n",
              "        buttonEl.style.display =\n",
              "          google.colab.kernel.accessAllowed ? 'block' : 'none';\n",
              "\n",
              "        async function convertToInteractive(key) {\n",
              "          const element = document.querySelector('#df-05429cdc-122e-4d87-9c7f-62b289adffd7');\n",
              "          const dataTable =\n",
              "            await google.colab.kernel.invokeFunction('convertToInteractive',\n",
              "                                                     [key], {});\n",
              "          if (!dataTable) return;\n",
              "\n",
              "          const docLinkHtml = 'Like what you see? Visit the ' +\n",
              "            '<a target=\"_blank\" href=https://colab.research.google.com/notebooks/data_table.ipynb>data table notebook</a>'\n",
              "            + ' to learn more about interactive tables.';\n",
              "          element.innerHTML = '';\n",
              "          dataTable['output_type'] = 'display_data';\n",
              "          await google.colab.output.renderOutput(dataTable, element);\n",
              "          const docLink = document.createElement('div');\n",
              "          docLink.innerHTML = docLinkHtml;\n",
              "          element.appendChild(docLink);\n",
              "        }\n",
              "      </script>\n",
              "    </div>\n",
              "  </div>\n",
              "  "
            ]
          },
          "metadata": {},
          "execution_count": 54
        }
      ]
    },
    {
      "cell_type": "markdown",
      "source": [
        "Replace categorical variable to dummies 1/0"
      ],
      "metadata": {
        "id": "QW5Pb1J1u3av"
      }
    },
    {
      "cell_type": "markdown",
      "source": [
        "Manually"
      ],
      "metadata": {
        "id": "xq-wE6K0u8D5"
      }
    },
    {
      "cell_type": "code",
      "source": [
        "traducao_dic = {'Sim' : 1, 'Nao': 0}\n",
        "dadosmodificados = dados [['Conjuge', 'Dependentes', 'TelefoneFixo', 'PagamentoOnline', 'Churn']].replace(traducao_dic)\n",
        "dadosmodificados.head()"
      ],
      "metadata": {
        "colab": {
          "base_uri": "https://localhost:8080/",
          "height": 206
        },
        "id": "lpqjWDGyu-FY",
        "outputId": "9b7a3697-7b99-4073-dc61-2b5ef4d04f0f"
      },
      "execution_count": 55,
      "outputs": [
        {
          "output_type": "execute_result",
          "data": {
            "text/plain": [
              "   Conjuge  Dependentes  TelefoneFixo  PagamentoOnline  Churn\n",
              "0        1            0             0                1      0\n",
              "1        0            0             1                0      0\n",
              "2        0            0             1                1      1\n",
              "3        0            0             0                0      0\n",
              "4        0            0             1                1      1"
            ],
            "text/html": [
              "\n",
              "  <div id=\"df-89b72b23-9606-4f33-a2de-c57281014a48\">\n",
              "    <div class=\"colab-df-container\">\n",
              "      <div>\n",
              "<style scoped>\n",
              "    .dataframe tbody tr th:only-of-type {\n",
              "        vertical-align: middle;\n",
              "    }\n",
              "\n",
              "    .dataframe tbody tr th {\n",
              "        vertical-align: top;\n",
              "    }\n",
              "\n",
              "    .dataframe thead th {\n",
              "        text-align: right;\n",
              "    }\n",
              "</style>\n",
              "<table border=\"1\" class=\"dataframe\">\n",
              "  <thead>\n",
              "    <tr style=\"text-align: right;\">\n",
              "      <th></th>\n",
              "      <th>Conjuge</th>\n",
              "      <th>Dependentes</th>\n",
              "      <th>TelefoneFixo</th>\n",
              "      <th>PagamentoOnline</th>\n",
              "      <th>Churn</th>\n",
              "    </tr>\n",
              "  </thead>\n",
              "  <tbody>\n",
              "    <tr>\n",
              "      <th>0</th>\n",
              "      <td>1</td>\n",
              "      <td>0</td>\n",
              "      <td>0</td>\n",
              "      <td>1</td>\n",
              "      <td>0</td>\n",
              "    </tr>\n",
              "    <tr>\n",
              "      <th>1</th>\n",
              "      <td>0</td>\n",
              "      <td>0</td>\n",
              "      <td>1</td>\n",
              "      <td>0</td>\n",
              "      <td>0</td>\n",
              "    </tr>\n",
              "    <tr>\n",
              "      <th>2</th>\n",
              "      <td>0</td>\n",
              "      <td>0</td>\n",
              "      <td>1</td>\n",
              "      <td>1</td>\n",
              "      <td>1</td>\n",
              "    </tr>\n",
              "    <tr>\n",
              "      <th>3</th>\n",
              "      <td>0</td>\n",
              "      <td>0</td>\n",
              "      <td>0</td>\n",
              "      <td>0</td>\n",
              "      <td>0</td>\n",
              "    </tr>\n",
              "    <tr>\n",
              "      <th>4</th>\n",
              "      <td>0</td>\n",
              "      <td>0</td>\n",
              "      <td>1</td>\n",
              "      <td>1</td>\n",
              "      <td>1</td>\n",
              "    </tr>\n",
              "  </tbody>\n",
              "</table>\n",
              "</div>\n",
              "      <button class=\"colab-df-convert\" onclick=\"convertToInteractive('df-89b72b23-9606-4f33-a2de-c57281014a48')\"\n",
              "              title=\"Convert this dataframe to an interactive table.\"\n",
              "              style=\"display:none;\">\n",
              "        \n",
              "  <svg xmlns=\"http://www.w3.org/2000/svg\" height=\"24px\"viewBox=\"0 0 24 24\"\n",
              "       width=\"24px\">\n",
              "    <path d=\"M0 0h24v24H0V0z\" fill=\"none\"/>\n",
              "    <path d=\"M18.56 5.44l.94 2.06.94-2.06 2.06-.94-2.06-.94-.94-2.06-.94 2.06-2.06.94zm-11 1L8.5 8.5l.94-2.06 2.06-.94-2.06-.94L8.5 2.5l-.94 2.06-2.06.94zm10 10l.94 2.06.94-2.06 2.06-.94-2.06-.94-.94-2.06-.94 2.06-2.06.94z\"/><path d=\"M17.41 7.96l-1.37-1.37c-.4-.4-.92-.59-1.43-.59-.52 0-1.04.2-1.43.59L10.3 9.45l-7.72 7.72c-.78.78-.78 2.05 0 2.83L4 21.41c.39.39.9.59 1.41.59.51 0 1.02-.2 1.41-.59l7.78-7.78 2.81-2.81c.8-.78.8-2.07 0-2.86zM5.41 20L4 18.59l7.72-7.72 1.47 1.35L5.41 20z\"/>\n",
              "  </svg>\n",
              "      </button>\n",
              "      \n",
              "  <style>\n",
              "    .colab-df-container {\n",
              "      display:flex;\n",
              "      flex-wrap:wrap;\n",
              "      gap: 12px;\n",
              "    }\n",
              "\n",
              "    .colab-df-convert {\n",
              "      background-color: #E8F0FE;\n",
              "      border: none;\n",
              "      border-radius: 50%;\n",
              "      cursor: pointer;\n",
              "      display: none;\n",
              "      fill: #1967D2;\n",
              "      height: 32px;\n",
              "      padding: 0 0 0 0;\n",
              "      width: 32px;\n",
              "    }\n",
              "\n",
              "    .colab-df-convert:hover {\n",
              "      background-color: #E2EBFA;\n",
              "      box-shadow: 0px 1px 2px rgba(60, 64, 67, 0.3), 0px 1px 3px 1px rgba(60, 64, 67, 0.15);\n",
              "      fill: #174EA6;\n",
              "    }\n",
              "\n",
              "    [theme=dark] .colab-df-convert {\n",
              "      background-color: #3B4455;\n",
              "      fill: #D2E3FC;\n",
              "    }\n",
              "\n",
              "    [theme=dark] .colab-df-convert:hover {\n",
              "      background-color: #434B5C;\n",
              "      box-shadow: 0px 1px 3px 1px rgba(0, 0, 0, 0.15);\n",
              "      filter: drop-shadow(0px 1px 2px rgba(0, 0, 0, 0.3));\n",
              "      fill: #FFFFFF;\n",
              "    }\n",
              "  </style>\n",
              "\n",
              "      <script>\n",
              "        const buttonEl =\n",
              "          document.querySelector('#df-89b72b23-9606-4f33-a2de-c57281014a48 button.colab-df-convert');\n",
              "        buttonEl.style.display =\n",
              "          google.colab.kernel.accessAllowed ? 'block' : 'none';\n",
              "\n",
              "        async function convertToInteractive(key) {\n",
              "          const element = document.querySelector('#df-89b72b23-9606-4f33-a2de-c57281014a48');\n",
              "          const dataTable =\n",
              "            await google.colab.kernel.invokeFunction('convertToInteractive',\n",
              "                                                     [key], {});\n",
              "          if (!dataTable) return;\n",
              "\n",
              "          const docLinkHtml = 'Like what you see? Visit the ' +\n",
              "            '<a target=\"_blank\" href=https://colab.research.google.com/notebooks/data_table.ipynb>data table notebook</a>'\n",
              "            + ' to learn more about interactive tables.';\n",
              "          element.innerHTML = '';\n",
              "          dataTable['output_type'] = 'display_data';\n",
              "          await google.colab.output.renderOutput(dataTable, element);\n",
              "          const docLink = document.createElement('div');\n",
              "          docLink.innerHTML = docLinkHtml;\n",
              "          element.appendChild(docLink);\n",
              "        }\n",
              "      </script>\n",
              "    </div>\n",
              "  </div>\n",
              "  "
            ]
          },
          "metadata": {},
          "execution_count": 55
        }
      ]
    },
    {
      "cell_type": "markdown",
      "source": [
        "Automatically using get_dummies function so categorical variables other than Yes and No are accounted for"
      ],
      "metadata": {
        "id": "ico9OEkRvzDw"
      }
    },
    {
      "cell_type": "code",
      "source": [
        "dummie_dados = pd.get_dummies(dados.drop(['Conjuge', 'Dependentes', 'TelefoneFixo', 'PagamentoOnline', 'Churn'],\n",
        "                                         axis=1)) # this excludes columns already changed before, axis represent columns (0 stands for rows)\n",
        "\n",
        "dados_final = pd.concat([dadosmodificados, dummie_dados], axis=1)\n",
        "dados_final.head() # all categorical variables are now dummies"
      ],
      "metadata": {
        "colab": {
          "base_uri": "https://localhost:8080/",
          "height": 270
        },
        "id": "SwiKny3Kv19s",
        "outputId": "24a62e1f-33e2-4c5b-b88d-a472523de09d"
      },
      "execution_count": 56,
      "outputs": [
        {
          "output_type": "execute_result",
          "data": {
            "text/plain": [
              "   Conjuge  Dependentes  TelefoneFixo  PagamentoOnline  Churn  Maior65Anos  \\\n",
              "0        1            0             0                1      0            0   \n",
              "1        0            0             1                0      0            0   \n",
              "2        0            0             1                1      1            0   \n",
              "3        0            0             0                0      0            0   \n",
              "4        0            0             1                1      1            0   \n",
              "\n",
              "   MesesDeContrato  ContaMensal  VariasLinhasTelefonicas_Nao  \\\n",
              "0                1        29.85                            0   \n",
              "1               34        56.95                            1   \n",
              "2                2        53.85                            1   \n",
              "3               45        42.30                            0   \n",
              "4                2        70.70                            1   \n",
              "\n",
              "   VariasLinhasTelefonicas_SemServicoTelefonico  VariasLinhasTelefonicas_Sim  \\\n",
              "0                                             1                            0   \n",
              "1                                             0                            0   \n",
              "2                                             0                            0   \n",
              "3                                             1                            0   \n",
              "4                                             0                            0   \n",
              "\n",
              "   ServicoDeInternet_DSL  ServicoDeInternet_FibraOptica  \\\n",
              "0                      1                              0   \n",
              "1                      1                              0   \n",
              "2                      1                              0   \n",
              "3                      1                              0   \n",
              "4                      0                              1   \n",
              "\n",
              "   ServicoDeInternet_Nao  SegurancaOnline_Nao  \\\n",
              "0                      0                    1   \n",
              "1                      0                    0   \n",
              "2                      0                    0   \n",
              "3                      0                    0   \n",
              "4                      0                    1   \n",
              "\n",
              "   SegurancaOnline_SemServicoDeInternet  SegurancaOnline_Sim  \\\n",
              "0                                     0                    0   \n",
              "1                                     0                    1   \n",
              "2                                     0                    1   \n",
              "3                                     0                    1   \n",
              "4                                     0                    0   \n",
              "\n",
              "   BackupOnline_Nao  BackupOnline_SemServicoDeInternet  BackupOnline_Sim  \\\n",
              "0                 0                                  0                 1   \n",
              "1                 1                                  0                 0   \n",
              "2                 0                                  0                 1   \n",
              "3                 1                                  0                 0   \n",
              "4                 1                                  0                 0   \n",
              "\n",
              "   SeguroNoDispositivo_Nao  SeguroNoDispositivo_SemServicoDeInternet  \\\n",
              "0                        1                                         0   \n",
              "1                        0                                         0   \n",
              "2                        1                                         0   \n",
              "3                        0                                         0   \n",
              "4                        1                                         0   \n",
              "\n",
              "   SeguroNoDispositivo_Sim  SuporteTecnico_Nao  \\\n",
              "0                        0                   1   \n",
              "1                        1                   1   \n",
              "2                        0                   1   \n",
              "3                        1                   0   \n",
              "4                        0                   1   \n",
              "\n",
              "   SuporteTecnico_SemServicoDeInternet  SuporteTecnico_Sim  TVaCabo_Nao  \\\n",
              "0                                    0                   0            1   \n",
              "1                                    0                   0            1   \n",
              "2                                    0                   0            1   \n",
              "3                                    0                   1            1   \n",
              "4                                    0                   0            1   \n",
              "\n",
              "   TVaCabo_SemServicoDeInternet  TVaCabo_Sim  StreamingDeFilmes_Nao  \\\n",
              "0                             0            0                      1   \n",
              "1                             0            0                      1   \n",
              "2                             0            0                      1   \n",
              "3                             0            0                      1   \n",
              "4                             0            0                      1   \n",
              "\n",
              "   StreamingDeFilmes_SemServicoDeInternet  StreamingDeFilmes_Sim  \\\n",
              "0                                       0                      0   \n",
              "1                                       0                      0   \n",
              "2                                       0                      0   \n",
              "3                                       0                      0   \n",
              "4                                       0                      0   \n",
              "\n",
              "   TipoDeContrato_DoisAnos  TipoDeContrato_Mensalmente  TipoDeContrato_UmAno  \\\n",
              "0                        0                           1                     0   \n",
              "1                        0                           0                     1   \n",
              "2                        0                           1                     0   \n",
              "3                        0                           0                     1   \n",
              "4                        0                           1                     0   \n",
              "\n",
              "   FormaDePagamento_CartaoDeCredito  FormaDePagamento_ChequeDigital  \\\n",
              "0                                 0                               1   \n",
              "1                                 0                               0   \n",
              "2                                 0                               0   \n",
              "3                                 0                               0   \n",
              "4                                 0                               1   \n",
              "\n",
              "   FormaDePagamento_ChequePapel  FormaDePagamento_DebitoEmConta  \n",
              "0                             0                               0  \n",
              "1                             1                               0  \n",
              "2                             1                               0  \n",
              "3                             0                               1  \n",
              "4                             0                               0  "
            ],
            "text/html": [
              "\n",
              "  <div id=\"df-9d1c3aa9-ca38-490a-9370-2f4b01ab1860\">\n",
              "    <div class=\"colab-df-container\">\n",
              "      <div>\n",
              "<style scoped>\n",
              "    .dataframe tbody tr th:only-of-type {\n",
              "        vertical-align: middle;\n",
              "    }\n",
              "\n",
              "    .dataframe tbody tr th {\n",
              "        vertical-align: top;\n",
              "    }\n",
              "\n",
              "    .dataframe thead th {\n",
              "        text-align: right;\n",
              "    }\n",
              "</style>\n",
              "<table border=\"1\" class=\"dataframe\">\n",
              "  <thead>\n",
              "    <tr style=\"text-align: right;\">\n",
              "      <th></th>\n",
              "      <th>Conjuge</th>\n",
              "      <th>Dependentes</th>\n",
              "      <th>TelefoneFixo</th>\n",
              "      <th>PagamentoOnline</th>\n",
              "      <th>Churn</th>\n",
              "      <th>Maior65Anos</th>\n",
              "      <th>MesesDeContrato</th>\n",
              "      <th>ContaMensal</th>\n",
              "      <th>VariasLinhasTelefonicas_Nao</th>\n",
              "      <th>VariasLinhasTelefonicas_SemServicoTelefonico</th>\n",
              "      <th>VariasLinhasTelefonicas_Sim</th>\n",
              "      <th>ServicoDeInternet_DSL</th>\n",
              "      <th>ServicoDeInternet_FibraOptica</th>\n",
              "      <th>ServicoDeInternet_Nao</th>\n",
              "      <th>SegurancaOnline_Nao</th>\n",
              "      <th>SegurancaOnline_SemServicoDeInternet</th>\n",
              "      <th>SegurancaOnline_Sim</th>\n",
              "      <th>BackupOnline_Nao</th>\n",
              "      <th>BackupOnline_SemServicoDeInternet</th>\n",
              "      <th>BackupOnline_Sim</th>\n",
              "      <th>SeguroNoDispositivo_Nao</th>\n",
              "      <th>SeguroNoDispositivo_SemServicoDeInternet</th>\n",
              "      <th>SeguroNoDispositivo_Sim</th>\n",
              "      <th>SuporteTecnico_Nao</th>\n",
              "      <th>SuporteTecnico_SemServicoDeInternet</th>\n",
              "      <th>SuporteTecnico_Sim</th>\n",
              "      <th>TVaCabo_Nao</th>\n",
              "      <th>TVaCabo_SemServicoDeInternet</th>\n",
              "      <th>TVaCabo_Sim</th>\n",
              "      <th>StreamingDeFilmes_Nao</th>\n",
              "      <th>StreamingDeFilmes_SemServicoDeInternet</th>\n",
              "      <th>StreamingDeFilmes_Sim</th>\n",
              "      <th>TipoDeContrato_DoisAnos</th>\n",
              "      <th>TipoDeContrato_Mensalmente</th>\n",
              "      <th>TipoDeContrato_UmAno</th>\n",
              "      <th>FormaDePagamento_CartaoDeCredito</th>\n",
              "      <th>FormaDePagamento_ChequeDigital</th>\n",
              "      <th>FormaDePagamento_ChequePapel</th>\n",
              "      <th>FormaDePagamento_DebitoEmConta</th>\n",
              "    </tr>\n",
              "  </thead>\n",
              "  <tbody>\n",
              "    <tr>\n",
              "      <th>0</th>\n",
              "      <td>1</td>\n",
              "      <td>0</td>\n",
              "      <td>0</td>\n",
              "      <td>1</td>\n",
              "      <td>0</td>\n",
              "      <td>0</td>\n",
              "      <td>1</td>\n",
              "      <td>29.85</td>\n",
              "      <td>0</td>\n",
              "      <td>1</td>\n",
              "      <td>0</td>\n",
              "      <td>1</td>\n",
              "      <td>0</td>\n",
              "      <td>0</td>\n",
              "      <td>1</td>\n",
              "      <td>0</td>\n",
              "      <td>0</td>\n",
              "      <td>0</td>\n",
              "      <td>0</td>\n",
              "      <td>1</td>\n",
              "      <td>1</td>\n",
              "      <td>0</td>\n",
              "      <td>0</td>\n",
              "      <td>1</td>\n",
              "      <td>0</td>\n",
              "      <td>0</td>\n",
              "      <td>1</td>\n",
              "      <td>0</td>\n",
              "      <td>0</td>\n",
              "      <td>1</td>\n",
              "      <td>0</td>\n",
              "      <td>0</td>\n",
              "      <td>0</td>\n",
              "      <td>1</td>\n",
              "      <td>0</td>\n",
              "      <td>0</td>\n",
              "      <td>1</td>\n",
              "      <td>0</td>\n",
              "      <td>0</td>\n",
              "    </tr>\n",
              "    <tr>\n",
              "      <th>1</th>\n",
              "      <td>0</td>\n",
              "      <td>0</td>\n",
              "      <td>1</td>\n",
              "      <td>0</td>\n",
              "      <td>0</td>\n",
              "      <td>0</td>\n",
              "      <td>34</td>\n",
              "      <td>56.95</td>\n",
              "      <td>1</td>\n",
              "      <td>0</td>\n",
              "      <td>0</td>\n",
              "      <td>1</td>\n",
              "      <td>0</td>\n",
              "      <td>0</td>\n",
              "      <td>0</td>\n",
              "      <td>0</td>\n",
              "      <td>1</td>\n",
              "      <td>1</td>\n",
              "      <td>0</td>\n",
              "      <td>0</td>\n",
              "      <td>0</td>\n",
              "      <td>0</td>\n",
              "      <td>1</td>\n",
              "      <td>1</td>\n",
              "      <td>0</td>\n",
              "      <td>0</td>\n",
              "      <td>1</td>\n",
              "      <td>0</td>\n",
              "      <td>0</td>\n",
              "      <td>1</td>\n",
              "      <td>0</td>\n",
              "      <td>0</td>\n",
              "      <td>0</td>\n",
              "      <td>0</td>\n",
              "      <td>1</td>\n",
              "      <td>0</td>\n",
              "      <td>0</td>\n",
              "      <td>1</td>\n",
              "      <td>0</td>\n",
              "    </tr>\n",
              "    <tr>\n",
              "      <th>2</th>\n",
              "      <td>0</td>\n",
              "      <td>0</td>\n",
              "      <td>1</td>\n",
              "      <td>1</td>\n",
              "      <td>1</td>\n",
              "      <td>0</td>\n",
              "      <td>2</td>\n",
              "      <td>53.85</td>\n",
              "      <td>1</td>\n",
              "      <td>0</td>\n",
              "      <td>0</td>\n",
              "      <td>1</td>\n",
              "      <td>0</td>\n",
              "      <td>0</td>\n",
              "      <td>0</td>\n",
              "      <td>0</td>\n",
              "      <td>1</td>\n",
              "      <td>0</td>\n",
              "      <td>0</td>\n",
              "      <td>1</td>\n",
              "      <td>1</td>\n",
              "      <td>0</td>\n",
              "      <td>0</td>\n",
              "      <td>1</td>\n",
              "      <td>0</td>\n",
              "      <td>0</td>\n",
              "      <td>1</td>\n",
              "      <td>0</td>\n",
              "      <td>0</td>\n",
              "      <td>1</td>\n",
              "      <td>0</td>\n",
              "      <td>0</td>\n",
              "      <td>0</td>\n",
              "      <td>1</td>\n",
              "      <td>0</td>\n",
              "      <td>0</td>\n",
              "      <td>0</td>\n",
              "      <td>1</td>\n",
              "      <td>0</td>\n",
              "    </tr>\n",
              "    <tr>\n",
              "      <th>3</th>\n",
              "      <td>0</td>\n",
              "      <td>0</td>\n",
              "      <td>0</td>\n",
              "      <td>0</td>\n",
              "      <td>0</td>\n",
              "      <td>0</td>\n",
              "      <td>45</td>\n",
              "      <td>42.30</td>\n",
              "      <td>0</td>\n",
              "      <td>1</td>\n",
              "      <td>0</td>\n",
              "      <td>1</td>\n",
              "      <td>0</td>\n",
              "      <td>0</td>\n",
              "      <td>0</td>\n",
              "      <td>0</td>\n",
              "      <td>1</td>\n",
              "      <td>1</td>\n",
              "      <td>0</td>\n",
              "      <td>0</td>\n",
              "      <td>0</td>\n",
              "      <td>0</td>\n",
              "      <td>1</td>\n",
              "      <td>0</td>\n",
              "      <td>0</td>\n",
              "      <td>1</td>\n",
              "      <td>1</td>\n",
              "      <td>0</td>\n",
              "      <td>0</td>\n",
              "      <td>1</td>\n",
              "      <td>0</td>\n",
              "      <td>0</td>\n",
              "      <td>0</td>\n",
              "      <td>0</td>\n",
              "      <td>1</td>\n",
              "      <td>0</td>\n",
              "      <td>0</td>\n",
              "      <td>0</td>\n",
              "      <td>1</td>\n",
              "    </tr>\n",
              "    <tr>\n",
              "      <th>4</th>\n",
              "      <td>0</td>\n",
              "      <td>0</td>\n",
              "      <td>1</td>\n",
              "      <td>1</td>\n",
              "      <td>1</td>\n",
              "      <td>0</td>\n",
              "      <td>2</td>\n",
              "      <td>70.70</td>\n",
              "      <td>1</td>\n",
              "      <td>0</td>\n",
              "      <td>0</td>\n",
              "      <td>0</td>\n",
              "      <td>1</td>\n",
              "      <td>0</td>\n",
              "      <td>1</td>\n",
              "      <td>0</td>\n",
              "      <td>0</td>\n",
              "      <td>1</td>\n",
              "      <td>0</td>\n",
              "      <td>0</td>\n",
              "      <td>1</td>\n",
              "      <td>0</td>\n",
              "      <td>0</td>\n",
              "      <td>1</td>\n",
              "      <td>0</td>\n",
              "      <td>0</td>\n",
              "      <td>1</td>\n",
              "      <td>0</td>\n",
              "      <td>0</td>\n",
              "      <td>1</td>\n",
              "      <td>0</td>\n",
              "      <td>0</td>\n",
              "      <td>0</td>\n",
              "      <td>1</td>\n",
              "      <td>0</td>\n",
              "      <td>0</td>\n",
              "      <td>1</td>\n",
              "      <td>0</td>\n",
              "      <td>0</td>\n",
              "    </tr>\n",
              "  </tbody>\n",
              "</table>\n",
              "</div>\n",
              "      <button class=\"colab-df-convert\" onclick=\"convertToInteractive('df-9d1c3aa9-ca38-490a-9370-2f4b01ab1860')\"\n",
              "              title=\"Convert this dataframe to an interactive table.\"\n",
              "              style=\"display:none;\">\n",
              "        \n",
              "  <svg xmlns=\"http://www.w3.org/2000/svg\" height=\"24px\"viewBox=\"0 0 24 24\"\n",
              "       width=\"24px\">\n",
              "    <path d=\"M0 0h24v24H0V0z\" fill=\"none\"/>\n",
              "    <path d=\"M18.56 5.44l.94 2.06.94-2.06 2.06-.94-2.06-.94-.94-2.06-.94 2.06-2.06.94zm-11 1L8.5 8.5l.94-2.06 2.06-.94-2.06-.94L8.5 2.5l-.94 2.06-2.06.94zm10 10l.94 2.06.94-2.06 2.06-.94-2.06-.94-.94-2.06-.94 2.06-2.06.94z\"/><path d=\"M17.41 7.96l-1.37-1.37c-.4-.4-.92-.59-1.43-.59-.52 0-1.04.2-1.43.59L10.3 9.45l-7.72 7.72c-.78.78-.78 2.05 0 2.83L4 21.41c.39.39.9.59 1.41.59.51 0 1.02-.2 1.41-.59l7.78-7.78 2.81-2.81c.8-.78.8-2.07 0-2.86zM5.41 20L4 18.59l7.72-7.72 1.47 1.35L5.41 20z\"/>\n",
              "  </svg>\n",
              "      </button>\n",
              "      \n",
              "  <style>\n",
              "    .colab-df-container {\n",
              "      display:flex;\n",
              "      flex-wrap:wrap;\n",
              "      gap: 12px;\n",
              "    }\n",
              "\n",
              "    .colab-df-convert {\n",
              "      background-color: #E8F0FE;\n",
              "      border: none;\n",
              "      border-radius: 50%;\n",
              "      cursor: pointer;\n",
              "      display: none;\n",
              "      fill: #1967D2;\n",
              "      height: 32px;\n",
              "      padding: 0 0 0 0;\n",
              "      width: 32px;\n",
              "    }\n",
              "\n",
              "    .colab-df-convert:hover {\n",
              "      background-color: #E2EBFA;\n",
              "      box-shadow: 0px 1px 2px rgba(60, 64, 67, 0.3), 0px 1px 3px 1px rgba(60, 64, 67, 0.15);\n",
              "      fill: #174EA6;\n",
              "    }\n",
              "\n",
              "    [theme=dark] .colab-df-convert {\n",
              "      background-color: #3B4455;\n",
              "      fill: #D2E3FC;\n",
              "    }\n",
              "\n",
              "    [theme=dark] .colab-df-convert:hover {\n",
              "      background-color: #434B5C;\n",
              "      box-shadow: 0px 1px 3px 1px rgba(0, 0, 0, 0.15);\n",
              "      filter: drop-shadow(0px 1px 2px rgba(0, 0, 0, 0.3));\n",
              "      fill: #FFFFFF;\n",
              "    }\n",
              "  </style>\n",
              "\n",
              "      <script>\n",
              "        const buttonEl =\n",
              "          document.querySelector('#df-9d1c3aa9-ca38-490a-9370-2f4b01ab1860 button.colab-df-convert');\n",
              "        buttonEl.style.display =\n",
              "          google.colab.kernel.accessAllowed ? 'block' : 'none';\n",
              "\n",
              "        async function convertToInteractive(key) {\n",
              "          const element = document.querySelector('#df-9d1c3aa9-ca38-490a-9370-2f4b01ab1860');\n",
              "          const dataTable =\n",
              "            await google.colab.kernel.invokeFunction('convertToInteractive',\n",
              "                                                     [key], {});\n",
              "          if (!dataTable) return;\n",
              "\n",
              "          const docLinkHtml = 'Like what you see? Visit the ' +\n",
              "            '<a target=\"_blank\" href=https://colab.research.google.com/notebooks/data_table.ipynb>data table notebook</a>'\n",
              "            + ' to learn more about interactive tables.';\n",
              "          element.innerHTML = '';\n",
              "          dataTable['output_type'] = 'display_data';\n",
              "          await google.colab.output.renderOutput(dataTable, element);\n",
              "          const docLink = document.createElement('div');\n",
              "          docLink.innerHTML = docLinkHtml;\n",
              "          element.appendChild(docLink);\n",
              "        }\n",
              "      </script>\n",
              "    </div>\n",
              "  </div>\n",
              "  "
            ]
          },
          "metadata": {},
          "execution_count": 56
        }
      ]
    },
    {
      "cell_type": "markdown",
      "source": [
        "See all columns (39 columns)"
      ],
      "metadata": {
        "id": "2GE-ye46x_84"
      }
    },
    {
      "cell_type": "code",
      "source": [
        "# pd.set_option('display.max_columns', 39)"
      ],
      "metadata": {
        "id": "3wVqBNjayDHE"
      },
      "execution_count": 57,
      "outputs": []
    },
    {
      "cell_type": "markdown",
      "source": [
        "Verify if the data is balanced"
      ],
      "metadata": {
        "id": "TkabsQWu0lbQ"
      }
    },
    {
      "cell_type": "code",
      "source": [
        "%matplotlib inline\n",
        "\n",
        "ax = sns.countplot(x='Churn', data=dados_final)"
      ],
      "metadata": {
        "colab": {
          "base_uri": "https://localhost:8080/",
          "height": 279
        },
        "id": "W7ovq8Lr0j1A",
        "outputId": "7dd52e3f-8da9-46fc-f70e-bd16a5b50684"
      },
      "execution_count": 58,
      "outputs": [
        {
          "output_type": "display_data",
          "data": {
            "text/plain": [
              "<Figure size 432x288 with 1 Axes>"
            ],
            "image/png": "[encoded data removed]"
          },
          "metadata": {
            "needs_background": "light"
          }
        }
      ]
    },
    {
      "cell_type": "markdown",
      "source": [
        "To balance it you need to do what is called Oversampling, which creates new obs to balance the categories. One of doing this is to use the technique SMOTE."
      ],
      "metadata": {
        "id": "usGuE2G80wWp"
      }
    },
    {
      "cell_type": "code",
      "source": [
        "# Para podermos aplicar o SMOTE, devemos separar  os dados em variáveis características e resposta  \n",
        "X = dados_final.drop('Churn', axis = 1)\n",
        "y = dados_final['Churn']"
      ],
      "metadata": {
        "id": "6gzRynhh1Qzn"
      },
      "execution_count": 59,
      "outputs": []
    },
    {
      "cell_type": "code",
      "source": [
        "from imblearn.over_sampling import SMOTE\n",
        "\n",
        "smt = SMOTE(random_state=123)  # Instancia um objeto da classe SMOTE\n",
        "X, y = smt.fit_resample(X, y)  # Realiza a reamostragem do conjunto de dados"
      ],
      "metadata": {
        "id": "PDERgQLJ1eee"
      },
      "execution_count": 60,
      "outputs": []
    },
    {
      "cell_type": "code",
      "source": [
        "dados_final = pd.concat([X, y], axis=1)  # Concatena a variável target (y) com as features (X)\n",
        "\n",
        "# Verifica se o balanceamento e a concatenação estão corretos.\n",
        "dados_final.head(2)"
      ],
      "metadata": {
        "colab": {
          "base_uri": "https://localhost:8080/",
          "height": 176
        },
        "id": "7N4sRK2p1jKu",
        "outputId": "8606fee1-dd01-446f-eeab-026a16c117e9"
      },
      "execution_count": 61,
      "outputs": [
        {
          "output_type": "execute_result",
          "data": {
            "text/plain": [
              "   Conjuge  Dependentes  TelefoneFixo  PagamentoOnline  Maior65Anos  \\\n",
              "0        1            0             0                1            0   \n",
              "1        0            0             1                0            0   \n",
              "\n",
              "   MesesDeContrato  ContaMensal  VariasLinhasTelefonicas_Nao  \\\n",
              "0                1        29.85                            0   \n",
              "1               34        56.95                            1   \n",
              "\n",
              "   VariasLinhasTelefonicas_SemServicoTelefonico  VariasLinhasTelefonicas_Sim  \\\n",
              "0                                             1                            0   \n",
              "1                                             0                            0   \n",
              "\n",
              "   ServicoDeInternet_DSL  ServicoDeInternet_FibraOptica  \\\n",
              "0                      1                              0   \n",
              "1                      1                              0   \n",
              "\n",
              "   ServicoDeInternet_Nao  SegurancaOnline_Nao  \\\n",
              "0                      0                    1   \n",
              "1                      0                    0   \n",
              "\n",
              "   SegurancaOnline_SemServicoDeInternet  SegurancaOnline_Sim  \\\n",
              "0                                     0                    0   \n",
              "1                                     0                    1   \n",
              "\n",
              "   BackupOnline_Nao  BackupOnline_SemServicoDeInternet  BackupOnline_Sim  \\\n",
              "0                 0                                  0                 1   \n",
              "1                 1                                  0                 0   \n",
              "\n",
              "   SeguroNoDispositivo_Nao  SeguroNoDispositivo_SemServicoDeInternet  \\\n",
              "0                        1                                         0   \n",
              "1                        0                                         0   \n",
              "\n",
              "   SeguroNoDispositivo_Sim  SuporteTecnico_Nao  \\\n",
              "0                        0                   1   \n",
              "1                        1                   1   \n",
              "\n",
              "   SuporteTecnico_SemServicoDeInternet  SuporteTecnico_Sim  TVaCabo_Nao  \\\n",
              "0                                    0                   0            1   \n",
              "1                                    0                   0            1   \n",
              "\n",
              "   TVaCabo_SemServicoDeInternet  TVaCabo_Sim  StreamingDeFilmes_Nao  \\\n",
              "0                             0            0                      1   \n",
              "1                             0            0                      1   \n",
              "\n",
              "   StreamingDeFilmes_SemServicoDeInternet  StreamingDeFilmes_Sim  \\\n",
              "0                                       0                      0   \n",
              "1                                       0                      0   \n",
              "\n",
              "   TipoDeContrato_DoisAnos  TipoDeContrato_Mensalmente  TipoDeContrato_UmAno  \\\n",
              "0                        0                           1                     0   \n",
              "1                        0                           0                     1   \n",
              "\n",
              "   FormaDePagamento_CartaoDeCredito  FormaDePagamento_ChequeDigital  \\\n",
              "0                                 0                               1   \n",
              "1                                 0                               0   \n",
              "\n",
              "   FormaDePagamento_ChequePapel  FormaDePagamento_DebitoEmConta  Churn  \n",
              "0                             0                               0      0  \n",
              "1                             1                               0      0  "
            ],
            "text/html": [
              "\n",
              "  <div id=\"df-40d495d1-9260-4e41-b42a-2ebb09ad2124\">\n",
              "    <div class=\"colab-df-container\">\n",
              "      <div>\n",
              "<style scoped>\n",
              "    .dataframe tbody tr th:only-of-type {\n",
              "        vertical-align: middle;\n",
              "    }\n",
              "\n",
              "    .dataframe tbody tr th {\n",
              "        vertical-align: top;\n",
              "    }\n",
              "\n",
              "    .dataframe thead th {\n",
              "        text-align: right;\n",
              "    }\n",
              "</style>\n",
              "<table border=\"1\" class=\"dataframe\">\n",
              "  <thead>\n",
              "    <tr style=\"text-align: right;\">\n",
              "      <th></th>\n",
              "      <th>Conjuge</th>\n",
              "      <th>Dependentes</th>\n",
              "      <th>TelefoneFixo</th>\n",
              "      <th>PagamentoOnline</th>\n",
              "      <th>Maior65Anos</th>\n",
              "      <th>MesesDeContrato</th>\n",
              "      <th>ContaMensal</th>\n",
              "      <th>VariasLinhasTelefonicas_Nao</th>\n",
              "      <th>VariasLinhasTelefonicas_SemServicoTelefonico</th>\n",
              "      <th>VariasLinhasTelefonicas_Sim</th>\n",
              "      <th>ServicoDeInternet_DSL</th>\n",
              "      <th>ServicoDeInternet_FibraOptica</th>\n",
              "      <th>ServicoDeInternet_Nao</th>\n",
              "      <th>SegurancaOnline_Nao</th>\n",
              "      <th>SegurancaOnline_SemServicoDeInternet</th>\n",
              "      <th>SegurancaOnline_Sim</th>\n",
              "      <th>BackupOnline_Nao</th>\n",
              "      <th>BackupOnline_SemServicoDeInternet</th>\n",
              "      <th>BackupOnline_Sim</th>\n",
              "      <th>SeguroNoDispositivo_Nao</th>\n",
              "      <th>SeguroNoDispositivo_SemServicoDeInternet</th>\n",
              "      <th>SeguroNoDispositivo_Sim</th>\n",
              "      <th>SuporteTecnico_Nao</th>\n",
              "      <th>SuporteTecnico_SemServicoDeInternet</th>\n",
              "      <th>SuporteTecnico_Sim</th>\n",
              "      <th>TVaCabo_Nao</th>\n",
              "      <th>TVaCabo_SemServicoDeInternet</th>\n",
              "      <th>TVaCabo_Sim</th>\n",
              "      <th>StreamingDeFilmes_Nao</th>\n",
              "      <th>StreamingDeFilmes_SemServicoDeInternet</th>\n",
              "      <th>StreamingDeFilmes_Sim</th>\n",
              "      <th>TipoDeContrato_DoisAnos</th>\n",
              "      <th>TipoDeContrato_Mensalmente</th>\n",
              "      <th>TipoDeContrato_UmAno</th>\n",
              "      <th>FormaDePagamento_CartaoDeCredito</th>\n",
              "      <th>FormaDePagamento_ChequeDigital</th>\n",
              "      <th>FormaDePagamento_ChequePapel</th>\n",
              "      <th>FormaDePagamento_DebitoEmConta</th>\n",
              "      <th>Churn</th>\n",
              "    </tr>\n",
              "  </thead>\n",
              "  <tbody>\n",
              "    <tr>\n",
              "      <th>0</th>\n",
              "      <td>1</td>\n",
              "      <td>0</td>\n",
              "      <td>0</td>\n",
              "      <td>1</td>\n",
              "      <td>0</td>\n",
              "      <td>1</td>\n",
              "      <td>29.85</td>\n",
              "      <td>0</td>\n",
              "      <td>1</td>\n",
              "      <td>0</td>\n",
              "      <td>1</td>\n",
              "      <td>0</td>\n",
              "      <td>0</td>\n",
              "      <td>1</td>\n",
              "      <td>0</td>\n",
              "      <td>0</td>\n",
              "      <td>0</td>\n",
              "      <td>0</td>\n",
              "      <td>1</td>\n",
              "      <td>1</td>\n",
              "      <td>0</td>\n",
              "      <td>0</td>\n",
              "      <td>1</td>\n",
              "      <td>0</td>\n",
              "      <td>0</td>\n",
              "      <td>1</td>\n",
              "      <td>0</td>\n",
              "      <td>0</td>\n",
              "      <td>1</td>\n",
              "      <td>0</td>\n",
              "      <td>0</td>\n",
              "      <td>0</td>\n",
              "      <td>1</td>\n",
              "      <td>0</td>\n",
              "      <td>0</td>\n",
              "      <td>1</td>\n",
              "      <td>0</td>\n",
              "      <td>0</td>\n",
              "      <td>0</td>\n",
              "    </tr>\n",
              "    <tr>\n",
              "      <th>1</th>\n",
              "      <td>0</td>\n",
              "      <td>0</td>\n",
              "      <td>1</td>\n",
              "      <td>0</td>\n",
              "      <td>0</td>\n",
              "      <td>34</td>\n",
              "      <td>56.95</td>\n",
              "      <td>1</td>\n",
              "      <td>0</td>\n",
              "      <td>0</td>\n",
              "      <td>1</td>\n",
              "      <td>0</td>\n",
              "      <td>0</td>\n",
              "      <td>0</td>\n",
              "      <td>0</td>\n",
              "      <td>1</td>\n",
              "      <td>1</td>\n",
              "      <td>0</td>\n",
              "      <td>0</td>\n",
              "      <td>0</td>\n",
              "      <td>0</td>\n",
              "      <td>1</td>\n",
              "      <td>1</td>\n",
              "      <td>0</td>\n",
              "      <td>0</td>\n",
              "      <td>1</td>\n",
              "      <td>0</td>\n",
              "      <td>0</td>\n",
              "      <td>1</td>\n",
              "      <td>0</td>\n",
              "      <td>0</td>\n",
              "      <td>0</td>\n",
              "      <td>0</td>\n",
              "      <td>1</td>\n",
              "      <td>0</td>\n",
              "      <td>0</td>\n",
              "      <td>1</td>\n",
              "      <td>0</td>\n",
              "      <td>0</td>\n",
              "    </tr>\n",
              "  </tbody>\n",
              "</table>\n",
              "</div>\n",
              "      <button class=\"colab-df-convert\" onclick=\"convertToInteractive('df-40d495d1-9260-4e41-b42a-2ebb09ad2124')\"\n",
              "              title=\"Convert this dataframe to an interactive table.\"\n",
              "              style=\"display:none;\">\n",
              "        \n",
              "  <svg xmlns=\"http://www.w3.org/2000/svg\" height=\"24px\"viewBox=\"0 0 24 24\"\n",
              "       width=\"24px\">\n",
              "    <path d=\"M0 0h24v24H0V0z\" fill=\"none\"/>\n",
              "    <path d=\"M18.56 5.44l.94 2.06.94-2.06 2.06-.94-2.06-.94-.94-2.06-.94 2.06-2.06.94zm-11 1L8.5 8.5l.94-2.06 2.06-.94-2.06-.94L8.5 2.5l-.94 2.06-2.06.94zm10 10l.94 2.06.94-2.06 2.06-.94-2.06-.94-.94-2.06-.94 2.06-2.06.94z\"/><path d=\"M17.41 7.96l-1.37-1.37c-.4-.4-.92-.59-1.43-.59-.52 0-1.04.2-1.43.59L10.3 9.45l-7.72 7.72c-.78.78-.78 2.05 0 2.83L4 21.41c.39.39.9.59 1.41.59.51 0 1.02-.2 1.41-.59l7.78-7.78 2.81-2.81c.8-.78.8-2.07 0-2.86zM5.41 20L4 18.59l7.72-7.72 1.47 1.35L5.41 20z\"/>\n",
              "  </svg>\n",
              "      </button>\n",
              "      \n",
              "  <style>\n",
              "    .colab-df-container {\n",
              "      display:flex;\n",
              "      flex-wrap:wrap;\n",
              "      gap: 12px;\n",
              "    }\n",
              "\n",
              "    .colab-df-convert {\n",
              "      background-color: #E8F0FE;\n",
              "      border: none;\n",
              "      border-radius: 50%;\n",
              "      cursor: pointer;\n",
              "      display: none;\n",
              "      fill: #1967D2;\n",
              "      height: 32px;\n",
              "      padding: 0 0 0 0;\n",
              "      width: 32px;\n",
              "    }\n",
              "\n",
              "    .colab-df-convert:hover {\n",
              "      background-color: #E2EBFA;\n",
              "      box-shadow: 0px 1px 2px rgba(60, 64, 67, 0.3), 0px 1px 3px 1px rgba(60, 64, 67, 0.15);\n",
              "      fill: #174EA6;\n",
              "    }\n",
              "\n",
              "    [theme=dark] .colab-df-convert {\n",
              "      background-color: #3B4455;\n",
              "      fill: #D2E3FC;\n",
              "    }\n",
              "\n",
              "    [theme=dark] .colab-df-convert:hover {\n",
              "      background-color: #434B5C;\n",
              "      box-shadow: 0px 1px 3px 1px rgba(0, 0, 0, 0.15);\n",
              "      filter: drop-shadow(0px 1px 2px rgba(0, 0, 0, 0.3));\n",
              "      fill: #FFFFFF;\n",
              "    }\n",
              "  </style>\n",
              "\n",
              "      <script>\n",
              "        const buttonEl =\n",
              "          document.querySelector('#df-40d495d1-9260-4e41-b42a-2ebb09ad2124 button.colab-df-convert');\n",
              "        buttonEl.style.display =\n",
              "          google.colab.kernel.accessAllowed ? 'block' : 'none';\n",
              "\n",
              "        async function convertToInteractive(key) {\n",
              "          const element = document.querySelector('#df-40d495d1-9260-4e41-b42a-2ebb09ad2124');\n",
              "          const dataTable =\n",
              "            await google.colab.kernel.invokeFunction('convertToInteractive',\n",
              "                                                     [key], {});\n",
              "          if (!dataTable) return;\n",
              "\n",
              "          const docLinkHtml = 'Like what you see? Visit the ' +\n",
              "            '<a target=\"_blank\" href=https://colab.research.google.com/notebooks/data_table.ipynb>data table notebook</a>'\n",
              "            + ' to learn more about interactive tables.';\n",
              "          element.innerHTML = '';\n",
              "          dataTable['output_type'] = 'display_data';\n",
              "          await google.colab.output.renderOutput(dataTable, element);\n",
              "          const docLink = document.createElement('div');\n",
              "          docLink.innerHTML = docLinkHtml;\n",
              "          element.appendChild(docLink);\n",
              "        }\n",
              "      </script>\n",
              "    </div>\n",
              "  </div>\n",
              "  "
            ]
          },
          "metadata": {},
          "execution_count": 61
        }
      ]
    },
    {
      "cell_type": "markdown",
      "source": [
        "Plot the balanced variable"
      ],
      "metadata": {
        "id": "--rL-95r1uK_"
      }
    },
    {
      "cell_type": "code",
      "source": [
        "ax = sns.countplot(x='Churn', data=dados_final)  # plotando a variável target balanceada."
      ],
      "metadata": {
        "colab": {
          "base_uri": "https://localhost:8080/",
          "height": 279
        },
        "id": "wDsqek4I1ssK",
        "outputId": "95d7312a-f124-453f-abdf-b1dabf24f53d"
      },
      "execution_count": 62,
      "outputs": [
        {
          "output_type": "display_data",
          "data": {
            "text/plain": [
              "<Figure size 432x288 with 1 Axes>"
            ],
            "image/png": "[encoded data removed]"
          },
          "metadata": {
            "needs_background": "light"
          }
        }
      ]
    },
    {
      "cell_type": "markdown",
      "source": [
        "## Intuitively, how the algorithm works?"
      ],
      "metadata": {
        "id": "-l6cKL5VzQWE"
      }
    },
    {
      "cell_type": "markdown",
      "source": [
        "X stands for our inputs (all columns above except one). Y stands for our output, which is churn in this case, a variable indicating if the client left or not the company.\n",
        "\n",
        "Yi = f(Xi) where f(x) is a function determined by the algorithm from the train with the Xs. Thus the machine receive the Xi, is trained until determine a function which is equal to predicted Yi."
      ],
      "metadata": {
        "id": "HPDfG9pyySK5"
      }
    },
    {
      "cell_type": "markdown",
      "source": [
        "So far, our example deals with a binary output Y (1/0). But this could have more than 2 categories, for example:\n",
        "* K-Nearest Neighbors (KNN)\n",
        "* Support Vector Machine (SVM)\n",
        "* Decision Tree Classifier\n",
        "* Random Forest Classifier\n",
        "\n",
        "If we are predicting a continuos value instead, then a regression algorithm should be employed:\n",
        "* Linear Regression;\n",
        "* Random Forest Regressor;\n",
        "* Support Vector Regression (SVR)."
      ],
      "metadata": {
        "id": "nk7O2YTA2XJF"
      }
    },
    {
      "cell_type": "markdown",
      "source": [
        "## K-Nearest Neighbors (KNN)"
      ],
      "metadata": {
        "id": "0X9fTJk92B0w"
      }
    },
    {
      "cell_type": "markdown",
      "source": [
        "Given a new observation, the machine classifies it with the most similar (close) existent observations. So the new observation is calculate from the similarity/disimilarity with other observations."
      ],
      "metadata": {
        "id": "2Uyg7ZSN2bVP"
      }
    },
    {
      "cell_type": "markdown",
      "source": [
        "For example, given a set of covariates from a given individual, how the machine will classify this person?"
      ],
      "metadata": {
        "id": "2MyyiD-QzC88"
      }
    },
    {
      "cell_type": "code",
      "source": [
        "# covariates from Maria for example\n",
        "Xmaria = [[0,0,1,1,0,0,39.90,1,0,0,0,1,0,0,0,0,1,1,1,0,0,1,1,0,0,0,0,1,0,0,1,0,0,0,1,0,0,1]]"
      ],
      "metadata": {
        "id": "z2d-svTBzKuD"
      },
      "execution_count": 70,
      "outputs": []
    },
    {
      "cell_type": "markdown",
      "source": [
        "From our model, we want to predict the Ymaria"
      ],
      "metadata": {
        "id": "fjWAk4_X7VGE"
      }
    },
    {
      "cell_type": "markdown",
      "source": [
        "It will look the K neighbours of Xmaria and classifies Xmaria as the closest K neighbours. For example K=3, the algorithm checks the closes 3 neighbours of Xmaria. If 2 of them left the organization (churn, or Y, =1) and only 1 kept in the organization (churn, or Y,=0) then Xmaria will be classified as churn=1 (like the 2 closest neighbours). K could be lower or higher."
      ],
      "metadata": {
        "id": "FeYyJ9Sd4IPn"
      }
    },
    {
      "cell_type": "markdown",
      "source": [
        "K calculates the distances from the new observations. But the size of K can pose issues:\n",
        "* Small K -> Overffiting. Thus the model only recognizes data very similar to the one already used to test the model (remember that all machine learning algorithms separate 70% of the sample to train the data and create the f(x) and uses the remaining 30% of the sample to test the algorithm, product of the trainment of the data).\n",
        "* High K -> Underffiting. The model will have a lot of neighbours, so many classes, and will classify wrongly. \n",
        "\n",
        "Other issue related to K model is the scale used to calculate the distance from the new obs with the data."
      ],
      "metadata": {
        "id": "9MUiHcTq6HSq"
      }
    },
    {
      "cell_type": "markdown",
      "source": [
        "Calulate the distances from Xmaria to our data. First, let divid our data in X (input data) and Y (output data)"
      ],
      "metadata": {
        "id": "rsmIlVuY5V5b"
      }
    },
    {
      "cell_type": "code",
      "source": [
        "X = dados_final.drop('Churn', axis = 1) # all columns except column churn (Y)\n",
        "y = dados_final['Churn'] # is the column churn"
      ],
      "metadata": {
        "id": "yeBjSnB17tlV"
      },
      "execution_count": 64,
      "outputs": []
    },
    {
      "cell_type": "markdown",
      "source": [
        "Set the same scale for the distances"
      ],
      "metadata": {
        "id": "2466X4Hu79x1"
      }
    },
    {
      "cell_type": "code",
      "source": [
        "from sklearn.preprocessing import StandardScaler # this function will calculate the distance divided by the sdd deviation from Xmaria to all Xs.\n",
        "norm = StandardScaler()\n",
        "X_normalizado = norm.fit_transform(X)\n",
        "X_normalizado"
      ],
      "metadata": {
        "colab": {
          "base_uri": "https://localhost:8080/"
        },
        "id": "5w0yopuf8EcE",
        "outputId": "7f1a4bbd-4fd7-4ed5-a1f6-8bb5a9c1b557"
      },
      "execution_count": 65,
      "outputs": [
        {
          "output_type": "execute_result",
          "data": {
            "text/plain": [
              "array([[ 1.26542767, -0.52756038, -3.06083934, ...,  1.30292044,\n",
              "        -0.47943196, -0.43617215],\n",
              "       [-0.79024667, -0.52756038,  0.32670777, ..., -0.76750657,\n",
              "         2.08580171, -0.43617215],\n",
              "       [-0.79024667, -0.52756038,  0.32670777, ..., -0.76750657,\n",
              "         2.08580171, -0.43617215],\n",
              "       ...,\n",
              "       [-0.79024667, -0.52756038,  0.32670777, ...,  1.30292044,\n",
              "        -0.47943196, -0.43617215],\n",
              "       [-0.79024667, -0.52756038,  0.32670777, ..., -0.76750657,\n",
              "        -0.47943196, -0.43617215],\n",
              "       [-0.79024667, -0.52756038,  0.32670777, ..., -0.76750657,\n",
              "        -0.47943196, -0.43617215]])"
            ]
          },
          "metadata": {},
          "execution_count": 65
        }
      ]
    },
    {
      "cell_type": "markdown",
      "source": [
        "You can see only one observation at time"
      ],
      "metadata": {
        "id": "2d4PuicX81hf"
      }
    },
    {
      "cell_type": "code",
      "source": [
        "X_normalizado[0]"
      ],
      "metadata": {
        "colab": {
          "base_uri": "https://localhost:8080/"
        },
        "id": "oHqgoTKB834T",
        "outputId": "64399402-d6f8-4366-d79f-f261b5ef34e9"
      },
      "execution_count": 66,
      "outputs": [
        {
          "output_type": "execute_result",
          "data": {
            "text/plain": [
              "array([ 1.26542767, -0.52756038, -3.06083934,  0.8149851 , -0.41334384,\n",
              "       -1.10768354, -1.32176205, -0.88482108,  3.18604176, -0.83366906,\n",
              "        1.51268338, -1.04386816, -0.44617598,  0.868102  , -0.44617598,\n",
              "       -0.5173695 , -0.95871762, -0.44617598,  1.57389661,  1.04326198,\n",
              "       -0.44617598, -0.64211419,  0.87997069, -0.44617598, -0.52426638,\n",
              "        1.18643645, -0.44617598, -0.77707385,  1.2033586 , -0.44617598,\n",
              "       -0.78992399, -0.44648735,  0.73773107, -0.41989297, -0.42576817,\n",
              "        1.30292044, -0.47943196, -0.43617215])"
            ]
          },
          "metadata": {},
          "execution_count": 66
        }
      ]
    },
    {
      "cell_type": "markdown",
      "source": [
        "Normalize the new obs, Xmaria"
      ],
      "metadata": {
        "id": "xh5glND_9DoL"
      }
    },
    {
      "cell_type": "code",
      "source": [
        "Xmaria_normalizado = norm.transform(pd.DataFrame(Xmaria, columns = X.columns))\n",
        "X_normalizado"
      ],
      "metadata": {
        "colab": {
          "base_uri": "https://localhost:8080/"
        },
        "id": "12xMmM4P9Fun",
        "outputId": "fa7ffe46-bd57-42a3-f23e-4a91806ad32c"
      },
      "execution_count": 73,
      "outputs": [
        {
          "output_type": "execute_result",
          "data": {
            "text/plain": [
              "array([[ 1.26542767, -0.52756038, -3.06083934, ...,  1.30292044,\n",
              "        -0.47943196, -0.43617215],\n",
              "       [-0.79024667, -0.52756038,  0.32670777, ..., -0.76750657,\n",
              "         2.08580171, -0.43617215],\n",
              "       [-0.79024667, -0.52756038,  0.32670777, ..., -0.76750657,\n",
              "         2.08580171, -0.43617215],\n",
              "       ...,\n",
              "       [-0.79024667, -0.52756038,  0.32670777, ...,  1.30292044,\n",
              "        -0.47943196, -0.43617215],\n",
              "       [-0.79024667, -0.52756038,  0.32670777, ..., -0.76750657,\n",
              "        -0.47943196, -0.43617215],\n",
              "       [-0.79024667, -0.52756038,  0.32670777, ..., -0.76750657,\n",
              "        -0.47943196, -0.43617215]])"
            ]
          },
          "metadata": {},
          "execution_count": 73
        }
      ]
    },
    {
      "cell_type": "markdown",
      "source": [
        "Calculate euclidean distance, see formula at Wiki. Example using Xmaria and obs 0, x_normalizado[0]. "
      ],
      "metadata": {
        "id": "49Exkk3XAx7g"
      }
    },
    {
      "cell_type": "code",
      "source": [
        "a = Xmaria_normalizado\n",
        "b = X_normalizado[0]\n",
        "a - b\n",
        "np.square(a-b)\n",
        "np.sum(np.square(a-b))\n",
        "np.sqrt(84.07574038273466) # the result is the distance between Xmaria and obs 0"
      ],
      "metadata": {
        "colab": {
          "base_uri": "https://localhost:8080/"
        },
        "id": "rBvFaLiPA18m",
        "outputId": "8a90becf-8950-4dab-ef46-f15b9b618bb5"
      },
      "execution_count": 74,
      "outputs": [
        {
          "output_type": "execute_result",
          "data": {
            "text/plain": [
              "9.169282435541762"
            ]
          },
          "metadata": {},
          "execution_count": 74
        }
      ]
    },
    {
      "cell_type": "markdown",
      "source": [
        "You can modify the distance using the metric from the function `sklearn.neighbors.KNeighborsClassifier`, options:\n",
        "*“euclidean” \n",
        "*“manhattan” \n",
        "*“minkowski” \n",
        "*“chebyshev” \n",
        "See more at [SK learn documentation](https://scikit-learn.org/stable/modules/generated/sklearn.metrics.DistanceMetric.html#sklearn.metrics.DistanceMetric)"
      ],
      "metadata": {
        "id": "ryKTjD3xEFVf"
      }
    },
    {
      "cell_type": "markdown",
      "source": [
        "You can calculate the distance from the new obs to some more obs"
      ],
      "metadata": {
        "id": "HS4JJSsbHC_5"
      }
    },
    {
      "cell_type": "code",
      "source": [
        "def calcula_distancia(dados_clientes, dados_maria, numero_clientes):\n",
        "    distancias = []\n",
        "\n",
        "#loop para percorrer cliente por cliente\n",
        "    for i in range(numero_clientes):\n",
        "        dist1 = dados_maria - dados_clientes[i]            #subtração dos atributos\n",
        "        soma_quadrado = np.sum(np.square(dist1))    #exponenciação e soma de todos os atributos\n",
        "        distancias.append(np.sqrt(soma_quadrado))   #raiz quadrada da soma anterior\n",
        "\n",
        "    return distancias"
      ],
      "metadata": {
        "id": "KmlDV8NUHGfj"
      },
      "execution_count": 79,
      "outputs": []
    },
    {
      "cell_type": "code",
      "source": [
        "calcula_distancia(X_normalizado, Xmaria_normalizado, 10)"
      ],
      "metadata": {
        "colab": {
          "base_uri": "https://localhost:8080/"
        },
        "id": "VJRbppayHNXu",
        "outputId": "5f82e363-8bf1-4b74-f1e5-59a671c493a3"
      },
      "execution_count": 80,
      "outputs": [
        {
          "output_type": "execute_result",
          "data": {
            "text/plain": [
              "[10.275110925412708,\n",
              " 8.926544306829104,\n",
              " 8.826222021918555,\n",
              " 10.226639160447544,\n",
              " 8.16933002699495,\n",
              " 7.253738644438411,\n",
              " 7.885415645182626,\n",
              " 10.525525421070496,\n",
              " 8.297419537324844,\n",
              " 9.172369873416589]"
            ]
          },
          "metadata": {},
          "execution_count": 80
        }
      ]
    },
    {
      "cell_type": "markdown",
      "source": [
        "### Implement model"
      ],
      "metadata": {
        "id": "9ZFz8MkwE6pt"
      }
    },
    {
      "cell_type": "markdown",
      "source": [
        "Divide our sample again between Xtrain, Xtest, Y train, Ytest"
      ],
      "metadata": {
        "id": "xWaVFEV1FAzF"
      }
    },
    {
      "cell_type": "code",
      "source": [
        "from sklearn.model_selection import train_test_split\n",
        "X_treino, X_teste, y_treino, y_teste = train_test_split(X_normalizado, y, test_size=0.3, random_state=123) # 0.3 stands for 30% sample for the test"
      ],
      "metadata": {
        "id": "TgKQCNPCE8eK"
      },
      "execution_count": 75,
      "outputs": []
    },
    {
      "cell_type": "markdown",
      "source": [
        "Set the model"
      ],
      "metadata": {
        "id": "y4Kg9ilOGWAM"
      }
    },
    {
      "cell_type": "code",
      "source": [
        "# separate train and test\n",
        "from sklearn.neighbors import KNeighborsClassifier\n",
        "knn = KNeighborsClassifier(metric='euclidean') # standard K=5, metric defines the distance (euclidean in this case)"
      ],
      "metadata": {
        "id": "qE2jjf0UF3rC"
      },
      "execution_count": 76,
      "outputs": []
    },
    {
      "cell_type": "markdown",
      "source": [
        "Train the model"
      ],
      "metadata": {
        "id": "uVcEuoH4GXWG"
      }
    },
    {
      "cell_type": "code",
      "source": [
        "knn.fit(X_treino, y_treino)"
      ],
      "metadata": {
        "colab": {
          "base_uri": "https://localhost:8080/"
        },
        "id": "c69AYdZqGYi7",
        "outputId": "2c776d17-bc62-4b2b-a7cd-2481d3471fb5"
      },
      "execution_count": 77,
      "outputs": [
        {
          "output_type": "execute_result",
          "data": {
            "text/plain": [
              "KNeighborsClassifier(metric='euclidean')"
            ]
          },
          "metadata": {},
          "execution_count": 77
        }
      ]
    },
    {
      "cell_type": "markdown",
      "source": [
        "Predict the results"
      ],
      "metadata": {
        "id": "yHrxy83DGvAe"
      }
    },
    {
      "cell_type": "code",
      "source": [
        "predito_knn = knn.predict(X_teste) # apply the model to the X test\n",
        "predito_knn # shows the predicted results"
      ],
      "metadata": {
        "colab": {
          "base_uri": "https://localhost:8080/"
        },
        "id": "1oC8WlPiGoNS",
        "outputId": "19dddc65-56bf-4ac7-dbe4-356d143cf37a"
      },
      "execution_count": 78,
      "outputs": [
        {
          "output_type": "execute_result",
          "data": {
            "text/plain": [
              "array([1, 0, 0, ..., 0, 1, 1])"
            ]
          },
          "metadata": {},
          "execution_count": 78
        }
      ]
    },
    {
      "cell_type": "markdown",
      "source": [
        "## Bernoulli naïve model"
      ],
      "metadata": {
        "id": "AsJ24WMXPMF3"
      }
    },
    {
      "cell_type": "markdown",
      "source": [
        "Lets use the Bernoulli naïve model, which is a model using probability and which ignores the correlation between variables. THe 3 models most used with the algorithm Bernouilli naïve are:\n",
        "`BernoulliNB(), GaussianNB() e MultinomialNB()`"
      ],
      "metadata": {
        "id": "HZIBOJD9MqDH"
      }
    },
    {
      "cell_type": "code",
      "source": [
        "# import\n",
        "from sklearn.naive_bayes import BernoulliNB"
      ],
      "metadata": {
        "id": "vywK0K3WMtAK"
      },
      "execution_count": 81,
      "outputs": []
    },
    {
      "cell_type": "code",
      "source": [
        "# create median of the X train, this will be pur threshold in the model below\n",
        "np.median(X_treino)"
      ],
      "metadata": {
        "colab": {
          "base_uri": "https://localhost:8080/"
        },
        "id": "Tl0EOQsRNSOQ",
        "outputId": "3f341740-c14a-45b9-b568-a423521cf7c7"
      },
      "execution_count": 82,
      "outputs": [
        {
          "output_type": "execute_result",
          "data": {
            "text/plain": [
              "-0.4461759755508453"
            ]
          },
          "metadata": {},
          "execution_count": 82
        }
      ]
    },
    {
      "cell_type": "code",
      "source": [
        "bnb = BernoulliNB(binarize=-0.44) # function creates 1 if value above 0.44, 0 otherwise"
      ],
      "metadata": {
        "id": "Fo6h6-p4Otd5"
      },
      "execution_count": 84,
      "outputs": []
    },
    {
      "cell_type": "markdown",
      "source": [
        "Train model"
      ],
      "metadata": {
        "id": "d6qxc1fIO-B1"
      }
    },
    {
      "cell_type": "code",
      "source": [
        "bnb.fit(X_treino, y_treino)"
      ],
      "metadata": {
        "colab": {
          "base_uri": "https://localhost:8080/"
        },
        "id": "_pomXB9UO-9A",
        "outputId": "3979efba-3534-4c19-b83f-5fa9419f8480"
      },
      "execution_count": 85,
      "outputs": [
        {
          "output_type": "execute_result",
          "data": {
            "text/plain": [
              "BernoulliNB(binarize=-0.44)"
            ]
          },
          "metadata": {},
          "execution_count": 85
        }
      ]
    },
    {
      "cell_type": "markdown",
      "source": [
        "Predict with the model"
      ],
      "metadata": {
        "id": "CYrpNc2KPchQ"
      }
    },
    {
      "cell_type": "code",
      "source": [
        "predito_Bnb = bnb.predict(X_teste)"
      ],
      "metadata": {
        "id": "eOg5so_jPaoI"
      },
      "execution_count": 86,
      "outputs": []
    }
  ]
}